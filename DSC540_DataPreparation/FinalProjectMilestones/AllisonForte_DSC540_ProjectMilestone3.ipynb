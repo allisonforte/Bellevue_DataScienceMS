{
 "cells": [
  {
   "cell_type": "markdown",
   "id": "5cf75eab",
   "metadata": {},
   "source": [
    "Allison Forte\n",
    "\n",
    "DSC 540\n",
    "\n",
    "Project: Milestone 3\n",
    "\n",
    "July 17, 2022"
   ]
  },
  {
   "cell_type": "markdown",
   "id": "509469ac",
   "metadata": {},
   "source": [
    "# Cleaning and formatting the website data\n",
    "Perform at least 5 data transformation and/or cleansing steps to your flat file data. Label each transformation (Step #1, Step #2, etc.) in your code and describe what it is doing in 1-2 sentences."
   ]
  },
  {
   "cell_type": "code",
   "execution_count": 112,
   "id": "a49a5eef",
   "metadata": {},
   "outputs": [
    {
     "name": "stdout",
     "output_type": "stream",
     "text": [
      "\n",
      "The shape of this dataset is  (31, 4)\n"
     ]
    },
    {
     "data": {
      "text/html": [
       "<div>\n",
       "<style scoped>\n",
       "    .dataframe tbody tr th:only-of-type {\n",
       "        vertical-align: middle;\n",
       "    }\n",
       "\n",
       "    .dataframe tbody tr th {\n",
       "        vertical-align: top;\n",
       "    }\n",
       "\n",
       "    .dataframe thead th {\n",
       "        text-align: right;\n",
       "    }\n",
       "</style>\n",
       "<table border=\"1\" class=\"dataframe\">\n",
       "  <thead>\n",
       "    <tr style=\"text-align: right;\">\n",
       "      <th></th>\n",
       "      <th>Currency</th>\n",
       "      <th>Currency Name</th>\n",
       "      <th>Exchange Rate = 1 EUR</th>\n",
       "      <th>Convert</th>\n",
       "    </tr>\n",
       "  </thead>\n",
       "  <tbody>\n",
       "    <tr>\n",
       "      <th>0</th>\n",
       "      <td>USD</td>\n",
       "      <td>US dollar</td>\n",
       "      <td>1.0245</td>\n",
       "      <td>NaN</td>\n",
       "    </tr>\n",
       "    <tr>\n",
       "      <th>1</th>\n",
       "      <td>JPY</td>\n",
       "      <td>Japanese yen</td>\n",
       "      <td>141.0100</td>\n",
       "      <td>NaN</td>\n",
       "    </tr>\n",
       "    <tr>\n",
       "      <th>2</th>\n",
       "      <td>BGN</td>\n",
       "      <td>Bulgarian lev</td>\n",
       "      <td>1.9558</td>\n",
       "      <td>NaN</td>\n",
       "    </tr>\n",
       "    <tr>\n",
       "      <th>3</th>\n",
       "      <td>CZK</td>\n",
       "      <td>Czech koruna</td>\n",
       "      <td>24.5550</td>\n",
       "      <td>NaN</td>\n",
       "    </tr>\n",
       "    <tr>\n",
       "      <th>4</th>\n",
       "      <td>DKK</td>\n",
       "      <td>Danish krone</td>\n",
       "      <td>7.4449</td>\n",
       "      <td>NaN</td>\n",
       "    </tr>\n",
       "  </tbody>\n",
       "</table>\n",
       "</div>"
      ],
      "text/plain": [
       "  Currency  Currency Name  Exchange Rate = 1 EUR  Convert\n",
       "0      USD      US dollar                 1.0245      NaN\n",
       "1      JPY   Japanese yen               141.0100      NaN\n",
       "2      BGN  Bulgarian lev                 1.9558      NaN\n",
       "3      CZK   Czech koruna                24.5550      NaN\n",
       "4      DKK   Danish krone                 7.4449      NaN"
      ]
     },
     "execution_count": 112,
     "metadata": {},
     "output_type": "execute_result"
    }
   ],
   "source": [
    "#  Install libraries\n",
    "\n",
    "import lxml\n",
    "import html5lib\n",
    "import pandas as pd\n",
    "\n",
    "\n",
    "# Read the website data\n",
    "\n",
    "url1 = 'https://www.iban.com/exchange-rates'\n",
    "dfs1 = pd.read_html(url1)\n",
    "df_convert = dfs1[0]\n",
    "print('\\nThe shape of this dataset is ', df_convert.shape)\n",
    "df_convert.head()"
   ]
  },
  {
   "cell_type": "code",
   "execution_count": 113,
   "id": "5ada57af",
   "metadata": {},
   "outputs": [
    {
     "name": "stdout",
     "output_type": "stream",
     "text": [
      "\n",
      "The new shape of this dataset is  (32, 4)\n"
     ]
    },
    {
     "data": {
      "text/html": [
       "<div>\n",
       "<style scoped>\n",
       "    .dataframe tbody tr th:only-of-type {\n",
       "        vertical-align: middle;\n",
       "    }\n",
       "\n",
       "    .dataframe tbody tr th {\n",
       "        vertical-align: top;\n",
       "    }\n",
       "\n",
       "    .dataframe thead th {\n",
       "        text-align: right;\n",
       "    }\n",
       "</style>\n",
       "<table border=\"1\" class=\"dataframe\">\n",
       "  <thead>\n",
       "    <tr style=\"text-align: right;\">\n",
       "      <th></th>\n",
       "      <th>Currency</th>\n",
       "      <th>Currency Name</th>\n",
       "      <th>Exchange Rate = 1 EUR</th>\n",
       "      <th>Convert</th>\n",
       "    </tr>\n",
       "  </thead>\n",
       "  <tbody>\n",
       "    <tr>\n",
       "      <th>0</th>\n",
       "      <td>USD</td>\n",
       "      <td>US dollar</td>\n",
       "      <td>1.0245</td>\n",
       "      <td>NaN</td>\n",
       "    </tr>\n",
       "    <tr>\n",
       "      <th>1</th>\n",
       "      <td>JPY</td>\n",
       "      <td>Japanese yen</td>\n",
       "      <td>141.0100</td>\n",
       "      <td>NaN</td>\n",
       "    </tr>\n",
       "    <tr>\n",
       "      <th>2</th>\n",
       "      <td>BGN</td>\n",
       "      <td>Bulgarian lev</td>\n",
       "      <td>1.9558</td>\n",
       "      <td>NaN</td>\n",
       "    </tr>\n",
       "    <tr>\n",
       "      <th>3</th>\n",
       "      <td>CZK</td>\n",
       "      <td>Czech koruna</td>\n",
       "      <td>24.5550</td>\n",
       "      <td>NaN</td>\n",
       "    </tr>\n",
       "    <tr>\n",
       "      <th>4</th>\n",
       "      <td>DKK</td>\n",
       "      <td>Danish krone</td>\n",
       "      <td>7.4449</td>\n",
       "      <td>NaN</td>\n",
       "    </tr>\n",
       "  </tbody>\n",
       "</table>\n",
       "</div>"
      ],
      "text/plain": [
       "  Currency  Currency Name  Exchange Rate = 1 EUR Convert\n",
       "0      USD      US dollar                 1.0245     NaN\n",
       "1      JPY   Japanese yen               141.0100     NaN\n",
       "2      BGN  Bulgarian lev                 1.9558     NaN\n",
       "3      CZK   Czech koruna                24.5550     NaN\n",
       "4      DKK   Danish krone                 7.4449     NaN"
      ]
     },
     "execution_count": 113,
     "metadata": {},
     "output_type": "execute_result"
    }
   ],
   "source": [
    "# Add one row with EUR conversion  rate since the table is based on a EUR conversion rate\n",
    "\n",
    "new_row = {'Currency':'EUR', 'Currency Name': 'Euro', 'Exchange Rate = 1 EUR':1, 'Convert':'NaN'}\n",
    "df_convert = df_convert.append(new_row, ignore_index=True)\n",
    "\n",
    "print('\\nThe new shape of this dataset is ', df_convert.shape)\n",
    "df_convert.head()"
   ]
  },
  {
   "cell_type": "code",
   "execution_count": 114,
   "id": "8ce0fd7c",
   "metadata": {},
   "outputs": [
    {
     "name": "stdout",
     "output_type": "stream",
     "text": [
      "\n",
      "The shape of this dataset is  (269, 4)\n"
     ]
    },
    {
     "data": {
      "text/html": [
       "<div>\n",
       "<style scoped>\n",
       "    .dataframe tbody tr th:only-of-type {\n",
       "        vertical-align: middle;\n",
       "    }\n",
       "\n",
       "    .dataframe tbody tr th {\n",
       "        vertical-align: top;\n",
       "    }\n",
       "\n",
       "    .dataframe thead th {\n",
       "        text-align: right;\n",
       "    }\n",
       "</style>\n",
       "<table border=\"1\" class=\"dataframe\">\n",
       "  <thead>\n",
       "    <tr style=\"text-align: right;\">\n",
       "      <th></th>\n",
       "      <th>Country</th>\n",
       "      <th>Currency</th>\n",
       "      <th>Code</th>\n",
       "      <th>Number</th>\n",
       "    </tr>\n",
       "  </thead>\n",
       "  <tbody>\n",
       "    <tr>\n",
       "      <th>0</th>\n",
       "      <td>AFGHANISTAN</td>\n",
       "      <td>Afghani</td>\n",
       "      <td>AFN</td>\n",
       "      <td>971.0</td>\n",
       "    </tr>\n",
       "    <tr>\n",
       "      <th>1</th>\n",
       "      <td>ÅLAND ISLANDS</td>\n",
       "      <td>Euro</td>\n",
       "      <td>EUR</td>\n",
       "      <td>978.0</td>\n",
       "    </tr>\n",
       "    <tr>\n",
       "      <th>2</th>\n",
       "      <td>ALBANIA</td>\n",
       "      <td>Lek</td>\n",
       "      <td>ALL</td>\n",
       "      <td>8.0</td>\n",
       "    </tr>\n",
       "    <tr>\n",
       "      <th>3</th>\n",
       "      <td>ALGERIA</td>\n",
       "      <td>Algerian Dinar</td>\n",
       "      <td>DZD</td>\n",
       "      <td>12.0</td>\n",
       "    </tr>\n",
       "    <tr>\n",
       "      <th>4</th>\n",
       "      <td>AMERICAN SAMOA</td>\n",
       "      <td>US Dollar</td>\n",
       "      <td>USD</td>\n",
       "      <td>840.0</td>\n",
       "    </tr>\n",
       "  </tbody>\n",
       "</table>\n",
       "</div>"
      ],
      "text/plain": [
       "          Country        Currency Code  Number\n",
       "0     AFGHANISTAN         Afghani  AFN   971.0\n",
       "1   ÅLAND ISLANDS            Euro  EUR   978.0\n",
       "2         ALBANIA             Lek  ALL     8.0\n",
       "3         ALGERIA  Algerian Dinar  DZD    12.0\n",
       "4  AMERICAN SAMOA       US Dollar  USD   840.0"
      ]
     },
     "execution_count": 114,
     "metadata": {},
     "output_type": "execute_result"
    }
   ],
   "source": [
    "# Second source needed for the exchange rates- original data contained 'number' that was not the exchange rate\n",
    "\n",
    "url2 = 'https://www.iban.com/currency-codes'\n",
    "dfs2 = pd.read_html(url2)\n",
    "df_codes = dfs2[0]\n",
    "print('\\nThe shape of this dataset is ', df_codes.shape)\n",
    "df_codes.head()"
   ]
  },
  {
   "cell_type": "markdown",
   "id": "e1c57e63",
   "metadata": {},
   "source": [
    "# Step 1: Change headers\n",
    "Change headers so they are consistent across the 2 data frames and so they clearly indicate what the column is"
   ]
  },
  {
   "cell_type": "code",
   "execution_count": 115,
   "id": "ea536d90",
   "metadata": {
    "scrolled": true
   },
   "outputs": [
    {
     "name": "stdout",
     "output_type": "stream",
     "text": [
      "  Currency_code  Currency_name  Exchange_rate_1EUR Convert\n",
      "0           USD      US dollar              1.0245     NaN\n",
      "1           JPY   Japanese yen            141.0100     NaN\n",
      "2           BGN  Bulgarian lev              1.9558     NaN\n",
      "3           CZK   Czech koruna             24.5550     NaN\n",
      "4           DKK   Danish krone              7.4449     NaN\n",
      "          Country   Currency_name Currency_code  Number\n",
      "0     AFGHANISTAN         Afghani           AFN   971.0\n",
      "1   ÅLAND ISLANDS            Euro           EUR   978.0\n",
      "2         ALBANIA             Lek           ALL     8.0\n",
      "3         ALGERIA  Algerian Dinar           DZD    12.0\n",
      "4  AMERICAN SAMOA       US Dollar           USD   840.0\n"
     ]
    }
   ],
   "source": [
    "# Change headers in df_convert. Doing this in place makes keeps it simple.\n",
    "\n",
    "df_convert.rename(columns = {'Currency':'Currency_code', 'Currency Name':'Currency_name', \n",
    "                             'Exchange Rate = 1 EUR':'Exchange_rate_1EUR'}, inplace = True)\n",
    "\n",
    "\n",
    "# Change headers in df_codes. Doing this in place makes keeps it simple.\n",
    "\n",
    "df_codes.rename(columns = {'Currency':'Currency_name', 'Code':'Currency_code'}, inplace = True)\n",
    "\n",
    "\n",
    "# Show the results\n",
    "\n",
    "print(df_convert.head())\n",
    "\n",
    "print(df_codes.head())"
   ]
  },
  {
   "cell_type": "markdown",
   "id": "627c112d",
   "metadata": {},
   "source": [
    "# Step 2: Drop unnecessary rows\n",
    "Remove rows that are unnecessary to the final goal (a dataframe with country name, currency name, currency codes, and exchange rate)"
   ]
  },
  {
   "cell_type": "code",
   "execution_count": 116,
   "id": "b37f4a59",
   "metadata": {},
   "outputs": [
    {
     "name": "stdout",
     "output_type": "stream",
     "text": [
      "  Currency_code  Currency_name  Exchange_rate_1EUR\n",
      "0           USD      US dollar              1.0245\n",
      "1           JPY   Japanese yen            141.0100\n",
      "2           BGN  Bulgarian lev              1.9558\n",
      "3           CZK   Czech koruna             24.5550\n",
      "4           DKK   Danish krone              7.4449\n",
      "          Country   Currency_name Currency_code\n",
      "0     AFGHANISTAN         Afghani           AFN\n",
      "1   ÅLAND ISLANDS            Euro           EUR\n",
      "2         ALBANIA             Lek           ALL\n",
      "3         ALGERIA  Algerian Dinar           DZD\n",
      "4  AMERICAN SAMOA       US Dollar           USD\n"
     ]
    }
   ],
   "source": [
    "# Drop unneeded rows from df_convert\n",
    "\n",
    "df_convert.drop(columns = ['Convert'], inplace = True)\n",
    "\n",
    "\n",
    "# Drop unneeded rows from df_codes\n",
    "\n",
    "df_codes.drop(columns=['Number'], inplace = True)\n",
    "\n",
    "\n",
    "# Show the results\n",
    "\n",
    "print(df_convert.head())\n",
    "\n",
    "print(df_codes.head())"
   ]
  },
  {
   "cell_type": "markdown",
   "id": "7134cdcd",
   "metadata": {},
   "source": [
    "# Step 3: Check for and fix missing/bad data and duplicates\n",
    "Missing data will not be helpful and duplicates are not necessary. Duplicates and missing data should be removed."
   ]
  },
  {
   "cell_type": "code",
   "execution_count": 117,
   "id": "2068691e",
   "metadata": {
    "scrolled": true
   },
   "outputs": [
    {
     "data": {
      "text/plain": [
       "Currency_code         0\n",
       "Currency_name         0\n",
       "Exchange_rate_1EUR    0\n",
       "dtype: int64"
      ]
     },
     "execution_count": 117,
     "metadata": {},
     "output_type": "execute_result"
    }
   ],
   "source": [
    "# Missing data check on df_convert\n",
    "\n",
    "df_convert.isnull().sum()"
   ]
  },
  {
   "cell_type": "markdown",
   "id": "1c0b7091",
   "metadata": {},
   "source": [
    "No missing data to remove from df_convert"
   ]
  },
  {
   "cell_type": "code",
   "execution_count": 118,
   "id": "892f2c6a",
   "metadata": {
    "scrolled": true
   },
   "outputs": [
    {
     "data": {
      "text/plain": [
       "Country          0\n",
       "Currency_name    0\n",
       "Currency_code    3\n",
       "dtype: int64"
      ]
     },
     "execution_count": 118,
     "metadata": {},
     "output_type": "execute_result"
    }
   ],
   "source": [
    "# Missing data check on df_codes\n",
    "\n",
    "df_codes.isnull().sum()"
   ]
  },
  {
   "cell_type": "code",
   "execution_count": 119,
   "id": "f8e0b23e",
   "metadata": {},
   "outputs": [
    {
     "data": {
      "text/plain": [
       "Country          0\n",
       "Currency_name    0\n",
       "Currency_code    0\n",
       "dtype: int64"
      ]
     },
     "execution_count": 119,
     "metadata": {},
     "output_type": "execute_result"
    }
   ],
   "source": [
    "# Fixing missing data in df_codes\n",
    "\n",
    "df_codes.dropna(axis = 0, how = 'any', thresh = None, subset = None, inplace = True)\n",
    "\n",
    "df_codes.isnull().sum()"
   ]
  },
  {
   "cell_type": "markdown",
   "id": "fdd8b97f",
   "metadata": {},
   "source": [
    "Identified and removed 3 rows of data with missing Currency_code\n",
    "Inspection of the original data set revealed these countries have no universal currency"
   ]
  },
  {
   "cell_type": "code",
   "execution_count": 120,
   "id": "a13720be",
   "metadata": {},
   "outputs": [
    {
     "name": "stdout",
     "output_type": "stream",
     "text": [
      "There are duplicates in df_convert: False\n"
     ]
    }
   ],
   "source": [
    "# Duplicate check on df_convert\n",
    "\n",
    "convert_dup = any(df_convert.duplicated())\n",
    "\n",
    "print('There are duplicates in df_convert: {}'.format(convert_dup))"
   ]
  },
  {
   "cell_type": "code",
   "execution_count": 121,
   "id": "9727298b",
   "metadata": {},
   "outputs": [
    {
     "name": "stdout",
     "output_type": "stream",
     "text": [
      "There are duplicates in df_codes: False\n"
     ]
    }
   ],
   "source": [
    "# Duplicate check on df_codes\n",
    "\n",
    "codes_dup = any(df_codes.duplicated())\n",
    "\n",
    "print('There are duplicates in df_codes: {}'.format(codes_dup))"
   ]
  },
  {
   "cell_type": "markdown",
   "id": "a6cc4cc1",
   "metadata": {},
   "source": [
    "# Step 4: Check data type and correct if needed\n",
    "Confirm the exchange rate is a number rather than a string and fix if needed.\n",
    "Confirm no other surprise data types."
   ]
  },
  {
   "cell_type": "code",
   "execution_count": 122,
   "id": "d50a0339",
   "metadata": {},
   "outputs": [
    {
     "name": "stdout",
     "output_type": "stream",
     "text": [
      "Currency_code          object\n",
      "Currency_name          object\n",
      "Exchange_rate_1EUR    float64\n",
      "dtype: object\n"
     ]
    }
   ],
   "source": [
    "# Check data types for df_convert\n",
    "\n",
    "print(df_convert.dtypes)"
   ]
  },
  {
   "cell_type": "code",
   "execution_count": 123,
   "id": "75cb3079",
   "metadata": {},
   "outputs": [
    {
     "name": "stdout",
     "output_type": "stream",
     "text": [
      "Country          object\n",
      "Currency_name    object\n",
      "Currency_code    object\n",
      "dtype: object\n"
     ]
    }
   ],
   "source": [
    "# Check data types for df_codes\n",
    "\n",
    "print(df_codes.dtypes)"
   ]
  },
  {
   "cell_type": "markdown",
   "id": "4e098d82",
   "metadata": {},
   "source": [
    "Exchange rate is a number and the other data types are not unexpected or problematic!"
   ]
  },
  {
   "cell_type": "markdown",
   "id": "2db3dc2d",
   "metadata": {},
   "source": [
    "# Step 5: Combine the 2 data frames into one\n",
    "Match on 'Currency_code', add 'Exchange_rate_1EUR' to df_codes"
   ]
  },
  {
   "cell_type": "code",
   "execution_count": 125,
   "id": "a0dd8f71",
   "metadata": {},
   "outputs": [
    {
     "data": {
      "text/html": [
       "<div>\n",
       "<style scoped>\n",
       "    .dataframe tbody tr th:only-of-type {\n",
       "        vertical-align: middle;\n",
       "    }\n",
       "\n",
       "    .dataframe tbody tr th {\n",
       "        vertical-align: top;\n",
       "    }\n",
       "\n",
       "    .dataframe thead th {\n",
       "        text-align: right;\n",
       "    }\n",
       "</style>\n",
       "<table border=\"1\" class=\"dataframe\">\n",
       "  <thead>\n",
       "    <tr style=\"text-align: right;\">\n",
       "      <th></th>\n",
       "      <th>Country</th>\n",
       "      <th>Currency_name</th>\n",
       "      <th>Currency_code</th>\n",
       "      <th>Exchange_rate_1EUR</th>\n",
       "    </tr>\n",
       "  </thead>\n",
       "  <tbody>\n",
       "    <tr>\n",
       "      <th>0</th>\n",
       "      <td>ÅLAND ISLANDS</td>\n",
       "      <td>Euro</td>\n",
       "      <td>EUR</td>\n",
       "      <td>1.0000</td>\n",
       "    </tr>\n",
       "    <tr>\n",
       "      <th>1</th>\n",
       "      <td>ANDORRA</td>\n",
       "      <td>Euro</td>\n",
       "      <td>EUR</td>\n",
       "      <td>1.0000</td>\n",
       "    </tr>\n",
       "    <tr>\n",
       "      <th>2</th>\n",
       "      <td>AUSTRIA</td>\n",
       "      <td>Euro</td>\n",
       "      <td>EUR</td>\n",
       "      <td>1.0000</td>\n",
       "    </tr>\n",
       "    <tr>\n",
       "      <th>3</th>\n",
       "      <td>BELGIUM</td>\n",
       "      <td>Euro</td>\n",
       "      <td>EUR</td>\n",
       "      <td>1.0000</td>\n",
       "    </tr>\n",
       "    <tr>\n",
       "      <th>4</th>\n",
       "      <td>CYPRUS</td>\n",
       "      <td>Euro</td>\n",
       "      <td>EUR</td>\n",
       "      <td>1.0000</td>\n",
       "    </tr>\n",
       "    <tr>\n",
       "      <th>...</th>\n",
       "      <td>...</td>\n",
       "      <td>...</td>\n",
       "      <td>...</td>\n",
       "      <td>...</td>\n",
       "    </tr>\n",
       "    <tr>\n",
       "      <th>101</th>\n",
       "      <td>ROMANIA</td>\n",
       "      <td>Romanian Leu</td>\n",
       "      <td>RON</td>\n",
       "      <td>4.9395</td>\n",
       "    </tr>\n",
       "    <tr>\n",
       "      <th>102</th>\n",
       "      <td>SINGAPORE</td>\n",
       "      <td>Singapore Dollar</td>\n",
       "      <td>SGD</td>\n",
       "      <td>1.4269</td>\n",
       "    </tr>\n",
       "    <tr>\n",
       "      <th>103</th>\n",
       "      <td>SWEDEN</td>\n",
       "      <td>Swedish Krona</td>\n",
       "      <td>SEK</td>\n",
       "      <td>10.4964</td>\n",
       "    </tr>\n",
       "    <tr>\n",
       "      <th>104</th>\n",
       "      <td>THAILAND</td>\n",
       "      <td>Baht</td>\n",
       "      <td>THB</td>\n",
       "      <td>37.4920</td>\n",
       "    </tr>\n",
       "    <tr>\n",
       "      <th>105</th>\n",
       "      <td>TURKEY</td>\n",
       "      <td>Turkish Lira</td>\n",
       "      <td>TRY</td>\n",
       "      <td>18.0180</td>\n",
       "    </tr>\n",
       "  </tbody>\n",
       "</table>\n",
       "<p>106 rows × 4 columns</p>\n",
       "</div>"
      ],
      "text/plain": [
       "           Country     Currency_name Currency_code  Exchange_rate_1EUR\n",
       "0    ÅLAND ISLANDS              Euro           EUR              1.0000\n",
       "1          ANDORRA              Euro           EUR              1.0000\n",
       "2          AUSTRIA              Euro           EUR              1.0000\n",
       "3          BELGIUM              Euro           EUR              1.0000\n",
       "4           CYPRUS              Euro           EUR              1.0000\n",
       "..             ...               ...           ...                 ...\n",
       "101        ROMANIA      Romanian Leu           RON              4.9395\n",
       "102      SINGAPORE  Singapore Dollar           SGD              1.4269\n",
       "103         SWEDEN     Swedish Krona           SEK             10.4964\n",
       "104       THAILAND              Baht           THB             37.4920\n",
       "105         TURKEY      Turkish Lira           TRY             18.0180\n",
       "\n",
       "[106 rows x 4 columns]"
      ]
     },
     "execution_count": 125,
     "metadata": {},
     "output_type": "execute_result"
    }
   ],
   "source": [
    "# Merge the 2 data sets\n",
    "\n",
    "final_df = df_codes.merge(df_convert, on = 'Currency_code', suffixes=('', '_drop'))\n",
    "\n",
    "\n",
    "# Drop the second currency_name column\n",
    "\n",
    "final_df.drop(columns=['Currency_name_drop'], inplace = True)\n",
    "\n",
    "\n",
    "# Show the final dataframe\n",
    "\n",
    "final_df"
   ]
  },
  {
   "cell_type": "markdown",
   "id": "5e4b8bde",
   "metadata": {},
   "source": [
    "Including the EUR row allows the final dataframe to have 106 rows vs 71 had EUR been ignored."
   ]
  }
 ],
 "metadata": {
  "kernelspec": {
   "display_name": "Python 3 (ipykernel)",
   "language": "python",
   "name": "python3"
  },
  "language_info": {
   "codemirror_mode": {
    "name": "ipython",
    "version": 3
   },
   "file_extension": ".py",
   "mimetype": "text/x-python",
   "name": "python",
   "nbconvert_exporter": "python",
   "pygments_lexer": "ipython3",
   "version": "3.9.7"
  }
 },
 "nbformat": 4,
 "nbformat_minor": 5
}
