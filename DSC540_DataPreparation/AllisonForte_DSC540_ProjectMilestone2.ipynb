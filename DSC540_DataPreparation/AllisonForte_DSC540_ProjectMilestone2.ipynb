{
 "cells": [
  {
   "cell_type": "markdown",
   "id": "9811becd",
   "metadata": {},
   "source": [
    "Allison Forte\n",
    "\n",
    "DSC 540\n",
    "\n",
    "Project: Milestone 2\n",
    "\n",
    "July 2, 2022"
   ]
  },
  {
   "cell_type": "markdown",
   "id": "05bfe96c",
   "metadata": {},
   "source": [
    "# Cleaning and formatting the flat file\n",
    "Perform at least 5 data transformation and/or cleansing steps to your flat file data. \n",
    "Label each transformation (Step #1, Step #2, etc.) in your code and describe what it is doing in 1-2 sentences. "
   ]
  },
  {
   "cell_type": "code",
   "execution_count": 272,
   "id": "87c5ec8e",
   "metadata": {},
   "outputs": [
    {
     "name": "stdout",
     "output_type": "stream",
     "text": [
      "\n",
      "The shape of this dataset is  (3575, 8)\n"
     ]
    },
    {
     "data": {
      "text/html": [
       "<div>\n",
       "<style scoped>\n",
       "    .dataframe tbody tr th:only-of-type {\n",
       "        vertical-align: middle;\n",
       "    }\n",
       "\n",
       "    .dataframe tbody tr th {\n",
       "        vertical-align: top;\n",
       "    }\n",
       "\n",
       "    .dataframe thead th {\n",
       "        text-align: right;\n",
       "    }\n",
       "</style>\n",
       "<table border=\"1\" class=\"dataframe\">\n",
       "  <thead>\n",
       "    <tr style=\"text-align: right;\">\n",
       "      <th></th>\n",
       "      <th>index</th>\n",
       "      <th>Company</th>\n",
       "      <th>Website</th>\n",
       "      <th>Region</th>\n",
       "      <th>Vertical</th>\n",
       "      <th>Funding Amount (USD)</th>\n",
       "      <th>Funding Stage</th>\n",
       "      <th>Funding Date</th>\n",
       "    </tr>\n",
       "  </thead>\n",
       "  <tbody>\n",
       "    <tr>\n",
       "      <th>0</th>\n",
       "      <td>1</td>\n",
       "      <td>Internxt</td>\n",
       "      <td>https://internxt.com/</td>\n",
       "      <td>Spain</td>\n",
       "      <td>Blockchain</td>\n",
       "      <td>278940</td>\n",
       "      <td>Seed</td>\n",
       "      <td>Jan-20</td>\n",
       "    </tr>\n",
       "    <tr>\n",
       "      <th>1</th>\n",
       "      <td>2</td>\n",
       "      <td>Dockflow</td>\n",
       "      <td>https://dockflow.com</td>\n",
       "      <td>Belgium</td>\n",
       "      <td>Logistics</td>\n",
       "      <td>292244</td>\n",
       "      <td>Seed</td>\n",
       "      <td>Jan-20</td>\n",
       "    </tr>\n",
       "    <tr>\n",
       "      <th>2</th>\n",
       "      <td>3</td>\n",
       "      <td>api.video</td>\n",
       "      <td>https://api.video</td>\n",
       "      <td>France</td>\n",
       "      <td>Developer APIs</td>\n",
       "      <td>300000</td>\n",
       "      <td>Seed</td>\n",
       "      <td>Jan-20</td>\n",
       "    </tr>\n",
       "    <tr>\n",
       "      <th>3</th>\n",
       "      <td>4</td>\n",
       "      <td>Buck.ai</td>\n",
       "      <td>https://buck.ai/</td>\n",
       "      <td>United States</td>\n",
       "      <td>Artificial Intelligence</td>\n",
       "      <td>300000</td>\n",
       "      <td>Seed</td>\n",
       "      <td>Jan-20</td>\n",
       "    </tr>\n",
       "    <tr>\n",
       "      <th>4</th>\n",
       "      <td>5</td>\n",
       "      <td>Prodsight</td>\n",
       "      <td>https://www.prodsight.ai</td>\n",
       "      <td>United Kingdom</td>\n",
       "      <td>Artificial Intelligence</td>\n",
       "      <td>529013</td>\n",
       "      <td>Seed</td>\n",
       "      <td>Jan-20</td>\n",
       "    </tr>\n",
       "  </tbody>\n",
       "</table>\n",
       "</div>"
      ],
      "text/plain": [
       "   index    Company                   Website          Region  \\\n",
       "0      1   Internxt     https://internxt.com/           Spain   \n",
       "1      2   Dockflow      https://dockflow.com         Belgium   \n",
       "2      3  api.video         https://api.video          France   \n",
       "3      4    Buck.ai          https://buck.ai/   United States   \n",
       "4      5  Prodsight  https://www.prodsight.ai  United Kingdom   \n",
       "\n",
       "                  Vertical Funding Amount (USD) Funding Stage Funding Date  \n",
       "0               Blockchain               278940          Seed       Jan-20  \n",
       "1                Logistics               292244          Seed       Jan-20  \n",
       "2           Developer APIs               300000          Seed       Jan-20  \n",
       "3  Artificial Intelligence               300000          Seed       Jan-20  \n",
       "4  Artificial Intelligence               529013          Seed       Jan-20  "
      ]
     },
     "execution_count": 272,
     "metadata": {},
     "output_type": "execute_result"
    }
   ],
   "source": [
    "import numpy as np\n",
    "import pandas as pd\n",
    "\n",
    "file = pd.read_csv('/Users/allison.forte/Documents/540 Assignments/tech_fundings.csv')\n",
    "\n",
    "df = pd.DataFrame(data=file)\n",
    "original_size = df.shape\n",
    "print('\\nThe shape of this dataset is ', df.shape)\n",
    "df.head()"
   ]
  },
  {
   "cell_type": "markdown",
   "id": "219099c9",
   "metadata": {},
   "source": [
    "# Step 1: Change headers (Region to HQ Country, Vertical to Category)"
   ]
  },
  {
   "cell_type": "code",
   "execution_count": 274,
   "id": "26e3c0c5",
   "metadata": {},
   "outputs": [
    {
     "data": {
      "text/html": [
       "<div>\n",
       "<style scoped>\n",
       "    .dataframe tbody tr th:only-of-type {\n",
       "        vertical-align: middle;\n",
       "    }\n",
       "\n",
       "    .dataframe tbody tr th {\n",
       "        vertical-align: top;\n",
       "    }\n",
       "\n",
       "    .dataframe thead th {\n",
       "        text-align: right;\n",
       "    }\n",
       "</style>\n",
       "<table border=\"1\" class=\"dataframe\">\n",
       "  <thead>\n",
       "    <tr style=\"text-align: right;\">\n",
       "      <th></th>\n",
       "      <th>index</th>\n",
       "      <th>Company</th>\n",
       "      <th>Website</th>\n",
       "      <th>Company_HQ</th>\n",
       "      <th>Category</th>\n",
       "      <th>Funding_amt</th>\n",
       "      <th>Funding Stage</th>\n",
       "      <th>Funding_date</th>\n",
       "    </tr>\n",
       "  </thead>\n",
       "  <tbody>\n",
       "    <tr>\n",
       "      <th>0</th>\n",
       "      <td>1</td>\n",
       "      <td>Internxt</td>\n",
       "      <td>https://internxt.com/</td>\n",
       "      <td>Spain</td>\n",
       "      <td>Blockchain</td>\n",
       "      <td>278940</td>\n",
       "      <td>Seed</td>\n",
       "      <td>Jan-20</td>\n",
       "    </tr>\n",
       "    <tr>\n",
       "      <th>1</th>\n",
       "      <td>2</td>\n",
       "      <td>Dockflow</td>\n",
       "      <td>https://dockflow.com</td>\n",
       "      <td>Belgium</td>\n",
       "      <td>Logistics</td>\n",
       "      <td>292244</td>\n",
       "      <td>Seed</td>\n",
       "      <td>Jan-20</td>\n",
       "    </tr>\n",
       "    <tr>\n",
       "      <th>2</th>\n",
       "      <td>3</td>\n",
       "      <td>api.video</td>\n",
       "      <td>https://api.video</td>\n",
       "      <td>France</td>\n",
       "      <td>Developer APIs</td>\n",
       "      <td>300000</td>\n",
       "      <td>Seed</td>\n",
       "      <td>Jan-20</td>\n",
       "    </tr>\n",
       "    <tr>\n",
       "      <th>3</th>\n",
       "      <td>4</td>\n",
       "      <td>Buck.ai</td>\n",
       "      <td>https://buck.ai/</td>\n",
       "      <td>United States</td>\n",
       "      <td>Artificial Intelligence</td>\n",
       "      <td>300000</td>\n",
       "      <td>Seed</td>\n",
       "      <td>Jan-20</td>\n",
       "    </tr>\n",
       "    <tr>\n",
       "      <th>4</th>\n",
       "      <td>5</td>\n",
       "      <td>Prodsight</td>\n",
       "      <td>https://www.prodsight.ai</td>\n",
       "      <td>United Kingdom</td>\n",
       "      <td>Artificial Intelligence</td>\n",
       "      <td>529013</td>\n",
       "      <td>Seed</td>\n",
       "      <td>Jan-20</td>\n",
       "    </tr>\n",
       "  </tbody>\n",
       "</table>\n",
       "</div>"
      ],
      "text/plain": [
       "   index    Company                   Website      Company_HQ  \\\n",
       "0      1   Internxt     https://internxt.com/           Spain   \n",
       "1      2   Dockflow      https://dockflow.com         Belgium   \n",
       "2      3  api.video         https://api.video          France   \n",
       "3      4    Buck.ai          https://buck.ai/   United States   \n",
       "4      5  Prodsight  https://www.prodsight.ai  United Kingdom   \n",
       "\n",
       "                  Category Funding_amt Funding Stage Funding_date  \n",
       "0               Blockchain      278940          Seed       Jan-20  \n",
       "1                Logistics      292244          Seed       Jan-20  \n",
       "2           Developer APIs      300000          Seed       Jan-20  \n",
       "3  Artificial Intelligence      300000          Seed       Jan-20  \n",
       "4  Artificial Intelligence      529013          Seed       Jan-20  "
      ]
     },
     "execution_count": 274,
     "metadata": {},
     "output_type": "execute_result"
    }
   ],
   "source": [
    "df.rename(columns = {'Region':'Company_HQ', 'Vertical':'Category', 'Funding Amount (USD)':'Funding_amt', \n",
    "                     'Funding Date':'Funding_date'}, inplace = True)\n",
    "\n",
    "df.head()"
   ]
  },
  {
   "cell_type": "markdown",
   "id": "4ba7d25c",
   "metadata": {},
   "source": [
    "# Step 2: Check for and remove missing and incorrect data\n",
    "Remove missing data in essential columns"
   ]
  },
  {
   "cell_type": "code",
   "execution_count": 275,
   "id": "73b690ba",
   "metadata": {},
   "outputs": [
    {
     "data": {
      "text/plain": [
       "index             0\n",
       "Company           0\n",
       "Website           0\n",
       "Company_HQ       12\n",
       "Category          0\n",
       "Funding_amt       0\n",
       "Funding Stage     0\n",
       "Funding_date      0\n",
       "dtype: int64"
      ]
     },
     "execution_count": 275,
     "metadata": {},
     "output_type": "execute_result"
    }
   ],
   "source": [
    "# Check for missing data\n",
    "\n",
    "df.isnull().sum()"
   ]
  },
  {
   "cell_type": "markdown",
   "id": "9986a438",
   "metadata": {},
   "source": [
    "12 companny HQ are missing. For this analysis, we will remove the data with missing values"
   ]
  },
  {
   "cell_type": "code",
   "execution_count": 276,
   "id": "18f9d767",
   "metadata": {},
   "outputs": [],
   "source": [
    "# Remove missing values\n",
    "\n",
    "df = df.dropna(axis=0, how='any', thresh=None, subset=None, inplace=False)"
   ]
  },
  {
   "cell_type": "code",
   "execution_count": 277,
   "id": "65b277ff",
   "metadata": {},
   "outputs": [
    {
     "data": {
      "text/plain": [
       "index            0\n",
       "Company          0\n",
       "Website          0\n",
       "Company_HQ       0\n",
       "Category         0\n",
       "Funding_amt      0\n",
       "Funding Stage    0\n",
       "Funding_date     0\n",
       "dtype: int64"
      ]
     },
     "execution_count": 277,
     "metadata": {},
     "output_type": "execute_result"
    }
   ],
   "source": [
    "# Confirm missing data has been removed\n",
    "\n",
    "df.isnull().sum()"
   ]
  },
  {
   "cell_type": "code",
   "execution_count": 278,
   "id": "e702bcd5",
   "metadata": {},
   "outputs": [],
   "source": [
    "# Remove 'Unknown' values from funding amount\n",
    "\n",
    "df['Funding_amt'] = df['Funding_amt'].replace(['Unknown'],'0')"
   ]
  },
  {
   "cell_type": "markdown",
   "id": "535241c3",
   "metadata": {},
   "source": [
    "# Step 3: Check for and remove duplicates\n",
    "Remove duplicated data based on company website (Website should be a unique identifier for each company)"
   ]
  },
  {
   "cell_type": "code",
   "execution_count": 279,
   "id": "3d8ce98c",
   "metadata": {},
   "outputs": [
    {
     "name": "stdout",
     "output_type": "stream",
     "text": [
      "There are website duplicates: True\n"
     ]
    }
   ],
   "source": [
    "# Check for duplicates\n",
    "\n",
    "website_dup = any(df.Website.duplicated())\n",
    "\n",
    "print('There are website duplicates: {}'.format(website_dup))"
   ]
  },
  {
   "cell_type": "code",
   "execution_count": 280,
   "id": "ede9e176",
   "metadata": {},
   "outputs": [],
   "source": [
    "# Remove the duplicates\n",
    "\n",
    "df = df.drop_duplicates(subset='Website', keep='first', inplace=False)"
   ]
  },
  {
   "cell_type": "code",
   "execution_count": 281,
   "id": "d28fd4ee",
   "metadata": {},
   "outputs": [
    {
     "name": "stdout",
     "output_type": "stream",
     "text": [
      "There are website duplicates: False\n"
     ]
    }
   ],
   "source": [
    "# Confirm duplicates have been removed\n",
    "\n",
    "website_dup = any(df.Website.duplicated())\n",
    "\n",
    "print('There are website duplicates: {}'.format(website_dup))"
   ]
  },
  {
   "cell_type": "markdown",
   "id": "1004e425",
   "metadata": {},
   "source": [
    "# Step 4: Divide Funding_date into 2 columns"
   ]
  },
  {
   "cell_type": "code",
   "execution_count": 283,
   "id": "d7b863d8",
   "metadata": {},
   "outputs": [
    {
     "data": {
      "text/html": [
       "<div>\n",
       "<style scoped>\n",
       "    .dataframe tbody tr th:only-of-type {\n",
       "        vertical-align: middle;\n",
       "    }\n",
       "\n",
       "    .dataframe tbody tr th {\n",
       "        vertical-align: top;\n",
       "    }\n",
       "\n",
       "    .dataframe thead th {\n",
       "        text-align: right;\n",
       "    }\n",
       "</style>\n",
       "<table border=\"1\" class=\"dataframe\">\n",
       "  <thead>\n",
       "    <tr style=\"text-align: right;\">\n",
       "      <th></th>\n",
       "      <th>index</th>\n",
       "      <th>Company</th>\n",
       "      <th>Website</th>\n",
       "      <th>Company_HQ</th>\n",
       "      <th>Category</th>\n",
       "      <th>Funding_amt</th>\n",
       "      <th>Funding Stage</th>\n",
       "      <th>Funding_date</th>\n",
       "      <th>Funding_month</th>\n",
       "      <th>Funding_year</th>\n",
       "    </tr>\n",
       "  </thead>\n",
       "  <tbody>\n",
       "    <tr>\n",
       "      <th>0</th>\n",
       "      <td>1</td>\n",
       "      <td>Internxt</td>\n",
       "      <td>https://internxt.com/</td>\n",
       "      <td>Spain</td>\n",
       "      <td>Blockchain</td>\n",
       "      <td>278940</td>\n",
       "      <td>Seed</td>\n",
       "      <td>Jan-20</td>\n",
       "      <td>Jan</td>\n",
       "      <td>20</td>\n",
       "    </tr>\n",
       "    <tr>\n",
       "      <th>1</th>\n",
       "      <td>2</td>\n",
       "      <td>Dockflow</td>\n",
       "      <td>https://dockflow.com</td>\n",
       "      <td>Belgium</td>\n",
       "      <td>Logistics</td>\n",
       "      <td>292244</td>\n",
       "      <td>Seed</td>\n",
       "      <td>Jan-20</td>\n",
       "      <td>Jan</td>\n",
       "      <td>20</td>\n",
       "    </tr>\n",
       "    <tr>\n",
       "      <th>2</th>\n",
       "      <td>3</td>\n",
       "      <td>api.video</td>\n",
       "      <td>https://api.video</td>\n",
       "      <td>France</td>\n",
       "      <td>Developer APIs</td>\n",
       "      <td>300000</td>\n",
       "      <td>Seed</td>\n",
       "      <td>Jan-20</td>\n",
       "      <td>Jan</td>\n",
       "      <td>20</td>\n",
       "    </tr>\n",
       "    <tr>\n",
       "      <th>3</th>\n",
       "      <td>4</td>\n",
       "      <td>Buck.ai</td>\n",
       "      <td>https://buck.ai/</td>\n",
       "      <td>United States</td>\n",
       "      <td>Artificial Intelligence</td>\n",
       "      <td>300000</td>\n",
       "      <td>Seed</td>\n",
       "      <td>Jan-20</td>\n",
       "      <td>Jan</td>\n",
       "      <td>20</td>\n",
       "    </tr>\n",
       "    <tr>\n",
       "      <th>4</th>\n",
       "      <td>5</td>\n",
       "      <td>Prodsight</td>\n",
       "      <td>https://www.prodsight.ai</td>\n",
       "      <td>United Kingdom</td>\n",
       "      <td>Artificial Intelligence</td>\n",
       "      <td>529013</td>\n",
       "      <td>Seed</td>\n",
       "      <td>Jan-20</td>\n",
       "      <td>Jan</td>\n",
       "      <td>20</td>\n",
       "    </tr>\n",
       "  </tbody>\n",
       "</table>\n",
       "</div>"
      ],
      "text/plain": [
       "   index    Company                   Website      Company_HQ  \\\n",
       "0      1   Internxt     https://internxt.com/           Spain   \n",
       "1      2   Dockflow      https://dockflow.com         Belgium   \n",
       "2      3  api.video         https://api.video          France   \n",
       "3      4    Buck.ai          https://buck.ai/   United States   \n",
       "4      5  Prodsight  https://www.prodsight.ai  United Kingdom   \n",
       "\n",
       "                  Category Funding_amt Funding Stage Funding_date  \\\n",
       "0               Blockchain      278940          Seed       Jan-20   \n",
       "1                Logistics      292244          Seed       Jan-20   \n",
       "2           Developer APIs      300000          Seed       Jan-20   \n",
       "3  Artificial Intelligence      300000          Seed       Jan-20   \n",
       "4  Artificial Intelligence      529013          Seed       Jan-20   \n",
       "\n",
       "  Funding_month Funding_year  \n",
       "0           Jan           20  \n",
       "1           Jan           20  \n",
       "2           Jan           20  \n",
       "3           Jan           20  \n",
       "4           Jan           20  "
      ]
     },
     "execution_count": 283,
     "metadata": {},
     "output_type": "execute_result"
    }
   ],
   "source": [
    "df[['Funding_month', 'Funding_year']] = df['Funding_date'].str.split('-', expand=True)\n",
    "\n",
    "df.head()"
   ]
  },
  {
   "cell_type": "markdown",
   "id": "bc6b7677",
   "metadata": {},
   "source": [
    "# Step 5: Translate month abbreviation to number"
   ]
  },
  {
   "cell_type": "code",
   "execution_count": 284,
   "id": "96fc0292",
   "metadata": {},
   "outputs": [
    {
     "data": {
      "text/html": [
       "<div>\n",
       "<style scoped>\n",
       "    .dataframe tbody tr th:only-of-type {\n",
       "        vertical-align: middle;\n",
       "    }\n",
       "\n",
       "    .dataframe tbody tr th {\n",
       "        vertical-align: top;\n",
       "    }\n",
       "\n",
       "    .dataframe thead th {\n",
       "        text-align: right;\n",
       "    }\n",
       "</style>\n",
       "<table border=\"1\" class=\"dataframe\">\n",
       "  <thead>\n",
       "    <tr style=\"text-align: right;\">\n",
       "      <th></th>\n",
       "      <th>index</th>\n",
       "      <th>Company</th>\n",
       "      <th>Website</th>\n",
       "      <th>Company_HQ</th>\n",
       "      <th>Category</th>\n",
       "      <th>Funding_amt</th>\n",
       "      <th>Funding Stage</th>\n",
       "      <th>Funding_date</th>\n",
       "      <th>Funding_month</th>\n",
       "      <th>Funding_year</th>\n",
       "      <th>month_num</th>\n",
       "    </tr>\n",
       "  </thead>\n",
       "  <tbody>\n",
       "    <tr>\n",
       "      <th>0</th>\n",
       "      <td>1</td>\n",
       "      <td>Internxt</td>\n",
       "      <td>https://internxt.com/</td>\n",
       "      <td>Spain</td>\n",
       "      <td>Blockchain</td>\n",
       "      <td>278940</td>\n",
       "      <td>Seed</td>\n",
       "      <td>Jan-20</td>\n",
       "      <td>Jan</td>\n",
       "      <td>20</td>\n",
       "      <td>1</td>\n",
       "    </tr>\n",
       "    <tr>\n",
       "      <th>1</th>\n",
       "      <td>2</td>\n",
       "      <td>Dockflow</td>\n",
       "      <td>https://dockflow.com</td>\n",
       "      <td>Belgium</td>\n",
       "      <td>Logistics</td>\n",
       "      <td>292244</td>\n",
       "      <td>Seed</td>\n",
       "      <td>Jan-20</td>\n",
       "      <td>Jan</td>\n",
       "      <td>20</td>\n",
       "      <td>1</td>\n",
       "    </tr>\n",
       "    <tr>\n",
       "      <th>2</th>\n",
       "      <td>3</td>\n",
       "      <td>api.video</td>\n",
       "      <td>https://api.video</td>\n",
       "      <td>France</td>\n",
       "      <td>Developer APIs</td>\n",
       "      <td>300000</td>\n",
       "      <td>Seed</td>\n",
       "      <td>Jan-20</td>\n",
       "      <td>Jan</td>\n",
       "      <td>20</td>\n",
       "      <td>1</td>\n",
       "    </tr>\n",
       "    <tr>\n",
       "      <th>3</th>\n",
       "      <td>4</td>\n",
       "      <td>Buck.ai</td>\n",
       "      <td>https://buck.ai/</td>\n",
       "      <td>United States</td>\n",
       "      <td>Artificial Intelligence</td>\n",
       "      <td>300000</td>\n",
       "      <td>Seed</td>\n",
       "      <td>Jan-20</td>\n",
       "      <td>Jan</td>\n",
       "      <td>20</td>\n",
       "      <td>1</td>\n",
       "    </tr>\n",
       "    <tr>\n",
       "      <th>4</th>\n",
       "      <td>5</td>\n",
       "      <td>Prodsight</td>\n",
       "      <td>https://www.prodsight.ai</td>\n",
       "      <td>United Kingdom</td>\n",
       "      <td>Artificial Intelligence</td>\n",
       "      <td>529013</td>\n",
       "      <td>Seed</td>\n",
       "      <td>Jan-20</td>\n",
       "      <td>Jan</td>\n",
       "      <td>20</td>\n",
       "      <td>1</td>\n",
       "    </tr>\n",
       "  </tbody>\n",
       "</table>\n",
       "</div>"
      ],
      "text/plain": [
       "   index    Company                   Website      Company_HQ  \\\n",
       "0      1   Internxt     https://internxt.com/           Spain   \n",
       "1      2   Dockflow      https://dockflow.com         Belgium   \n",
       "2      3  api.video         https://api.video          France   \n",
       "3      4    Buck.ai          https://buck.ai/   United States   \n",
       "4      5  Prodsight  https://www.prodsight.ai  United Kingdom   \n",
       "\n",
       "                  Category Funding_amt Funding Stage Funding_date  \\\n",
       "0               Blockchain      278940          Seed       Jan-20   \n",
       "1                Logistics      292244          Seed       Jan-20   \n",
       "2           Developer APIs      300000          Seed       Jan-20   \n",
       "3  Artificial Intelligence      300000          Seed       Jan-20   \n",
       "4  Artificial Intelligence      529013          Seed       Jan-20   \n",
       "\n",
       "  Funding_month Funding_year  month_num  \n",
       "0           Jan           20          1  \n",
       "1           Jan           20          1  \n",
       "2           Jan           20          1  \n",
       "3           Jan           20          1  \n",
       "4           Jan           20          1  "
      ]
     },
     "execution_count": 284,
     "metadata": {},
     "output_type": "execute_result"
    }
   ],
   "source": [
    "def monthToNum(shortMonth):\n",
    "    return {\n",
    "            'Jan': 1,\n",
    "            'Feb': 2,\n",
    "            'Mar': 3,\n",
    "            'Apr': 4,\n",
    "            'May': 5,\n",
    "            'Jun': 6,\n",
    "            'Jul': 7,\n",
    "            'Aug': 8,\n",
    "            'Sep': 9, \n",
    "            'Oct': 10,\n",
    "            'Nov': 11,\n",
    "            'Dec': 12}[shortMonth]\n",
    "months = (df['Funding_month'])\n",
    "\n",
    "month_num  = []\n",
    "\n",
    "for m in months:\n",
    "    month_num.append(monthToNum(m))\n",
    "\n",
    "df['month_num'] = month_num\n",
    "df.head()"
   ]
  },
  {
   "cell_type": "markdown",
   "id": "75def443",
   "metadata": {},
   "source": [
    "# Step 6: Change the data types in the columns to make them easier to work with"
   ]
  },
  {
   "cell_type": "code",
   "execution_count": 285,
   "id": "898bb740",
   "metadata": {},
   "outputs": [
    {
     "name": "stdout",
     "output_type": "stream",
     "text": [
      "The starting data types are listed below:\n",
      "index             int64\n",
      "Company          object\n",
      "Website          object\n",
      "Company_HQ       object\n",
      "Category         object\n",
      "Funding_amt      object\n",
      "Funding Stage    object\n",
      "Funding_date     object\n",
      "Funding_month    object\n",
      "Funding_year     object\n",
      "month_num         int64\n",
      "dtype: object\n",
      "The final data types are listed below:\n",
      "index              int64\n",
      "Company           object\n",
      "Website           object\n",
      "Company_HQ        object\n",
      "Category          object\n",
      "Funding_amt      float64\n",
      "Funding Stage     object\n",
      "Funding_date      object\n",
      "Funding_month     object\n",
      "Funding_year     float64\n",
      "month_num          int64\n",
      "dtype: object\n"
     ]
    }
   ],
   "source": [
    "# Step 2: Change the data types in the columns to make them easier to work with\n",
    "\n",
    "print('The starting data types are listed below:')\n",
    "print(df.dtypes)\n",
    "\n",
    "df['Funding_amt'] = df['Funding_amt'].astype(float)  # change funding amount into a float\n",
    "df['Funding_year'] = df['Funding_year'].astype(float)\n",
    "\n",
    "print('The final data types are listed below:')\n",
    "print(df.dtypes)"
   ]
  },
  {
   "cell_type": "markdown",
   "id": "ce3f0e3a",
   "metadata": {},
   "source": [
    "# Step 7: Identify outliers and bad data"
   ]
  },
  {
   "cell_type": "code",
   "execution_count": 286,
   "id": "e2c93634",
   "metadata": {
    "scrolled": false
   },
   "outputs": [
    {
     "data": {
      "text/plain": [
       "{'whiskers': [<matplotlib.lines.Line2D at 0x7fe9ef2d3520>,\n",
       "  <matplotlib.lines.Line2D at 0x7fe9ef2d38b0>],\n",
       " 'caps': [<matplotlib.lines.Line2D at 0x7fe9ef2d3c40>,\n",
       "  <matplotlib.lines.Line2D at 0x7fe9ef2d3fd0>],\n",
       " 'boxes': [<matplotlib.lines.Line2D at 0x7fe9ef2d3190>],\n",
       " 'medians': [<matplotlib.lines.Line2D at 0x7fe9ef2bb3a0>],\n",
       " 'fliers': [<matplotlib.lines.Line2D at 0x7fe9ef2bb730>],\n",
       " 'means': []}"
      ]
     },
     "execution_count": 286,
     "metadata": {},
     "output_type": "execute_result"
    },
    {
     "data": {
      "image/png": "[encoded data removed]",
      "text/plain": [
       "<Figure size 432x288 with 1 Axes>"
      ]
     },
     "metadata": {
      "needs_background": "light"
     },
     "output_type": "display_data"
    }
   ],
   "source": [
    "# Search for outliers\n",
    "\n",
    "import matplotlib.pyplot as plt\n",
    "\n",
    "plt.boxplot(df.Funding_amt, notch=True)"
   ]
  },
  {
   "cell_type": "markdown",
   "id": "2a3a1297",
   "metadata": {},
   "source": [
    "Remove outliers above 70,000,000 and at 0"
   ]
  },
  {
   "cell_type": "code",
   "execution_count": 287,
   "id": "b49d8cd5",
   "metadata": {},
   "outputs": [],
   "source": [
    "# Remove outliers\n",
    "\n",
    "df = df[(df['Funding_amt'] <70000000) & (df['Funding_amt'] > 0)] "
   ]
  },
  {
   "cell_type": "code",
   "execution_count": 288,
   "id": "9f7d5a6e",
   "metadata": {},
   "outputs": [
    {
     "data": {
      "text/plain": [
       "{'whiskers': [<matplotlib.lines.Line2D at 0x7fe9ef311670>,\n",
       "  <matplotlib.lines.Line2D at 0x7fe9ef311a00>],\n",
       " 'caps': [<matplotlib.lines.Line2D at 0x7fe9ef311d90>,\n",
       "  <matplotlib.lines.Line2D at 0x7fe9ef31a160>],\n",
       " 'boxes': [<matplotlib.lines.Line2D at 0x7fe9ef3112e0>],\n",
       " 'medians': [<matplotlib.lines.Line2D at 0x7fe9ef31a4f0>],\n",
       " 'fliers': [<matplotlib.lines.Line2D at 0x7fe9ef31a880>],\n",
       " 'means': []}"
      ]
     },
     "execution_count": 288,
     "metadata": {},
     "output_type": "execute_result"
    },
    {
     "data": {
      "image/png": "[encoded data removed]",
      "text/plain": [
       "<Figure size 432x288 with 1 Axes>"
      ]
     },
     "metadata": {
      "needs_background": "light"
     },
     "output_type": "display_data"
    }
   ],
   "source": [
    "plt.boxplot(df.Funding_amt, notch=True)"
   ]
  },
  {
   "cell_type": "markdown",
   "id": "bec4568c",
   "metadata": {},
   "source": [
    "# Final data"
   ]
  },
  {
   "cell_type": "code",
   "execution_count": 290,
   "id": "5ef63c1f",
   "metadata": {},
   "outputs": [
    {
     "name": "stdout",
     "output_type": "stream",
     "text": [
      "\n",
      "The shape of this dataset is  (2704, 11)\n",
      "\n",
      "    index    Company                   Website      Company_HQ  \\\n",
      "0      1   Internxt     https://internxt.com/           Spain   \n",
      "1      2   Dockflow      https://dockflow.com         Belgium   \n",
      "2      3  api.video         https://api.video          France   \n",
      "3      4    Buck.ai          https://buck.ai/   United States   \n",
      "4      5  Prodsight  https://www.prodsight.ai  United Kingdom   \n",
      "\n",
      "                  Category  Funding_amt Funding Stage Funding_date  \\\n",
      "0               Blockchain     278940.0          Seed       Jan-20   \n",
      "1                Logistics     292244.0          Seed       Jan-20   \n",
      "2           Developer APIs     300000.0          Seed       Jan-20   \n",
      "3  Artificial Intelligence     300000.0          Seed       Jan-20   \n",
      "4  Artificial Intelligence     529013.0          Seed       Jan-20   \n",
      "\n",
      "  Funding_month  Funding_year  month_num  \n",
      "0           Jan          20.0          1  \n",
      "1           Jan          20.0          1  \n",
      "2           Jan          20.0          1  \n",
      "3           Jan          20.0          1  \n",
      "4           Jan          20.0          1  \n",
      "\n",
      "       index         Company                         Website      Company_HQ  \\\n",
      "3569   3570   SmarterTravel  https://www.smartertravel.com/   United States   \n",
      "3570   3571         Headout         https://www.headout.com   United States   \n",
      "3571   3572            OLIO             https://olioex.com/  United Kingdom   \n",
      "3572   3573  Trees for Life     https://treesforlife.org.uk  United Kingdom   \n",
      "3574   3575         Greenly      https://www.greenly.earth/          France   \n",
      "\n",
      "      Category  Funding_amt Funding Stage Funding_date Funding_month  \\\n",
      "3569    Travel    9500000.0      Series B       Sep-21           Sep   \n",
      "3570    Travel   12000000.0      Series B       Sep-21           Sep   \n",
      "3571  Wellness   43000000.0      Series B       Sep-21           Sep   \n",
      "3572  Wellness    2737468.0  Crowdfunding       Sep-21           Sep   \n",
      "3574  Wellness    2953675.0          Seed       Sep-21           Sep   \n",
      "\n",
      "      Funding_year  month_num  \n",
      "3569          21.0          9  \n",
      "3570          21.0          9  \n",
      "3571          21.0          9  \n",
      "3572          21.0          9  \n",
      "3574          21.0          9  \n",
      "\n",
      " 871 rows have been removed due to duplicates, missing data, and outliers\n"
     ]
    }
   ],
   "source": [
    "final_size = df.shape\n",
    "print('\\nThe shape of this dataset is ', df.shape)\n",
    "print('\\n', df.head())\n",
    "print('\\n', df.tail())\n",
    "print('\\n',original_size[0]-final_size[0], 'rows have been removed due to duplicates, missing data, and outliers')"
   ]
  }
 ],
 "metadata": {
  "kernelspec": {
   "display_name": "Python 3 (ipykernel)",
   "language": "python",
   "name": "python3"
  },
  "language_info": {
   "codemirror_mode": {
    "name": "ipython",
    "version": 3
   },
   "file_extension": ".py",
   "mimetype": "text/x-python",
   "name": "python",
   "nbconvert_exporter": "python",
   "pygments_lexer": "ipython3",
   "version": "3.9.7"
  }
 },
 "nbformat": 4,
 "nbformat_minor": 5
}
