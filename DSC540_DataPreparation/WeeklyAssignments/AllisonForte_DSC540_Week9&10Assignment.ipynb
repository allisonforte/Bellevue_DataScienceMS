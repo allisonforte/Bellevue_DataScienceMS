{
 "cells": [
  {
   "cell_type": "markdown",
   "id": "c8fdbff6",
   "metadata": {},
   "source": [
    "Allison Forte\n",
    "\n",
    "DSC 540\n",
    "\n",
    "Week 9 & 10 Assignment\n",
    "\n",
    "August 7, 2022"
   ]
  },
  {
   "cell_type": "markdown",
   "id": "0c4a50a6",
   "metadata": {},
   "source": [
    "# Data Wrangling with Python: Activity 11 (page 320)\n",
    "Use the persons and pets tables\n",
    "\n",
    "The id column in the persons table serves as the primary key for the table and as a foreign key for the pet table, which is linked via the owner_id column\n",
    "\n",
    "The name of the SQLite DB is petsdb"
   ]
  },
  {
   "cell_type": "markdown",
   "id": "34cda63f",
   "metadata": {},
   "source": [
    "1. Connect to petsdb and check whether the connection has been successful"
   ]
  },
  {
   "cell_type": "code",
   "execution_count": 76,
   "id": "91f73afa",
   "metadata": {},
   "outputs": [],
   "source": [
    "# Import library and define connection\n",
    "\n",
    "import sqlite3\n",
    "\n",
    "connection = sqlite3.connect(\"petsdb\")"
   ]
  },
  {
   "cell_type": "code",
   "execution_count": 77,
   "id": "40da7ed1",
   "metadata": {},
   "outputs": [
    {
     "name": "stdout",
     "output_type": "stream",
     "text": [
      "True\n"
     ]
    }
   ],
   "source": [
    "# Function to determine successful connection\n",
    "\n",
    "def opened(connection):\n",
    "    try:\n",
    "        connection.execute(\"SELECT * FROM persons LIMIT 1\")\n",
    "        return True\n",
    "    except sqlite3.ProgrammingError as e:\n",
    "        print(\"Connection not open: {}\".format(e))\n",
    "        return False\n",
    "print(opened(connection))"
   ]
  },
  {
   "cell_type": "code",
   "execution_count": 78,
   "id": "215b122d",
   "metadata": {},
   "outputs": [
    {
     "name": "stdout",
     "output_type": "stream",
     "text": [
      "Connection not open: Cannot operate on a closed database.\n",
      "False\n"
     ]
    }
   ],
   "source": [
    "# Close connection and confirm function returns false\n",
    "\n",
    "connection.close()\n",
    "print(opened(connection))"
   ]
  },
  {
   "cell_type": "markdown",
   "id": "4b82d859",
   "metadata": {},
   "source": [
    "2. Find the different age groups in the persons database"
   ]
  },
  {
   "cell_type": "code",
   "execution_count": 79,
   "id": "9d498f9c",
   "metadata": {},
   "outputs": [
    {
     "name": "stdout",
     "output_type": "stream",
     "text": [
      "There are 2 people who are age 5\n",
      "There are 1 people who are age 6\n",
      "There are 1 people who are age 7\n",
      "There are 3 people who are age 8\n",
      "There are 1 people who are age 9\n",
      "There are 2 people who are age 11\n",
      "There are 3 people who are age 12\n",
      "There are 1 people who are age 13\n",
      "There are 4 people who are age 14\n",
      "There are 2 people who are age 16\n",
      "There are 2 people who are age 17\n",
      "There are 3 people who are age 18\n",
      "There are 1 people who are age 19\n",
      "There are 3 people who are age 22\n",
      "There are 2 people who are age 23\n",
      "There are 3 people who are age 24\n",
      "There are 2 people who are age 25\n",
      "There are 1 people who are age 27\n",
      "There are 1 people who are age 30\n",
      "There are 3 people who are age 31\n",
      "There are 1 people who are age 32\n",
      "There are 1 people who are age 33\n",
      "There are 2 people who are age 34\n",
      "There are 3 people who are age 35\n",
      "There are 3 people who are age 36\n",
      "There are 1 people who are age 37\n",
      "There are 2 people who are age 39\n",
      "There are 1 people who are age 40\n",
      "There are 1 people who are age 42\n",
      "There are 2 people who are age 44\n",
      "There are 2 people who are age 48\n",
      "There are 1 people who are age 49\n",
      "There are 1 people who are age 50\n",
      "There are 2 people who are age 51\n",
      "There are 2 people who are age 52\n",
      "There are 2 people who are age 53\n",
      "There are 2 people who are age 54\n",
      "There are 1 people who are age 58\n",
      "There are 1 people who are age 59\n",
      "There are 1 people who are age 60\n",
      "There are 1 people who are age 61\n",
      "There are 2 people who are age 62\n",
      "There are 1 people who are age 63\n",
      "There are 2 people who are age 65\n",
      "There are 2 people who are age 66\n",
      "There are 1 people who are age 67\n",
      "There are 3 people who are age 68\n",
      "There are 1 people who are age 69\n",
      "There are 1 people who are age 70\n",
      "There are 4 people who are age 71\n",
      "There are 1 people who are age 72\n",
      "There are 5 people who are age 73\n",
      "There are 3 people who are age 74\n"
     ]
    }
   ],
   "source": [
    "# Reopen the connection then cycle through to determine age groups\n",
    "\n",
    "connection = sqlite3.connect(\"petsdb\")\n",
    "c = connection.cursor()\n",
    "for ppl, age in c.execute(\"SELECT count(*), age FROM persons GROUP BY age\"):\n",
    "    print(\"There are {} people who are age {}\".format(ppl, age))"
   ]
  },
  {
   "cell_type": "markdown",
   "id": "00505623",
   "metadata": {},
   "source": [
    "3. Find the age group that has the maximum number of people"
   ]
  },
  {
   "cell_type": "code",
   "execution_count": 80,
   "id": "29e50cb0",
   "metadata": {},
   "outputs": [
    {
     "name": "stdout",
     "output_type": "stream",
     "text": [
      "The most people in any group (5) are age 73\n"
     ]
    }
   ],
   "source": [
    "# Determine the count for each age group then sort in descending order so the first entry will be the most people\n",
    "\n",
    "for ppl, age in c.execute(\"SELECT count(*), age FROM persons GROUP BY age ORDER BY count(*) DESC\"):\n",
    "    print(\"The most people in any group ({}) are age {}\".format(ppl, age))\n",
    "    break  # To stop printing after the first age group (which will be the largest)"
   ]
  },
  {
   "cell_type": "markdown",
   "id": "3c4ff446",
   "metadata": {},
   "source": [
    "4. Find the people who do not have a last name"
   ]
  },
  {
   "cell_type": "code",
   "execution_count": 87,
   "id": "50ed0e4c",
   "metadata": {},
   "outputs": [
    {
     "name": "stdout",
     "output_type": "stream",
     "text": [
      "There are (60,) people with no recorded last name.\n"
     ]
    }
   ],
   "source": [
    "# Count number of people with no last name entered (is null)\n",
    "\n",
    "result = c.execute(\"SELECT count(*) FROM persons WHERE last_name IS null\")\n",
    "for row in result:\n",
    "    print('There are', row, 'people with no recorded last name.')"
   ]
  },
  {
   "cell_type": "markdown",
   "id": "b0f65636",
   "metadata": {},
   "source": [
    "5. Find out how many people have more than one pet"
   ]
  },
  {
   "cell_type": "code",
   "execution_count": 88,
   "id": "a34162b4",
   "metadata": {},
   "outputs": [
    {
     "name": "stdout",
     "output_type": "stream",
     "text": [
      "(43,) people have more than one pet.\n"
     ]
    }
   ],
   "source": [
    "# Count the number of owners with more than 1 pet by first counting how many people have more than 1 pet\n",
    "\n",
    "result = c.execute(\"SELECT count(*) FROM (SELECT count(owner_id) FROM pets GROUP BY owner_id HAVING count(owner_id) >1)\")\n",
    "for row in result:\n",
    "    print(row, 'people have more than one pet.')"
   ]
  },
  {
   "cell_type": "markdown",
   "id": "8655cfb6",
   "metadata": {},
   "source": [
    "6. Find out how many pets have received treatment"
   ]
  },
  {
   "cell_type": "code",
   "execution_count": 89,
   "id": "80b3f41d",
   "metadata": {},
   "outputs": [
    {
     "name": "stdout",
     "output_type": "stream",
     "text": [
      "(36,) pets have received treatment.\n"
     ]
    }
   ],
   "source": [
    "# Count pets when treatment variable is equal to 1 showing that the treatment has been done\n",
    "\n",
    "result = c.execute(\"SELECT count(*) FROM pets WHERE treatment_done=1\")\n",
    "for row in result:\n",
    "    print(row, 'pets have received treatment.')"
   ]
  },
  {
   "cell_type": "markdown",
   "id": "62f87969",
   "metadata": {},
   "source": [
    "7. Find out how many pets have received treatment and the type of pet is known"
   ]
  },
  {
   "cell_type": "code",
   "execution_count": 90,
   "id": "f0f6cea6",
   "metadata": {},
   "outputs": [
    {
     "name": "stdout",
     "output_type": "stream",
     "text": [
      "(16,) pets that we know the type of have reveived treatment.\n"
     ]
    }
   ],
   "source": [
    "# Similar to above but adding an additional clause with AND to eliminate pets where type is null\n",
    "\n",
    "result = c.execute(\"SELECT count(*) FROM pets WHERE treatment_done=1 AND pet_type IS NOT null\")\n",
    "for row in result:\n",
    "    print(row, 'pets that we know the type of have reveived treatment.')"
   ]
  },
  {
   "cell_type": "markdown",
   "id": "bd76518b",
   "metadata": {},
   "source": [
    "8. Find out how many pets are for the city called east port"
   ]
  },
  {
   "cell_type": "code",
   "execution_count": 91,
   "id": "361427e2",
   "metadata": {},
   "outputs": [
    {
     "name": "stdout",
     "output_type": "stream",
     "text": [
      "(49,) pets live with owners in the city of East Port.\n"
     ]
    }
   ],
   "source": [
    "# Using the owner_id as the primary key, join the pets and persons tables together \n",
    "# Then count the pets when the owner lives in East Port\n",
    "\n",
    "result = c.execute(\"SELECT count(*) FROM pets JOIN persons ON pets.owner_id = persons.id WHERE persons.city='east port'\")\n",
    "for row in result:\n",
    "    print(row, 'pets live with owners in the city of East Port.')"
   ]
  },
  {
   "cell_type": "markdown",
   "id": "3a4cbe31",
   "metadata": {},
   "source": [
    "9. Find out how many pets are from the city called east port and who received a treatment"
   ]
  },
  {
   "cell_type": "code",
   "execution_count": 92,
   "id": "74aeea7e",
   "metadata": {},
   "outputs": [
    {
     "name": "stdout",
     "output_type": "stream",
     "text": [
      "(11,) of the pets living with owners in East Port have reveived treatment.\n"
     ]
    }
   ],
   "source": [
    "# Similar to above, start by joining the 2 tables\n",
    "# Then count pets where the city is East Port AND the treatment variable equals 1 indicating treatment was received\n",
    "\n",
    "result = c.execute(\"SELECT count(*) FROM pets JOIN persons ON pets.owner_id = persons.id WHERE persons.city = 'east port' AND pets.treatment_done = 1\")\n",
    "for row in result:\n",
    "    print(row, 'of the pets living with owners in East Port have reveived treatment.')"
   ]
  }
 ],
 "metadata": {
  "kernelspec": {
   "display_name": "Python 3 (ipykernel)",
   "language": "python",
   "name": "python3"
  },
  "language_info": {
   "codemirror_mode": {
    "name": "ipython",
    "version": 3
   },
   "file_extension": ".py",
   "mimetype": "text/x-python",
   "name": "python",
   "nbconvert_exporter": "python",
   "pygments_lexer": "ipython3",
   "version": "3.9.7"
  }
 },
 "nbformat": 4,
 "nbformat_minor": 5
}
