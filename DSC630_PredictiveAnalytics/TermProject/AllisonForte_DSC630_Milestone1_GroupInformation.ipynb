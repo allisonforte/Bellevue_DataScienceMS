{
 "cells": [
  {
   "cell_type": "markdown",
   "id": "a11a6d99",
   "metadata": {},
   "source": [
    "Allison Forte\n",
    "\n",
    "September 4, 2022\n",
    "\n",
    "DSC 630\n",
    "\n",
    "# Course Project: Milestone 1 – Group Information and Communication/Work Plan (Week 1)"
   ]
  },
  {
   "cell_type": "markdown",
   "id": "68b657b2",
   "metadata": {},
   "source": [
    "## Determine if you are working in a group and create a folder in Teams\n",
    "\n",
    "For the course project, I will be working individually. I have created a folder in the Teams channel."
   ]
  },
  {
   "cell_type": "markdown",
   "id": "79a1a943",
   "metadata": {},
   "source": [
    "## Create a rough project plan for completing the milestones with your planned work schedule\n",
    "\n",
    "In order to complete this project and the milestones on time, I will dedicate 1 evening each week to the project in addition to the weekly assignments. This will help me to stay on schedule and avoid needing to cram at any point. Most likely, Thursday evenings will be dedicated to this project allowing me to get started on the weekly assignments earlier in the week, spend time on the project, then wrap up the weekly assignments as needed before Sunday evening. \n",
    "\n",
    "Specifically for Milestone 2 (due in week 2), I will need to spend more time preparing this submission. I will dedicate time Tuesday evening to identifying the data set and business problem to address. This will allow me to focus Thursday evening on writing the submission. Knowing there is not a weekly assignment next week, I am not worried about dedicating 2 or more evenings as needed specifically to the project. \n",
    "\n",
    "Continuing to work on the project at least one evening each week will allow me to complete the preliminary analysis due in week 6 for Milestone 3. I expect I will need to spend most of my time on data preparation before completing a preliminary analysis. Working on this weekly will allow time to revisit the data set if needed and adjust if there are any issues with the data I choose in Milestone 2. \n",
    "\n",
    "Milestone 4, due in week 9, will be possible as long as my preliminary analysis from Milestone 3 is completed on time and has allowed me to make significant progress in my findings. Revisiting the preliminary findings to finalize my results should be manageable as long as I continue to work each week to progress. \n",
    "\n",
    "I am most excited for the final submission in week 12. Creating a presentation of my results will allow me to showcase my methods and findings. My goal for the final submission will be to create a presentation that is detailed enough to explain how I arrived at my findings to a data scientist but easy enough to understand that the average person would also easily see how the results were found. Finding this middle ground will be challenging but important to ensure the results can be properly appreciated by anyone interested in them. The fact that we have to submit a paper with this presentation is a bit intimidating but as long as I properly document the process along the way, there is no reason to think creating both the presentation and the paper by the end of week 12 will be an issue. \n",
    "\n",
    "Taking time to review peers' projects along the way will allow me to see other ideas and methods that I may incorporate into my own project. Providing feedback to make others' projects as strong as possible while also thinking about how I can incorporate what others have done into my own project will be a great learning opportunity throughout the course. "
   ]
  }
 ],
 "metadata": {
  "kernelspec": {
   "display_name": "Python 3 (ipykernel)",
   "language": "python",
   "name": "python3"
  },
  "language_info": {
   "codemirror_mode": {
    "name": "ipython",
    "version": 3
   },
   "file_extension": ".py",
   "mimetype": "text/x-python",
   "name": "python",
   "nbconvert_exporter": "python",
   "pygments_lexer": "ipython3",
   "version": "3.9.7"
  }
 },
 "nbformat": 4,
 "nbformat_minor": 5
}
