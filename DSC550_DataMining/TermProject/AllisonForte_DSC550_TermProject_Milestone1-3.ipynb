{
 "cells": [
  {
   "cell_type": "markdown",
   "id": "843c0b4e",
   "metadata": {},
   "source": [
    "Allison Forte\n",
    "\n",
    "March 1, 2023\n",
    "\n",
    "DSC 550\n",
    "\n",
    "Exercise 10.2: Milestone 3"
   ]
  },
  {
   "cell_type": "markdown",
   "id": "abb42af8",
   "metadata": {},
   "source": [
    "# Term Project Milestone 1\n",
    "## Data Selection and EDA"
   ]
  },
  {
   "cell_type": "markdown",
   "id": "76792b4e",
   "metadata": {},
   "source": [
    "### Begin Milestone 1 with a 250-500-word narrative describing your original idea for the analysis/model building business problem. Clearly identify the problem you will address and the target for your model. "
   ]
  },
  {
   "cell_type": "markdown",
   "id": "20cf6f8e",
   "metadata": {},
   "source": [
    "Data:  https://www.kaggle.com/datasets/arathipraj/house-data?select=house_data.csv"
   ]
  },
  {
   "cell_type": "markdown",
   "id": "fea7ac60",
   "metadata": {},
   "source": [
    "Houses are bought and sold every day. House prices are important to the buyer and seller as well as real estate agents involved in the transaction. House prices and purchase and sale numbers are indicative of the overall strength of the economy. Especially in recent years, home prices have been under scrutiny as people have seen house prices skyrocket.  \n",
    "\n",
    "Being able to accurately predict the sale price of a home based on features of the home would benefit many people. Individual homeowners could calculate their home’s likely sale price and could even see the change in likely sale price with a renovation that would change their home’s features. Real estate agents or realty companies could also  benefit from a simple method to calculate the likely sale price. This could allow real estate agents to target specific homes when encouraging homeowners to sell and could simplify their job when homeowners come to them, ready to sell their house.  \n",
    "\n",
    "One challenge to accomplishing this is that the market has a significant impact on the sale price of a home. Determining a method to predict sale price for homes will be useful to present to realty companies in various regions so they can apply the method to their own records. This would allow them to have their own model specific to their region. This could be easier than actively finding comparable houses in the area and look at past sale prices one by one. \n",
    "\n",
    "The dataset used to create this method will include homes in King County, Washington. This dataset is available through Kaggle and has over 21,000 entries. (https://www.kaggle.com/datasets/arathipraj/house-data?select=house_data.csv) A data set of this size will allow for training and testing data. The data included in this dataset is standard housing data including the number of bedrooms, number of bathrooms, sqft of the home, lot size, year built, year renovated, and information about the view from the home among other factors.  \n",
    "\n",
    "The goal is to identify which factors have the largest impact on the sale price and create a method for using these factors to accurately predict the sale price. In order to determine if the method is accurate, the percent difference between actual sale price and predicted sale price will be looked at.  \n",
    "\n",
    "Given that the data is specific to King County, it will not be possible to tell if the output is accurate for homes outside of King County. Data from homes outside King County could be used to test the accuracy of the model in other regions or other data could be used following the same steps in this project to create models for other regions.  "
   ]
  },
  {
   "cell_type": "markdown",
   "id": "c96144e8",
   "metadata": {},
   "source": [
    "### Complete a graphical analysis creating a minimum of four graphs. Label your graphs appropriately and explain/analyze the information provided by each graph. Your analysis should begin to answer the question(s) you are addressing."
   ]
  },
  {
   "cell_type": "code",
   "execution_count": 140,
   "id": "4a8cba78",
   "metadata": {},
   "outputs": [
    {
     "data": {
      "text/html": [
       "<div>\n",
       "<style scoped>\n",
       "    .dataframe tbody tr th:only-of-type {\n",
       "        vertical-align: middle;\n",
       "    }\n",
       "\n",
       "    .dataframe tbody tr th {\n",
       "        vertical-align: top;\n",
       "    }\n",
       "\n",
       "    .dataframe thead th {\n",
       "        text-align: right;\n",
       "    }\n",
       "</style>\n",
       "<table border=\"1\" class=\"dataframe\">\n",
       "  <thead>\n",
       "    <tr style=\"text-align: right;\">\n",
       "      <th></th>\n",
       "      <th>id</th>\n",
       "      <th>date</th>\n",
       "      <th>price</th>\n",
       "      <th>bedrooms</th>\n",
       "      <th>bathrooms</th>\n",
       "      <th>sqft_living</th>\n",
       "      <th>sqft_lot</th>\n",
       "      <th>floors</th>\n",
       "      <th>waterfront</th>\n",
       "      <th>view</th>\n",
       "      <th>...</th>\n",
       "      <th>grade</th>\n",
       "      <th>sqft_above</th>\n",
       "      <th>sqft_basement</th>\n",
       "      <th>yr_built</th>\n",
       "      <th>yr_renovated</th>\n",
       "      <th>zipcode</th>\n",
       "      <th>lat</th>\n",
       "      <th>long</th>\n",
       "      <th>sqft_living15</th>\n",
       "      <th>sqft_lot15</th>\n",
       "    </tr>\n",
       "  </thead>\n",
       "  <tbody>\n",
       "    <tr>\n",
       "      <th>0</th>\n",
       "      <td>7129300520</td>\n",
       "      <td>20141013T000000</td>\n",
       "      <td>221900</td>\n",
       "      <td>3</td>\n",
       "      <td>1.00</td>\n",
       "      <td>1180</td>\n",
       "      <td>5650</td>\n",
       "      <td>1.0</td>\n",
       "      <td>0</td>\n",
       "      <td>0</td>\n",
       "      <td>...</td>\n",
       "      <td>7</td>\n",
       "      <td>1180</td>\n",
       "      <td>0</td>\n",
       "      <td>1955</td>\n",
       "      <td>0</td>\n",
       "      <td>98178</td>\n",
       "      <td>47.5112</td>\n",
       "      <td>-122.257</td>\n",
       "      <td>1340</td>\n",
       "      <td>5650</td>\n",
       "    </tr>\n",
       "    <tr>\n",
       "      <th>1</th>\n",
       "      <td>6414100192</td>\n",
       "      <td>20141209T000000</td>\n",
       "      <td>538000</td>\n",
       "      <td>3</td>\n",
       "      <td>2.25</td>\n",
       "      <td>2570</td>\n",
       "      <td>7242</td>\n",
       "      <td>2.0</td>\n",
       "      <td>0</td>\n",
       "      <td>0</td>\n",
       "      <td>...</td>\n",
       "      <td>7</td>\n",
       "      <td>2170</td>\n",
       "      <td>400</td>\n",
       "      <td>1951</td>\n",
       "      <td>1991</td>\n",
       "      <td>98125</td>\n",
       "      <td>47.7210</td>\n",
       "      <td>-122.319</td>\n",
       "      <td>1690</td>\n",
       "      <td>7639</td>\n",
       "    </tr>\n",
       "    <tr>\n",
       "      <th>2</th>\n",
       "      <td>5631500400</td>\n",
       "      <td>20150225T000000</td>\n",
       "      <td>180000</td>\n",
       "      <td>2</td>\n",
       "      <td>1.00</td>\n",
       "      <td>770</td>\n",
       "      <td>10000</td>\n",
       "      <td>1.0</td>\n",
       "      <td>0</td>\n",
       "      <td>0</td>\n",
       "      <td>...</td>\n",
       "      <td>6</td>\n",
       "      <td>770</td>\n",
       "      <td>0</td>\n",
       "      <td>1933</td>\n",
       "      <td>0</td>\n",
       "      <td>98028</td>\n",
       "      <td>47.7379</td>\n",
       "      <td>-122.233</td>\n",
       "      <td>2720</td>\n",
       "      <td>8062</td>\n",
       "    </tr>\n",
       "    <tr>\n",
       "      <th>3</th>\n",
       "      <td>2487200875</td>\n",
       "      <td>20141209T000000</td>\n",
       "      <td>604000</td>\n",
       "      <td>4</td>\n",
       "      <td>3.00</td>\n",
       "      <td>1960</td>\n",
       "      <td>5000</td>\n",
       "      <td>1.0</td>\n",
       "      <td>0</td>\n",
       "      <td>0</td>\n",
       "      <td>...</td>\n",
       "      <td>7</td>\n",
       "      <td>1050</td>\n",
       "      <td>910</td>\n",
       "      <td>1965</td>\n",
       "      <td>0</td>\n",
       "      <td>98136</td>\n",
       "      <td>47.5208</td>\n",
       "      <td>-122.393</td>\n",
       "      <td>1360</td>\n",
       "      <td>5000</td>\n",
       "    </tr>\n",
       "    <tr>\n",
       "      <th>4</th>\n",
       "      <td>1954400510</td>\n",
       "      <td>20150218T000000</td>\n",
       "      <td>510000</td>\n",
       "      <td>3</td>\n",
       "      <td>2.00</td>\n",
       "      <td>1680</td>\n",
       "      <td>8080</td>\n",
       "      <td>1.0</td>\n",
       "      <td>0</td>\n",
       "      <td>0</td>\n",
       "      <td>...</td>\n",
       "      <td>8</td>\n",
       "      <td>1680</td>\n",
       "      <td>0</td>\n",
       "      <td>1987</td>\n",
       "      <td>0</td>\n",
       "      <td>98074</td>\n",
       "      <td>47.6168</td>\n",
       "      <td>-122.045</td>\n",
       "      <td>1800</td>\n",
       "      <td>7503</td>\n",
       "    </tr>\n",
       "  </tbody>\n",
       "</table>\n",
       "<p>5 rows × 21 columns</p>\n",
       "</div>"
      ],
      "text/plain": [
       "           id             date   price  bedrooms  bathrooms  sqft_living  \\\n",
       "0  7129300520  20141013T000000  221900         3       1.00         1180   \n",
       "1  6414100192  20141209T000000  538000         3       2.25         2570   \n",
       "2  5631500400  20150225T000000  180000         2       1.00          770   \n",
       "3  2487200875  20141209T000000  604000         4       3.00         1960   \n",
       "4  1954400510  20150218T000000  510000         3       2.00         1680   \n",
       "\n",
       "   sqft_lot  floors  waterfront  view  ...  grade  sqft_above  sqft_basement  \\\n",
       "0      5650     1.0           0     0  ...      7        1180              0   \n",
       "1      7242     2.0           0     0  ...      7        2170            400   \n",
       "2     10000     1.0           0     0  ...      6         770              0   \n",
       "3      5000     1.0           0     0  ...      7        1050            910   \n",
       "4      8080     1.0           0     0  ...      8        1680              0   \n",
       "\n",
       "   yr_built  yr_renovated  zipcode      lat     long  sqft_living15  \\\n",
       "0      1955             0    98178  47.5112 -122.257           1340   \n",
       "1      1951          1991    98125  47.7210 -122.319           1690   \n",
       "2      1933             0    98028  47.7379 -122.233           2720   \n",
       "3      1965             0    98136  47.5208 -122.393           1360   \n",
       "4      1987             0    98074  47.6168 -122.045           1800   \n",
       "\n",
       "   sqft_lot15  \n",
       "0        5650  \n",
       "1        7639  \n",
       "2        8062  \n",
       "3        5000  \n",
       "4        7503  \n",
       "\n",
       "[5 rows x 21 columns]"
      ]
     },
     "execution_count": 140,
     "metadata": {},
     "output_type": "execute_result"
    }
   ],
   "source": [
    "# Install libraries, load data, and display the first few rows\n",
    "\n",
    "import pandas as pd\n",
    "import seaborn as sns\n",
    "\n",
    "housing_data = pd.read_csv('/Users/allison.forte/Downloads/house_data.csv')\n",
    "housing_data.head(5)"
   ]
  },
  {
   "cell_type": "code",
   "execution_count": 141,
   "id": "2d4154ce",
   "metadata": {},
   "outputs": [
    {
     "data": {
      "text/plain": [
       "Index(['id', 'date', 'price', 'bedrooms', 'bathrooms', 'sqft_living',\n",
       "       'sqft_lot', 'floors', 'waterfront', 'view', 'condition', 'grade',\n",
       "       'sqft_above', 'sqft_basement', 'yr_built', 'yr_renovated', 'zipcode',\n",
       "       'lat', 'long', 'sqft_living15', 'sqft_lot15'],\n",
       "      dtype='object')"
      ]
     },
     "execution_count": 141,
     "metadata": {},
     "output_type": "execute_result"
    }
   ],
   "source": [
    "# Display the column names\n",
    "\n",
    "housing_data.columns"
   ]
  },
  {
   "cell_type": "code",
   "execution_count": 142,
   "id": "db29e107",
   "metadata": {},
   "outputs": [
    {
     "data": {
      "text/plain": [
       "Text(0.5, 1.0, 'Correlation of price and sqft of living space')"
      ]
     },
     "execution_count": 142,
     "metadata": {},
     "output_type": "execute_result"
    },
    {
     "data": {
      "image/png": "[encoded data removed]",
      "text/plain": [
       "<Figure size 432x288 with 1 Axes>"
      ]
     },
     "metadata": {
      "needs_background": "light"
     },
     "output_type": "display_data"
    }
   ],
   "source": [
    "# Graph 1\n",
    "# Does sqft of living space correlate strongly with price?\n",
    "\n",
    "graph_1 = sns.regplot(x = housing_data['sqft_living'], y = housing_data['price'])\n",
    "graph_1.set_title('Correlation of price and sqft of living space')"
   ]
  },
  {
   "cell_type": "markdown",
   "id": "2882ba60",
   "metadata": {},
   "source": [
    "This graph indicates that the size of the living space correlates strongly with the sale price. This is to be expected. There are clearly a few outliers that have extremely large living spaces. The homes with extremely large living space and the homes that sold for extremely high prices will likely be harder to accurately predict. "
   ]
  },
  {
   "cell_type": "code",
   "execution_count": 143,
   "id": "13257a0a",
   "metadata": {},
   "outputs": [
    {
     "name": "stdout",
     "output_type": "stream",
     "text": [
      "Count of bedrooms:\n",
      " 3     9824\n",
      "4     6882\n",
      "2     2760\n",
      "5     1601\n",
      "6      272\n",
      "1      199\n",
      "7       38\n",
      "0       13\n",
      "8       13\n",
      "9        6\n",
      "10       3\n",
      "11       1\n",
      "33       1\n",
      "Name: bedrooms, dtype: int64\n"
     ]
    },
    {
     "name": "stderr",
     "output_type": "stream",
     "text": [
      "/Users/allison.forte/opt/anaconda3/lib/python3.9/site-packages/seaborn/distributions.py:2619: FutureWarning: `distplot` is a deprecated function and will be removed in a future version. Please adapt your code to use either `displot` (a figure-level function with similar flexibility) or `histplot` (an axes-level function for histograms).\n",
      "  warnings.warn(msg, FutureWarning)\n"
     ]
    },
    {
     "data": {
      "text/plain": [
       "Text(0, 0.5, 'Count')"
      ]
     },
     "execution_count": 143,
     "metadata": {},
     "output_type": "execute_result"
    },
    {
     "data": {
      "image/png": "[encoded data removed]",
      "text/plain": [
       "<Figure size 432x288 with 1 Axes>"
      ]
     },
     "metadata": {
      "needs_background": "light"
     },
     "output_type": "display_data"
    }
   ],
   "source": [
    "# Graph 2 and 3\n",
    "# Analyze number of bedrooms and number of bathrooms\n",
    "\n",
    "# Bedrooms: Calculate and display number of homes with each bedroom count, display a histogram\n",
    "\n",
    "print('Count of bedrooms:\\n', housing_data[\"bedrooms\"].value_counts())\n",
    "\n",
    "graph_2 = sns.distplot(housing_data[\"bedrooms\"],bins = 33, hist = True, kde = False)\n",
    "graph_2.set_title('Bedroom count distribution')\n",
    "graph_2.set_ylabel('Count')"
   ]
  },
  {
   "cell_type": "markdown",
   "id": "5703162c",
   "metadata": {},
   "source": [
    "This graph shows that the data set includes a few homes with an extreme number of bedrooms. In order for this model to accurately predict average family homes' sale price, removing the outliers will be necessary. Focusing on homes with 1 to 6 bedrooms will likely create the most accurate model. "
   ]
  },
  {
   "cell_type": "code",
   "execution_count": 144,
   "id": "9cc56fa6",
   "metadata": {
    "scrolled": true
   },
   "outputs": [
    {
     "name": "stdout",
     "output_type": "stream",
     "text": [
      "Count of bathrooms:\n",
      " 2.50    5380\n",
      "1.00    3852\n",
      "1.75    3048\n",
      "2.25    2047\n",
      "2.00    1930\n",
      "1.50    1446\n",
      "2.75    1185\n",
      "3.00     753\n",
      "3.50     731\n",
      "3.25     589\n",
      "3.75     155\n",
      "4.00     136\n",
      "4.50     100\n",
      "4.25      79\n",
      "0.75      72\n",
      "4.75      23\n",
      "5.00      21\n",
      "5.25      13\n",
      "0.00      10\n",
      "5.50      10\n",
      "1.25       9\n",
      "6.00       6\n",
      "0.50       4\n",
      "5.75       4\n",
      "6.75       2\n",
      "8.00       2\n",
      "6.25       2\n",
      "6.50       2\n",
      "7.50       1\n",
      "7.75       1\n",
      "Name: bathrooms, dtype: int64\n"
     ]
    },
    {
     "data": {
      "text/plain": [
       "Text(0, 0.5, 'Count')"
      ]
     },
     "execution_count": 144,
     "metadata": {},
     "output_type": "execute_result"
    },
    {
     "data": {
      "image/png": "[encoded data removed]",
      "text/plain": [
       "<Figure size 432x288 with 1 Axes>"
      ]
     },
     "metadata": {
      "needs_background": "light"
     },
     "output_type": "display_data"
    }
   ],
   "source": [
    "# Bedrooms: Calculate and display number of homes with each bathroom count, display a histogram\n",
    "\n",
    "print('Count of bathrooms:\\n', housing_data['bathrooms'].value_counts())\n",
    "\n",
    "graph_3 = sns.distplot(housing_data['bathrooms'], bins = 30, hist = True, kde = False)\n",
    "graph_3.set_title('Bathroom count distribution')\n",
    "graph_3.set_ylabel('Count')"
   ]
  },
  {
   "cell_type": "markdown",
   "id": "e529ac4f",
   "metadata": {},
   "source": [
    "Similar to the distribution of bedroom count, there are a few outliers in the dataframe with many bathrooms. In order to create an accurate model for average family homes, the focus for this analysis should be homes with 1 to 4.5 bathrooms."
   ]
  },
  {
   "cell_type": "code",
   "execution_count": 145,
   "id": "778087f6",
   "metadata": {},
   "outputs": [
    {
     "data": {
      "text/plain": [
       "Text(0.5, 1.0, 'Correlation of price and year built')"
      ]
     },
     "execution_count": 145,
     "metadata": {},
     "output_type": "execute_result"
    },
    {
     "data": {
      "image/png": "[encoded data removed]",
      "text/plain": [
       "<Figure size 432x288 with 1 Axes>"
      ]
     },
     "metadata": {
      "needs_background": "light"
     },
     "output_type": "display_data"
    }
   ],
   "source": [
    "# Graph 4\n",
    "# Check correlation of year built with price\n",
    "\n",
    "graph_4 = sns.regplot(x = housing_data['yr_built'], y = housing_data['price'])\n",
    "graph_4.set_title('Correlation of price and year built')"
   ]
  },
  {
   "cell_type": "markdown",
   "id": "71bb149e",
   "metadata": {},
   "source": [
    "This graph shows that there is a correlation between the year a house was built and the price it sold for. The graph shows that the outliers in this dataset are skewing the relationship. Excluding the homes that sold significantly above average (multi-million dollar homes) will help to ensure accuracy of this model. "
   ]
  },
  {
   "cell_type": "code",
   "execution_count": 146,
   "id": "6252dd4f",
   "metadata": {},
   "outputs": [
    {
     "name": "stderr",
     "output_type": "stream",
     "text": [
      "/Users/allison.forte/opt/anaconda3/lib/python3.9/site-packages/seaborn/distributions.py:2619: FutureWarning: `distplot` is a deprecated function and will be removed in a future version. Please adapt your code to use either `displot` (a figure-level function with similar flexibility) or `histplot` (an axes-level function for histograms).\n",
      "  warnings.warn(msg, FutureWarning)\n"
     ]
    },
    {
     "data": {
      "text/plain": [
       "Text(0, 0.5, 'Count')"
      ]
     },
     "execution_count": 146,
     "metadata": {},
     "output_type": "execute_result"
    },
    {
     "data": {
      "image/png": "[encoded data removed]",
      "text/plain": [
       "<Figure size 432x288 with 1 Axes>"
      ]
     },
     "metadata": {
      "needs_background": "light"
     },
     "output_type": "display_data"
    }
   ],
   "source": [
    "# Graph 5\n",
    "# What does the distribution of home prices in this dataset look like?\n",
    "\n",
    "graph_5 = sns.distplot(housing_data['price'], bins = 10, hist = True, kde = False)\n",
    "graph_5.set_title('Home price distribution')\n",
    "graph_5.set_ylabel('Count')"
   ]
  },
  {
   "cell_type": "markdown",
   "id": "2692dbdb",
   "metadata": {},
   "source": [
    "The home prices in this dataset are heavily skewed to the lower end of the distribution. In order to create a useful model, this analysis will exclude the outliers that are multi-million dollar homes. This analysis will focus on homes that sold for less than 2 million dollars. "
   ]
  },
  {
   "cell_type": "markdown",
   "id": "eda201eb",
   "metadata": {},
   "source": [
    "### Write a short overview/conclusion of the insights gained from your graphical analysis."
   ]
  },
  {
   "cell_type": "markdown",
   "id": "e7a6fb55",
   "metadata": {},
   "source": [
    "The graphical analysis performed on this dataset indicates the need for refining of the data. This data set contains over 21 thousand entries. Several homes are outliers in different ways. In order to create a useful model, excluding these outliers will be important. Additional data preparation will include removing the homes that have excessive bedrooms and bathrooms as well as removing homes that sold for significantly more than others. It is likely that the outliers are all the same for homes (the homes with extremely high bedrooms/bathrooms are likely the ones that sold for much higher price and have much higher square footage). \n",
    "\n",
    "These graphs show that there are several factors that do correlate with price. Further analysis should lead to a model that can predict sale price. "
   ]
  },
  {
   "cell_type": "markdown",
   "id": "0fcbd5b3",
   "metadata": {},
   "source": [
    "# Term Project Milestone 2\n",
    "## Data Preparation\n",
    "\n",
    "\n",
    "Explain your process at each step. You can use any methods/tools you think are most appropriate. Do what makes the most sense for your data/problem. This will vary greatly among different projects. Be careful to avoid data snooping in these steps."
   ]
  },
  {
   "cell_type": "code",
   "execution_count": 147,
   "id": "4ace526d",
   "metadata": {},
   "outputs": [],
   "source": [
    "# Drop columns that will not be useful\n",
    "\n",
    "# Drop id (a unique id for each home sold) as we do not need to identify specific homes\n",
    "housing_data = housing_data.drop('id', axis = 1)  "
   ]
  },
  {
   "cell_type": "code",
   "execution_count": 148,
   "id": "03f074b6",
   "metadata": {},
   "outputs": [
    {
     "data": {
      "text/plain": [
       "date             0\n",
       "price            0\n",
       "bedrooms         0\n",
       "bathrooms        0\n",
       "sqft_living      0\n",
       "sqft_lot         0\n",
       "floors           0\n",
       "waterfront       0\n",
       "view             0\n",
       "condition        0\n",
       "grade            0\n",
       "sqft_above       0\n",
       "sqft_basement    0\n",
       "yr_built         0\n",
       "yr_renovated     0\n",
       "zipcode          0\n",
       "lat              0\n",
       "long             0\n",
       "sqft_living15    0\n",
       "sqft_lot15       0\n",
       "dtype: int64"
      ]
     },
     "execution_count": 148,
     "metadata": {},
     "output_type": "execute_result"
    }
   ],
   "source": [
    "# Deal with missing data\n",
    "\n",
    "# Check for missing values in the dataframe\n",
    "housing_data.isna().sum()"
   ]
  },
  {
   "cell_type": "markdown",
   "id": "f3ca940b",
   "metadata": {},
   "source": [
    "The count of NA values shows there are no missing values to deal with"
   ]
  },
  {
   "cell_type": "code",
   "execution_count": 149,
   "id": "a005880f",
   "metadata": {},
   "outputs": [],
   "source": [
    "# Turn grade into categories (grade - An index from 1 to 13 , where 1-3 falls short of building construction \n",
    "# and design, 7 has an average level of construction and design , and 11-13 have a high quality level of \n",
    "# construction and design)\n",
    "\n",
    "housing_data['grade'] = housing_data['grade'].replace([1, 2, 3, 4, 5, 6, 7, 8, 9, 10, 11, 12, 13], \n",
    "                                                      ['Low', 'Low', 'Low', 'Average', 'Average', 'Average', \n",
    "                                                       'Average', 'Average', 'Average', 'Average', 'High', \n",
    "                                                       'High', 'High'])"
   ]
  },
  {
   "cell_type": "code",
   "execution_count": 150,
   "id": "5909de52",
   "metadata": {},
   "outputs": [],
   "source": [
    "# Turn view into categories (view is rated 0-4 with 0 = worst, 4 = best)\n",
    "# 0-1 = poor view, 2 = average view, 3-4 = good view\n",
    "\n",
    "housing_data['view'] = housing_data['view'].replace([0, 1, 2, 3, 4], ['Poor', 'Poor', 'Typical', 'Good', 'Good'])"
   ]
  },
  {
   "cell_type": "code",
   "execution_count": 151,
   "id": "93d60679",
   "metadata": {},
   "outputs": [
    {
     "name": "stdout",
     "output_type": "stream",
     "text": [
      "Number of duplicated rows: 0\n"
     ]
    }
   ],
   "source": [
    "# Check for duplicates\n",
    "\n",
    "duplicate = housing_data[housing_data.duplicated()]\n",
    " \n",
    "print('Number of duplicated rows:', duplicate.shape[0])"
   ]
  },
  {
   "cell_type": "code",
   "execution_count": 152,
   "id": "81ebbf6d",
   "metadata": {
    "scrolled": true
   },
   "outputs": [
    {
     "data": {
      "text/html": [
       "<div>\n",
       "<style scoped>\n",
       "    .dataframe tbody tr th:only-of-type {\n",
       "        vertical-align: middle;\n",
       "    }\n",
       "\n",
       "    .dataframe tbody tr th {\n",
       "        vertical-align: top;\n",
       "    }\n",
       "\n",
       "    .dataframe thead th {\n",
       "        text-align: right;\n",
       "    }\n",
       "</style>\n",
       "<table border=\"1\" class=\"dataframe\">\n",
       "  <thead>\n",
       "    <tr style=\"text-align: right;\">\n",
       "      <th></th>\n",
       "      <th>price</th>\n",
       "      <th>bedrooms</th>\n",
       "      <th>bathrooms</th>\n",
       "      <th>sqft_living</th>\n",
       "      <th>sqft_lot</th>\n",
       "      <th>floors</th>\n",
       "      <th>waterfront</th>\n",
       "      <th>condition</th>\n",
       "      <th>sqft_above</th>\n",
       "      <th>sqft_basement</th>\n",
       "      <th>yr_built</th>\n",
       "      <th>yr_renovated</th>\n",
       "      <th>zipcode</th>\n",
       "      <th>lat</th>\n",
       "      <th>long</th>\n",
       "      <th>sqft_living15</th>\n",
       "      <th>sqft_lot15</th>\n",
       "    </tr>\n",
       "  </thead>\n",
       "  <tbody>\n",
       "    <tr>\n",
       "      <th>count</th>\n",
       "      <td>2.161300e+04</td>\n",
       "      <td>21613.000000</td>\n",
       "      <td>21613.000000</td>\n",
       "      <td>21613.000000</td>\n",
       "      <td>2.161300e+04</td>\n",
       "      <td>21613.000000</td>\n",
       "      <td>21613.000000</td>\n",
       "      <td>21613.000000</td>\n",
       "      <td>21613.000000</td>\n",
       "      <td>21613.000000</td>\n",
       "      <td>21613.000000</td>\n",
       "      <td>21613.000000</td>\n",
       "      <td>21613.000000</td>\n",
       "      <td>21613.000000</td>\n",
       "      <td>21613.000000</td>\n",
       "      <td>21613.000000</td>\n",
       "      <td>21613.000000</td>\n",
       "    </tr>\n",
       "    <tr>\n",
       "      <th>mean</th>\n",
       "      <td>5.400881e+05</td>\n",
       "      <td>3.370842</td>\n",
       "      <td>2.114757</td>\n",
       "      <td>2079.899736</td>\n",
       "      <td>1.510697e+04</td>\n",
       "      <td>1.494309</td>\n",
       "      <td>0.007542</td>\n",
       "      <td>3.409430</td>\n",
       "      <td>1788.390691</td>\n",
       "      <td>291.509045</td>\n",
       "      <td>1971.005136</td>\n",
       "      <td>84.402258</td>\n",
       "      <td>98077.939805</td>\n",
       "      <td>47.560053</td>\n",
       "      <td>-122.213896</td>\n",
       "      <td>1986.552492</td>\n",
       "      <td>12768.455652</td>\n",
       "    </tr>\n",
       "    <tr>\n",
       "      <th>std</th>\n",
       "      <td>3.671272e+05</td>\n",
       "      <td>0.930062</td>\n",
       "      <td>0.770163</td>\n",
       "      <td>918.440897</td>\n",
       "      <td>4.142051e+04</td>\n",
       "      <td>0.539989</td>\n",
       "      <td>0.086517</td>\n",
       "      <td>0.650743</td>\n",
       "      <td>828.090978</td>\n",
       "      <td>442.575043</td>\n",
       "      <td>29.373411</td>\n",
       "      <td>401.679240</td>\n",
       "      <td>53.505026</td>\n",
       "      <td>0.138564</td>\n",
       "      <td>0.140828</td>\n",
       "      <td>685.391304</td>\n",
       "      <td>27304.179631</td>\n",
       "    </tr>\n",
       "    <tr>\n",
       "      <th>min</th>\n",
       "      <td>7.500000e+04</td>\n",
       "      <td>0.000000</td>\n",
       "      <td>0.000000</td>\n",
       "      <td>290.000000</td>\n",
       "      <td>5.200000e+02</td>\n",
       "      <td>1.000000</td>\n",
       "      <td>0.000000</td>\n",
       "      <td>1.000000</td>\n",
       "      <td>290.000000</td>\n",
       "      <td>0.000000</td>\n",
       "      <td>1900.000000</td>\n",
       "      <td>0.000000</td>\n",
       "      <td>98001.000000</td>\n",
       "      <td>47.155900</td>\n",
       "      <td>-122.519000</td>\n",
       "      <td>399.000000</td>\n",
       "      <td>651.000000</td>\n",
       "    </tr>\n",
       "    <tr>\n",
       "      <th>25%</th>\n",
       "      <td>3.219500e+05</td>\n",
       "      <td>3.000000</td>\n",
       "      <td>1.750000</td>\n",
       "      <td>1427.000000</td>\n",
       "      <td>5.040000e+03</td>\n",
       "      <td>1.000000</td>\n",
       "      <td>0.000000</td>\n",
       "      <td>3.000000</td>\n",
       "      <td>1190.000000</td>\n",
       "      <td>0.000000</td>\n",
       "      <td>1951.000000</td>\n",
       "      <td>0.000000</td>\n",
       "      <td>98033.000000</td>\n",
       "      <td>47.471000</td>\n",
       "      <td>-122.328000</td>\n",
       "      <td>1490.000000</td>\n",
       "      <td>5100.000000</td>\n",
       "    </tr>\n",
       "    <tr>\n",
       "      <th>50%</th>\n",
       "      <td>4.500000e+05</td>\n",
       "      <td>3.000000</td>\n",
       "      <td>2.250000</td>\n",
       "      <td>1910.000000</td>\n",
       "      <td>7.618000e+03</td>\n",
       "      <td>1.500000</td>\n",
       "      <td>0.000000</td>\n",
       "      <td>3.000000</td>\n",
       "      <td>1560.000000</td>\n",
       "      <td>0.000000</td>\n",
       "      <td>1975.000000</td>\n",
       "      <td>0.000000</td>\n",
       "      <td>98065.000000</td>\n",
       "      <td>47.571800</td>\n",
       "      <td>-122.230000</td>\n",
       "      <td>1840.000000</td>\n",
       "      <td>7620.000000</td>\n",
       "    </tr>\n",
       "    <tr>\n",
       "      <th>75%</th>\n",
       "      <td>6.450000e+05</td>\n",
       "      <td>4.000000</td>\n",
       "      <td>2.500000</td>\n",
       "      <td>2550.000000</td>\n",
       "      <td>1.068800e+04</td>\n",
       "      <td>2.000000</td>\n",
       "      <td>0.000000</td>\n",
       "      <td>4.000000</td>\n",
       "      <td>2210.000000</td>\n",
       "      <td>560.000000</td>\n",
       "      <td>1997.000000</td>\n",
       "      <td>0.000000</td>\n",
       "      <td>98118.000000</td>\n",
       "      <td>47.678000</td>\n",
       "      <td>-122.125000</td>\n",
       "      <td>2360.000000</td>\n",
       "      <td>10083.000000</td>\n",
       "    </tr>\n",
       "    <tr>\n",
       "      <th>max</th>\n",
       "      <td>7.700000e+06</td>\n",
       "      <td>33.000000</td>\n",
       "      <td>8.000000</td>\n",
       "      <td>13540.000000</td>\n",
       "      <td>1.651359e+06</td>\n",
       "      <td>3.500000</td>\n",
       "      <td>1.000000</td>\n",
       "      <td>5.000000</td>\n",
       "      <td>9410.000000</td>\n",
       "      <td>4820.000000</td>\n",
       "      <td>2015.000000</td>\n",
       "      <td>2015.000000</td>\n",
       "      <td>98199.000000</td>\n",
       "      <td>47.777600</td>\n",
       "      <td>-121.315000</td>\n",
       "      <td>6210.000000</td>\n",
       "      <td>871200.000000</td>\n",
       "    </tr>\n",
       "  </tbody>\n",
       "</table>\n",
       "</div>"
      ],
      "text/plain": [
       "              price      bedrooms     bathrooms   sqft_living      sqft_lot  \\\n",
       "count  2.161300e+04  21613.000000  21613.000000  21613.000000  2.161300e+04   \n",
       "mean   5.400881e+05      3.370842      2.114757   2079.899736  1.510697e+04   \n",
       "std    3.671272e+05      0.930062      0.770163    918.440897  4.142051e+04   \n",
       "min    7.500000e+04      0.000000      0.000000    290.000000  5.200000e+02   \n",
       "25%    3.219500e+05      3.000000      1.750000   1427.000000  5.040000e+03   \n",
       "50%    4.500000e+05      3.000000      2.250000   1910.000000  7.618000e+03   \n",
       "75%    6.450000e+05      4.000000      2.500000   2550.000000  1.068800e+04   \n",
       "max    7.700000e+06     33.000000      8.000000  13540.000000  1.651359e+06   \n",
       "\n",
       "             floors    waterfront     condition    sqft_above  sqft_basement  \\\n",
       "count  21613.000000  21613.000000  21613.000000  21613.000000   21613.000000   \n",
       "mean       1.494309      0.007542      3.409430   1788.390691     291.509045   \n",
       "std        0.539989      0.086517      0.650743    828.090978     442.575043   \n",
       "min        1.000000      0.000000      1.000000    290.000000       0.000000   \n",
       "25%        1.000000      0.000000      3.000000   1190.000000       0.000000   \n",
       "50%        1.500000      0.000000      3.000000   1560.000000       0.000000   \n",
       "75%        2.000000      0.000000      4.000000   2210.000000     560.000000   \n",
       "max        3.500000      1.000000      5.000000   9410.000000    4820.000000   \n",
       "\n",
       "           yr_built  yr_renovated       zipcode           lat          long  \\\n",
       "count  21613.000000  21613.000000  21613.000000  21613.000000  21613.000000   \n",
       "mean    1971.005136     84.402258  98077.939805     47.560053   -122.213896   \n",
       "std       29.373411    401.679240     53.505026      0.138564      0.140828   \n",
       "min     1900.000000      0.000000  98001.000000     47.155900   -122.519000   \n",
       "25%     1951.000000      0.000000  98033.000000     47.471000   -122.328000   \n",
       "50%     1975.000000      0.000000  98065.000000     47.571800   -122.230000   \n",
       "75%     1997.000000      0.000000  98118.000000     47.678000   -122.125000   \n",
       "max     2015.000000   2015.000000  98199.000000     47.777600   -121.315000   \n",
       "\n",
       "       sqft_living15     sqft_lot15  \n",
       "count   21613.000000   21613.000000  \n",
       "mean     1986.552492   12768.455652  \n",
       "std       685.391304   27304.179631  \n",
       "min       399.000000     651.000000  \n",
       "25%      1490.000000    5100.000000  \n",
       "50%      1840.000000    7620.000000  \n",
       "75%      2360.000000   10083.000000  \n",
       "max      6210.000000  871200.000000  "
      ]
     },
     "execution_count": 152,
     "metadata": {},
     "output_type": "execute_result"
    }
   ],
   "source": [
    "# Check for outliers\n",
    "\n",
    "original_rows = housing_data.shape[0]\n",
    "housing_data.describe()"
   ]
  },
  {
   "cell_type": "markdown",
   "id": "5eb09b18",
   "metadata": {},
   "source": [
    "We can see there are outliers for bedroom count (mean = 3.37, max = 33) and bathroom count (mean = 2.1, max = 8)\n",
    "\n",
    "There are also outliers based on sqft_living (mean = 2079, max = 13540)"
   ]
  },
  {
   "cell_type": "code",
   "execution_count": 153,
   "id": "684b57a5",
   "metadata": {},
   "outputs": [],
   "source": [
    "# Drop outliers\n",
    "\n",
    "housing_data = housing_data.drop(housing_data[housing_data['bedrooms'] > 10].index)\n",
    "housing_data = housing_data.drop(housing_data[housing_data['bathrooms'] > 4].index)\n",
    "housing_data = housing_data.drop(housing_data[housing_data['sqft_living'] > 5000].index)\n",
    "\n",
    "new_rows = housing_data.shape[0]\n",
    "removed_rows = original_rows - new_rows"
   ]
  },
  {
   "cell_type": "code",
   "execution_count": 154,
   "id": "11797456",
   "metadata": {},
   "outputs": [
    {
     "name": "stdout",
     "output_type": "stream",
     "text": [
      "372 rows of data were droped as outliers\n"
     ]
    }
   ],
   "source": [
    "print('{} rows of data were droped as outliers'.format(removed_rows))"
   ]
  },
  {
   "cell_type": "code",
   "execution_count": 155,
   "id": "b00ac51e",
   "metadata": {},
   "outputs": [],
   "source": [
    "# Create dummies for grade\n",
    "\n",
    "grade_dummies = pd.get_dummies(housing_data['grade'])\n",
    "\n",
    "housing_data = housing_data.join(grade_dummies)"
   ]
  },
  {
   "cell_type": "code",
   "execution_count": 156,
   "id": "55eb1e99",
   "metadata": {},
   "outputs": [],
   "source": [
    "# Create dummies for view\n",
    "\n",
    "view_dummies = pd.get_dummies(housing_data['view'])\n",
    "\n",
    "housing_data = housing_data.join(view_dummies)"
   ]
  },
  {
   "cell_type": "code",
   "execution_count": 157,
   "id": "8d368273",
   "metadata": {},
   "outputs": [],
   "source": [
    "# Generalize year built to decade built\n",
    "\n",
    "housing_data['yr_built'] = housing_data['yr_built']//10*10\n",
    "\n",
    "housing_data = housing_data.rename(columns = {'yr_built' : 'decade_built'})"
   ]
  },
  {
   "cell_type": "markdown",
   "id": "13cdb2b4",
   "metadata": {},
   "source": [
    "### Added since Milestone 2"
   ]
  },
  {
   "cell_type": "code",
   "execution_count": 158,
   "id": "f756152e",
   "metadata": {},
   "outputs": [],
   "source": [
    "# Convert lat and long to a geohash, then drop lat and long columns\n",
    "\n",
    "import pygeohash as gh\n",
    "\n",
    "housing_data['geohash'] = housing_data.apply(lambda x: gh.encode(x.lat, x.long, precision=5), axis=1)\n",
    "housing_data =  housing_data.drop(['lat', 'long'], axis = 1)  "
   ]
  },
  {
   "cell_type": "code",
   "execution_count": 159,
   "id": "977f5afb",
   "metadata": {},
   "outputs": [],
   "source": [
    "# drop columns that are no longer needed due to use of dummy columns\n",
    "\n",
    "housing_data = housing_data.drop('view', axis = 1)  \n",
    "housing_data = housing_data.drop('grade', axis = 1)\n",
    "\n",
    "\n",
    "# drop date\n",
    "\n",
    "housing_data = housing_data.drop('date', axis = 1)  "
   ]
  },
  {
   "cell_type": "code",
   "execution_count": 160,
   "id": "18e20abc",
   "metadata": {},
   "outputs": [
    {
     "data": {
      "text/html": [
       "<div>\n",
       "<style scoped>\n",
       "    .dataframe tbody tr th:only-of-type {\n",
       "        vertical-align: middle;\n",
       "    }\n",
       "\n",
       "    .dataframe tbody tr th {\n",
       "        vertical-align: top;\n",
       "    }\n",
       "\n",
       "    .dataframe thead th {\n",
       "        text-align: right;\n",
       "    }\n",
       "</style>\n",
       "<table border=\"1\" class=\"dataframe\">\n",
       "  <thead>\n",
       "    <tr style=\"text-align: right;\">\n",
       "      <th></th>\n",
       "      <th>price</th>\n",
       "      <th>bedrooms</th>\n",
       "      <th>bathrooms</th>\n",
       "      <th>sqft_living</th>\n",
       "      <th>sqft_lot</th>\n",
       "      <th>floors</th>\n",
       "      <th>waterfront</th>\n",
       "      <th>condition</th>\n",
       "      <th>sqft_above</th>\n",
       "      <th>sqft_basement</th>\n",
       "      <th>...</th>\n",
       "      <th>zipcode</th>\n",
       "      <th>sqft_living15</th>\n",
       "      <th>sqft_lot15</th>\n",
       "      <th>Average</th>\n",
       "      <th>High</th>\n",
       "      <th>Low</th>\n",
       "      <th>Good</th>\n",
       "      <th>Poor</th>\n",
       "      <th>Typical</th>\n",
       "      <th>geohash</th>\n",
       "    </tr>\n",
       "  </thead>\n",
       "  <tbody>\n",
       "    <tr>\n",
       "      <th>0</th>\n",
       "      <td>221900</td>\n",
       "      <td>3</td>\n",
       "      <td>1.00</td>\n",
       "      <td>1180</td>\n",
       "      <td>5650</td>\n",
       "      <td>1.0</td>\n",
       "      <td>0</td>\n",
       "      <td>3</td>\n",
       "      <td>1180</td>\n",
       "      <td>0</td>\n",
       "      <td>...</td>\n",
       "      <td>98178</td>\n",
       "      <td>1340</td>\n",
       "      <td>5650</td>\n",
       "      <td>1</td>\n",
       "      <td>0</td>\n",
       "      <td>0</td>\n",
       "      <td>0</td>\n",
       "      <td>1</td>\n",
       "      <td>0</td>\n",
       "      <td>c23n3</td>\n",
       "    </tr>\n",
       "    <tr>\n",
       "      <th>1</th>\n",
       "      <td>538000</td>\n",
       "      <td>3</td>\n",
       "      <td>2.25</td>\n",
       "      <td>2570</td>\n",
       "      <td>7242</td>\n",
       "      <td>2.0</td>\n",
       "      <td>0</td>\n",
       "      <td>3</td>\n",
       "      <td>2170</td>\n",
       "      <td>400</td>\n",
       "      <td>...</td>\n",
       "      <td>98125</td>\n",
       "      <td>1690</td>\n",
       "      <td>7639</td>\n",
       "      <td>1</td>\n",
       "      <td>0</td>\n",
       "      <td>0</td>\n",
       "      <td>0</td>\n",
       "      <td>1</td>\n",
       "      <td>0</td>\n",
       "      <td>c23p2</td>\n",
       "    </tr>\n",
       "    <tr>\n",
       "      <th>2</th>\n",
       "      <td>180000</td>\n",
       "      <td>2</td>\n",
       "      <td>1.00</td>\n",
       "      <td>770</td>\n",
       "      <td>10000</td>\n",
       "      <td>1.0</td>\n",
       "      <td>0</td>\n",
       "      <td>3</td>\n",
       "      <td>770</td>\n",
       "      <td>0</td>\n",
       "      <td>...</td>\n",
       "      <td>98028</td>\n",
       "      <td>2720</td>\n",
       "      <td>8062</td>\n",
       "      <td>1</td>\n",
       "      <td>0</td>\n",
       "      <td>0</td>\n",
       "      <td>0</td>\n",
       "      <td>1</td>\n",
       "      <td>0</td>\n",
       "      <td>c23pd</td>\n",
       "    </tr>\n",
       "    <tr>\n",
       "      <th>3</th>\n",
       "      <td>604000</td>\n",
       "      <td>4</td>\n",
       "      <td>3.00</td>\n",
       "      <td>1960</td>\n",
       "      <td>5000</td>\n",
       "      <td>1.0</td>\n",
       "      <td>0</td>\n",
       "      <td>5</td>\n",
       "      <td>1050</td>\n",
       "      <td>910</td>\n",
       "      <td>...</td>\n",
       "      <td>98136</td>\n",
       "      <td>1360</td>\n",
       "      <td>5000</td>\n",
       "      <td>1</td>\n",
       "      <td>0</td>\n",
       "      <td>0</td>\n",
       "      <td>0</td>\n",
       "      <td>1</td>\n",
       "      <td>0</td>\n",
       "      <td>c22yq</td>\n",
       "    </tr>\n",
       "    <tr>\n",
       "      <th>4</th>\n",
       "      <td>510000</td>\n",
       "      <td>3</td>\n",
       "      <td>2.00</td>\n",
       "      <td>1680</td>\n",
       "      <td>8080</td>\n",
       "      <td>1.0</td>\n",
       "      <td>0</td>\n",
       "      <td>3</td>\n",
       "      <td>1680</td>\n",
       "      <td>0</td>\n",
       "      <td>...</td>\n",
       "      <td>98074</td>\n",
       "      <td>1800</td>\n",
       "      <td>7503</td>\n",
       "      <td>1</td>\n",
       "      <td>0</td>\n",
       "      <td>0</td>\n",
       "      <td>0</td>\n",
       "      <td>1</td>\n",
       "      <td>0</td>\n",
       "      <td>c23ny</td>\n",
       "    </tr>\n",
       "    <tr>\n",
       "      <th>...</th>\n",
       "      <td>...</td>\n",
       "      <td>...</td>\n",
       "      <td>...</td>\n",
       "      <td>...</td>\n",
       "      <td>...</td>\n",
       "      <td>...</td>\n",
       "      <td>...</td>\n",
       "      <td>...</td>\n",
       "      <td>...</td>\n",
       "      <td>...</td>\n",
       "      <td>...</td>\n",
       "      <td>...</td>\n",
       "      <td>...</td>\n",
       "      <td>...</td>\n",
       "      <td>...</td>\n",
       "      <td>...</td>\n",
       "      <td>...</td>\n",
       "      <td>...</td>\n",
       "      <td>...</td>\n",
       "      <td>...</td>\n",
       "      <td>...</td>\n",
       "    </tr>\n",
       "    <tr>\n",
       "      <th>21608</th>\n",
       "      <td>360000</td>\n",
       "      <td>3</td>\n",
       "      <td>2.50</td>\n",
       "      <td>1530</td>\n",
       "      <td>1131</td>\n",
       "      <td>3.0</td>\n",
       "      <td>0</td>\n",
       "      <td>3</td>\n",
       "      <td>1530</td>\n",
       "      <td>0</td>\n",
       "      <td>...</td>\n",
       "      <td>98103</td>\n",
       "      <td>1530</td>\n",
       "      <td>1509</td>\n",
       "      <td>1</td>\n",
       "      <td>0</td>\n",
       "      <td>0</td>\n",
       "      <td>0</td>\n",
       "      <td>1</td>\n",
       "      <td>0</td>\n",
       "      <td>c22zr</td>\n",
       "    </tr>\n",
       "    <tr>\n",
       "      <th>21609</th>\n",
       "      <td>400000</td>\n",
       "      <td>4</td>\n",
       "      <td>2.50</td>\n",
       "      <td>2310</td>\n",
       "      <td>5813</td>\n",
       "      <td>2.0</td>\n",
       "      <td>0</td>\n",
       "      <td>3</td>\n",
       "      <td>2310</td>\n",
       "      <td>0</td>\n",
       "      <td>...</td>\n",
       "      <td>98146</td>\n",
       "      <td>1830</td>\n",
       "      <td>7200</td>\n",
       "      <td>1</td>\n",
       "      <td>0</td>\n",
       "      <td>0</td>\n",
       "      <td>0</td>\n",
       "      <td>1</td>\n",
       "      <td>0</td>\n",
       "      <td>c22yr</td>\n",
       "    </tr>\n",
       "    <tr>\n",
       "      <th>21610</th>\n",
       "      <td>402101</td>\n",
       "      <td>2</td>\n",
       "      <td>0.75</td>\n",
       "      <td>1020</td>\n",
       "      <td>1350</td>\n",
       "      <td>2.0</td>\n",
       "      <td>0</td>\n",
       "      <td>3</td>\n",
       "      <td>1020</td>\n",
       "      <td>0</td>\n",
       "      <td>...</td>\n",
       "      <td>98144</td>\n",
       "      <td>1020</td>\n",
       "      <td>2007</td>\n",
       "      <td>1</td>\n",
       "      <td>0</td>\n",
       "      <td>0</td>\n",
       "      <td>0</td>\n",
       "      <td>1</td>\n",
       "      <td>0</td>\n",
       "      <td>c23nc</td>\n",
       "    </tr>\n",
       "    <tr>\n",
       "      <th>21611</th>\n",
       "      <td>400000</td>\n",
       "      <td>3</td>\n",
       "      <td>2.50</td>\n",
       "      <td>1600</td>\n",
       "      <td>2388</td>\n",
       "      <td>2.0</td>\n",
       "      <td>0</td>\n",
       "      <td>3</td>\n",
       "      <td>1600</td>\n",
       "      <td>0</td>\n",
       "      <td>...</td>\n",
       "      <td>98027</td>\n",
       "      <td>1410</td>\n",
       "      <td>1287</td>\n",
       "      <td>1</td>\n",
       "      <td>0</td>\n",
       "      <td>0</td>\n",
       "      <td>0</td>\n",
       "      <td>1</td>\n",
       "      <td>0</td>\n",
       "      <td>c23nq</td>\n",
       "    </tr>\n",
       "    <tr>\n",
       "      <th>21612</th>\n",
       "      <td>325000</td>\n",
       "      <td>2</td>\n",
       "      <td>0.75</td>\n",
       "      <td>1020</td>\n",
       "      <td>1076</td>\n",
       "      <td>2.0</td>\n",
       "      <td>0</td>\n",
       "      <td>3</td>\n",
       "      <td>1020</td>\n",
       "      <td>0</td>\n",
       "      <td>...</td>\n",
       "      <td>98144</td>\n",
       "      <td>1020</td>\n",
       "      <td>1357</td>\n",
       "      <td>1</td>\n",
       "      <td>0</td>\n",
       "      <td>0</td>\n",
       "      <td>0</td>\n",
       "      <td>1</td>\n",
       "      <td>0</td>\n",
       "      <td>c23nc</td>\n",
       "    </tr>\n",
       "  </tbody>\n",
       "</table>\n",
       "<p>21241 rows × 22 columns</p>\n",
       "</div>"
      ],
      "text/plain": [
       "        price  bedrooms  bathrooms  sqft_living  sqft_lot  floors  waterfront  \\\n",
       "0      221900         3       1.00         1180      5650     1.0           0   \n",
       "1      538000         3       2.25         2570      7242     2.0           0   \n",
       "2      180000         2       1.00          770     10000     1.0           0   \n",
       "3      604000         4       3.00         1960      5000     1.0           0   \n",
       "4      510000         3       2.00         1680      8080     1.0           0   \n",
       "...       ...       ...        ...          ...       ...     ...         ...   \n",
       "21608  360000         3       2.50         1530      1131     3.0           0   \n",
       "21609  400000         4       2.50         2310      5813     2.0           0   \n",
       "21610  402101         2       0.75         1020      1350     2.0           0   \n",
       "21611  400000         3       2.50         1600      2388     2.0           0   \n",
       "21612  325000         2       0.75         1020      1076     2.0           0   \n",
       "\n",
       "       condition  sqft_above  sqft_basement  ...  zipcode  sqft_living15  \\\n",
       "0              3        1180              0  ...    98178           1340   \n",
       "1              3        2170            400  ...    98125           1690   \n",
       "2              3         770              0  ...    98028           2720   \n",
       "3              5        1050            910  ...    98136           1360   \n",
       "4              3        1680              0  ...    98074           1800   \n",
       "...          ...         ...            ...  ...      ...            ...   \n",
       "21608          3        1530              0  ...    98103           1530   \n",
       "21609          3        2310              0  ...    98146           1830   \n",
       "21610          3        1020              0  ...    98144           1020   \n",
       "21611          3        1600              0  ...    98027           1410   \n",
       "21612          3        1020              0  ...    98144           1020   \n",
       "\n",
       "       sqft_lot15  Average  High  Low  Good  Poor  Typical  geohash  \n",
       "0            5650        1     0    0     0     1        0    c23n3  \n",
       "1            7639        1     0    0     0     1        0    c23p2  \n",
       "2            8062        1     0    0     0     1        0    c23pd  \n",
       "3            5000        1     0    0     0     1        0    c22yq  \n",
       "4            7503        1     0    0     0     1        0    c23ny  \n",
       "...           ...      ...   ...  ...   ...   ...      ...      ...  \n",
       "21608        1509        1     0    0     0     1        0    c22zr  \n",
       "21609        7200        1     0    0     0     1        0    c22yr  \n",
       "21610        2007        1     0    0     0     1        0    c23nc  \n",
       "21611        1287        1     0    0     0     1        0    c23nq  \n",
       "21612        1357        1     0    0     0     1        0    c23nc  \n",
       "\n",
       "[21241 rows x 22 columns]"
      ]
     },
     "execution_count": 160,
     "metadata": {},
     "output_type": "execute_result"
    }
   ],
   "source": [
    "# Confirm all 'price' entries are numbers (analysis showed some prices were incorrectly formatted)\n",
    "\n",
    "housing_data[pd.to_numeric(housing_data['price'], errors='coerce').notnull()]"
   ]
  },
  {
   "cell_type": "code",
   "execution_count": 161,
   "id": "4f1d9e79",
   "metadata": {},
   "outputs": [],
   "source": [
    "# drop geohash since it will not work in a linear regression model\n",
    "\n",
    "housing_data = housing_data.drop('geohash', axis = 1)  "
   ]
  },
  {
   "cell_type": "code",
   "execution_count": 162,
   "id": "549a2306",
   "metadata": {},
   "outputs": [
    {
     "data": {
      "text/html": [
       "<div>\n",
       "<style scoped>\n",
       "    .dataframe tbody tr th:only-of-type {\n",
       "        vertical-align: middle;\n",
       "    }\n",
       "\n",
       "    .dataframe tbody tr th {\n",
       "        vertical-align: top;\n",
       "    }\n",
       "\n",
       "    .dataframe thead th {\n",
       "        text-align: right;\n",
       "    }\n",
       "</style>\n",
       "<table border=\"1\" class=\"dataframe\">\n",
       "  <thead>\n",
       "    <tr style=\"text-align: right;\">\n",
       "      <th></th>\n",
       "      <th>price</th>\n",
       "      <th>bedrooms</th>\n",
       "      <th>bathrooms</th>\n",
       "      <th>sqft_living</th>\n",
       "      <th>sqft_lot</th>\n",
       "      <th>floors</th>\n",
       "      <th>waterfront</th>\n",
       "      <th>condition</th>\n",
       "      <th>sqft_above</th>\n",
       "      <th>sqft_basement</th>\n",
       "      <th>...</th>\n",
       "      <th>yr_renovated</th>\n",
       "      <th>zipcode</th>\n",
       "      <th>sqft_living15</th>\n",
       "      <th>sqft_lot15</th>\n",
       "      <th>Average</th>\n",
       "      <th>High</th>\n",
       "      <th>Low</th>\n",
       "      <th>Good</th>\n",
       "      <th>Poor</th>\n",
       "      <th>Typical</th>\n",
       "    </tr>\n",
       "  </thead>\n",
       "  <tbody>\n",
       "    <tr>\n",
       "      <th>0</th>\n",
       "      <td>221900</td>\n",
       "      <td>3</td>\n",
       "      <td>1.00</td>\n",
       "      <td>1180</td>\n",
       "      <td>5650</td>\n",
       "      <td>1.0</td>\n",
       "      <td>0</td>\n",
       "      <td>3</td>\n",
       "      <td>1180</td>\n",
       "      <td>0</td>\n",
       "      <td>...</td>\n",
       "      <td>0</td>\n",
       "      <td>98178</td>\n",
       "      <td>1340</td>\n",
       "      <td>5650</td>\n",
       "      <td>1</td>\n",
       "      <td>0</td>\n",
       "      <td>0</td>\n",
       "      <td>0</td>\n",
       "      <td>1</td>\n",
       "      <td>0</td>\n",
       "    </tr>\n",
       "    <tr>\n",
       "      <th>1</th>\n",
       "      <td>538000</td>\n",
       "      <td>3</td>\n",
       "      <td>2.25</td>\n",
       "      <td>2570</td>\n",
       "      <td>7242</td>\n",
       "      <td>2.0</td>\n",
       "      <td>0</td>\n",
       "      <td>3</td>\n",
       "      <td>2170</td>\n",
       "      <td>400</td>\n",
       "      <td>...</td>\n",
       "      <td>1991</td>\n",
       "      <td>98125</td>\n",
       "      <td>1690</td>\n",
       "      <td>7639</td>\n",
       "      <td>1</td>\n",
       "      <td>0</td>\n",
       "      <td>0</td>\n",
       "      <td>0</td>\n",
       "      <td>1</td>\n",
       "      <td>0</td>\n",
       "    </tr>\n",
       "    <tr>\n",
       "      <th>2</th>\n",
       "      <td>180000</td>\n",
       "      <td>2</td>\n",
       "      <td>1.00</td>\n",
       "      <td>770</td>\n",
       "      <td>10000</td>\n",
       "      <td>1.0</td>\n",
       "      <td>0</td>\n",
       "      <td>3</td>\n",
       "      <td>770</td>\n",
       "      <td>0</td>\n",
       "      <td>...</td>\n",
       "      <td>0</td>\n",
       "      <td>98028</td>\n",
       "      <td>2720</td>\n",
       "      <td>8062</td>\n",
       "      <td>1</td>\n",
       "      <td>0</td>\n",
       "      <td>0</td>\n",
       "      <td>0</td>\n",
       "      <td>1</td>\n",
       "      <td>0</td>\n",
       "    </tr>\n",
       "    <tr>\n",
       "      <th>3</th>\n",
       "      <td>604000</td>\n",
       "      <td>4</td>\n",
       "      <td>3.00</td>\n",
       "      <td>1960</td>\n",
       "      <td>5000</td>\n",
       "      <td>1.0</td>\n",
       "      <td>0</td>\n",
       "      <td>5</td>\n",
       "      <td>1050</td>\n",
       "      <td>910</td>\n",
       "      <td>...</td>\n",
       "      <td>0</td>\n",
       "      <td>98136</td>\n",
       "      <td>1360</td>\n",
       "      <td>5000</td>\n",
       "      <td>1</td>\n",
       "      <td>0</td>\n",
       "      <td>0</td>\n",
       "      <td>0</td>\n",
       "      <td>1</td>\n",
       "      <td>0</td>\n",
       "    </tr>\n",
       "    <tr>\n",
       "      <th>4</th>\n",
       "      <td>510000</td>\n",
       "      <td>3</td>\n",
       "      <td>2.00</td>\n",
       "      <td>1680</td>\n",
       "      <td>8080</td>\n",
       "      <td>1.0</td>\n",
       "      <td>0</td>\n",
       "      <td>3</td>\n",
       "      <td>1680</td>\n",
       "      <td>0</td>\n",
       "      <td>...</td>\n",
       "      <td>0</td>\n",
       "      <td>98074</td>\n",
       "      <td>1800</td>\n",
       "      <td>7503</td>\n",
       "      <td>1</td>\n",
       "      <td>0</td>\n",
       "      <td>0</td>\n",
       "      <td>0</td>\n",
       "      <td>1</td>\n",
       "      <td>0</td>\n",
       "    </tr>\n",
       "  </tbody>\n",
       "</table>\n",
       "<p>5 rows × 21 columns</p>\n",
       "</div>"
      ],
      "text/plain": [
       "    price  bedrooms  bathrooms  sqft_living  sqft_lot  floors  waterfront  \\\n",
       "0  221900         3       1.00         1180      5650     1.0           0   \n",
       "1  538000         3       2.25         2570      7242     2.0           0   \n",
       "2  180000         2       1.00          770     10000     1.0           0   \n",
       "3  604000         4       3.00         1960      5000     1.0           0   \n",
       "4  510000         3       2.00         1680      8080     1.0           0   \n",
       "\n",
       "   condition  sqft_above  sqft_basement  ...  yr_renovated  zipcode  \\\n",
       "0          3        1180              0  ...             0    98178   \n",
       "1          3        2170            400  ...          1991    98125   \n",
       "2          3         770              0  ...             0    98028   \n",
       "3          5        1050            910  ...             0    98136   \n",
       "4          3        1680              0  ...             0    98074   \n",
       "\n",
       "   sqft_living15  sqft_lot15  Average  High  Low  Good  Poor  Typical  \n",
       "0           1340        5650        1     0    0     0     1        0  \n",
       "1           1690        7639        1     0    0     0     1        0  \n",
       "2           2720        8062        1     0    0     0     1        0  \n",
       "3           1360        5000        1     0    0     0     1        0  \n",
       "4           1800        7503        1     0    0     0     1        0  \n",
       "\n",
       "[5 rows x 21 columns]"
      ]
     },
     "execution_count": 162,
     "metadata": {},
     "output_type": "execute_result"
    }
   ],
   "source": [
    "# Check final dataframe\n",
    "\n",
    "housing_data.head()"
   ]
  },
  {
   "cell_type": "code",
   "execution_count": 163,
   "id": "358adc53",
   "metadata": {},
   "outputs": [],
   "source": [
    "# Split the data with price as the target to prepare for modeling\n",
    "\n",
    "from sklearn.model_selection import train_test_split\n",
    "\n",
    "y = housing_data[['price']]\n",
    "x = housing_data.drop('price', axis = 1)  \n",
    "\n",
    "x_train, x_test, y_train, y_test = train_test_split( x, y, test_size = 0.2) "
   ]
  },
  {
   "cell_type": "markdown",
   "id": "f3d74032",
   "metadata": {},
   "source": [
    "# Term Project Milestone 3\n",
    "## Model Building and Evaluation\n",
    "\n",
    "You are required to train and evaluate at least one model in this milestone.  \n",
    "\n",
    "Write a short overview/conclusion of the insights gained from your model building/evaluation."
   ]
  },
  {
   "cell_type": "markdown",
   "id": "2f02cf0f",
   "metadata": {},
   "source": [
    "For this project we are looking for the predicted value of a home. We are looking for a number so we are looking for a regression model rather than a classification or a clustering model. \n",
    "\n",
    "We will use a Linear Regression model and determine the most impactful parameters. "
   ]
  },
  {
   "cell_type": "code",
   "execution_count": 164,
   "id": "0feb4937",
   "metadata": {},
   "outputs": [
    {
     "name": "stdout",
     "output_type": "stream",
     "text": [
      "R squared for the test data is 0.5769640961403748\n",
      "RMSE for the test data is 203806.36225535127\n"
     ]
    }
   ],
   "source": [
    "# Run a standard linear regression model and check the accuracy using R2-value and RMSE on the test set\n",
    "\n",
    "from sklearn.linear_model import LinearRegression\n",
    "from sklearn.metrics import mean_squared_error\n",
    "\n",
    "\n",
    "model = LinearRegression()\n",
    "model.fit(x_train, y_train)\n",
    "\n",
    "print('R squared for the test data is', model.score(x_test, y_test)) \n",
    "print('RMSE for the test data is', mean_squared_error(y_test, model.predict(x_test), squared=False)) "
   ]
  },
  {
   "cell_type": "code",
   "execution_count": 165,
   "id": "8c2b721e",
   "metadata": {},
   "outputs": [],
   "source": [
    "# Now determine the most impactful features\n",
    "\n",
    "from sklearn.preprocessing import StandardScaler\n",
    "from sklearn.decomposition import PCA\n",
    "\n",
    "\n",
    "x_train_scaled = StandardScaler().fit_transform(x_train)  # scale the data first\n",
    "\n",
    "pca = PCA(n_components=.9)  # limit features while keeping 90% of the variance\n",
    "\n",
    "principalComponents_train = pca.fit_transform(x_train_scaled)\n"
   ]
  },
  {
   "cell_type": "code",
   "execution_count": 166,
   "id": "fa288ab6",
   "metadata": {},
   "outputs": [
    {
     "name": "stdout",
     "output_type": "stream",
     "text": [
      "Original number of features: 20\n",
      "Reduced number of features: 12\n"
     ]
    }
   ],
   "source": [
    "print('Original number of features:', x_train.shape[1])\n",
    "print('Reduced number of features:', principalComponents_train.shape[1])  # compare number of features"
   ]
  },
  {
   "cell_type": "code",
   "execution_count": 167,
   "id": "411ba2a8",
   "metadata": {},
   "outputs": [],
   "source": [
    "# Transform the test features with the same PCA\n",
    "\n",
    "x_test_scaled = StandardScaler().fit_transform(x_test)\n",
    "\n",
    "principalComponents_test = pca.transform(x_test_scaled)"
   ]
  },
  {
   "cell_type": "code",
   "execution_count": 168,
   "id": "3455152b",
   "metadata": {},
   "outputs": [
    {
     "name": "stdout",
     "output_type": "stream",
     "text": [
      "R squared for the test data with the PCA model is 0.5304085679837806\n",
      "RMSE for the test data with the PCA model is 214728.26020348675\n"
     ]
    }
   ],
   "source": [
    "# Run a linear regression with the PCA data and report the R2-value and RMSE on the test set\n",
    "\n",
    "PCA_model = LinearRegression()\n",
    "PCA_model.fit(principalComponents_train, y_train)\n",
    "\n",
    "print('R squared for the test data with the PCA model is', PCA_model.score(principalComponents_test, y_test)) \n",
    "print('RMSE for the test data with the PCA model is', mean_squared_error\n",
    "      (y_test, PCA_model.predict(principalComponents_test), squared=False)) "
   ]
  },
  {
   "cell_type": "markdown",
   "id": "87d46ab2",
   "metadata": {},
   "source": [
    "We can see that the PCA model accounts for slightly less variance in the data than the standard regression model. However, the PCA model only used 12 features rather than 20 making it a significantly simpler model. We know that no model will predict house prices completely correctly so we can conclude that a slight drop in percent of variability accounted for but with a significantly simpler model is worth it. "
   ]
  },
  {
   "cell_type": "code",
   "execution_count": 169,
   "id": "a68990ec",
   "metadata": {},
   "outputs": [],
   "source": [
    "# Now try using only the features that have the most variance\n",
    "\n",
    "from sklearn.preprocessing import MinMaxScaler\n",
    "\n",
    "scaler = MinMaxScaler()  # first, scale the data\n",
    "\n",
    "x_train_minmax = scaler.fit_transform(x_train)"
   ]
  },
  {
   "cell_type": "code",
   "execution_count": 170,
   "id": "60ffb63d",
   "metadata": {},
   "outputs": [
    {
     "name": "stdout",
     "output_type": "stream",
     "text": [
      "Original number of features: 20\n",
      "Reduced number of features: 5\n"
     ]
    }
   ],
   "source": [
    "# Find the features that have the highest variance\n",
    "\n",
    "from sklearn.feature_selection import VarianceThreshold\n",
    "\n",
    "thresholder = VarianceThreshold(threshold = .04)\n",
    "\n",
    "x_train_high_variance = thresholder.fit_transform(x_train_minmax)\n",
    "\n",
    "print('Original number of features:', x_train.shape[1])\n",
    "print('Reduced number of features:', x_train_high_variance.shape[1])"
   ]
  },
  {
   "cell_type": "code",
   "execution_count": 171,
   "id": "912094e9",
   "metadata": {},
   "outputs": [],
   "source": [
    "# Transform the test features with the min-max scaler\n",
    "\n",
    "x_test_minmax = scaler.fit_transform(x_test)\n",
    "\n",
    "x_test_high_variance = thresholder.transform(x_test_minmax)"
   ]
  },
  {
   "cell_type": "code",
   "execution_count": 172,
   "id": "75840ac7",
   "metadata": {},
   "outputs": [
    {
     "name": "stdout",
     "output_type": "stream",
     "text": [
      "R squared for the test data with the high variance model is 0.20138825657835335\n",
      "RMSE for the test data with the high variance model is 280025.10529759503\n"
     ]
    }
   ],
   "source": [
    "# Run a linear regression with the high variance data and report the R2-value and RMSE\n",
    "\n",
    "high_variance_model = LinearRegression()\n",
    "high_variance_model.fit(x_train_high_variance, y_train)\n",
    "\n",
    "print('R squared for the test data with the high variance model is', high_variance_model.score\n",
    "      (x_test_high_variance, y_test)) \n",
    "print('RMSE for the test data with the high variance model is', mean_squared_error\n",
    "      (y_test, high_variance_model.predict(x_test_high_variance), squared=False)) "
   ]
  },
  {
   "cell_type": "markdown",
   "id": "9b33a640",
   "metadata": {},
   "source": [
    "By using only the features with the most variance, we limited our features to only 5. This proved to be an unwise choice as our model accounted for less than 20% of the variability in the data. Giving up so many features did not allow for a useful model. "
   ]
  },
  {
   "cell_type": "markdown",
   "id": "273d62cb",
   "metadata": {},
   "source": [
    "## Conclusion\n",
    "\n",
    "Home values are important influencing individuals' net worth and ability to access equity in their home in addition, of course, to determining where one can live.\n",
    "\n",
    "With that in mind, creating a simple algorythm to predict home prices will not be 100% accurate even using all possible home features. Today, realtors rely on comparable listings taking into account the home's location, condition, and features.\n",
    "\n",
    "In this project we were able to prepare the data and identify a linear regression model using about half of the possible features that was able to account for about half of the variation in the data. Additional factors such as location would be necessary in order to get more accurate price predictions. \n",
    "\n",
    "Even though this model will not give an extremely accurate value, it will give a solid starting point, allowing homeowners to get a sense of their home's value before digging in deeper to get more specific. "
   ]
  }
 ],
 "metadata": {
  "kernelspec": {
   "display_name": "Python 3 (ipykernel)",
   "language": "python",
   "name": "python3"
  },
  "language_info": {
   "codemirror_mode": {
    "name": "ipython",
    "version": 3
   },
   "file_extension": ".py",
   "mimetype": "text/x-python",
   "name": "python",
   "nbconvert_exporter": "python",
   "pygments_lexer": "ipython3",
   "version": "3.9.7"
  }
 },
 "nbformat": 4,
 "nbformat_minor": 5
}
