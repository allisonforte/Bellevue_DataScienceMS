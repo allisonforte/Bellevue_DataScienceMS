{
 "cells": [
  {
   "cell_type": "markdown",
   "id": "0b496d71",
   "metadata": {},
   "source": [
    "Allison Forte\n",
    "\n",
    "January 10, 2023\n",
    "\n",
    "DSC 550\n",
    "\n",
    "Exercise 5.2 "
   ]
  },
  {
   "cell_type": "code",
   "execution_count": 1,
   "id": "ea313d11",
   "metadata": {},
   "outputs": [],
   "source": [
    "# Import packages and data\n",
    "\n",
    "import numpy as np\n",
    "import pandas as pd\n",
    "import sklearn\n",
    "from sklearn import metrics\n",
    "from sklearn.linear_model import LogisticRegression\n",
    "from sklearn.model_selection import train_test_split\n",
    "from sklearn.preprocessing import scale\n",
    "from sklearn import preprocessing\n",
    "\n",
    "training_data = pd.read_csv('/Users/allison.forte/Downloads/labeledTrainData.tsv',sep = '\\t')"
   ]
  },
  {
   "cell_type": "markdown",
   "id": "a581ebf2",
   "metadata": {},
   "source": [
    "# 1. Get the stemmed data using the same process you did in Week 3."
   ]
  },
  {
   "cell_type": "code",
   "execution_count": 2,
   "id": "80929739",
   "metadata": {},
   "outputs": [
    {
     "data": {
      "text/html": [
       "<div>\n",
       "<style scoped>\n",
       "    .dataframe tbody tr th:only-of-type {\n",
       "        vertical-align: middle;\n",
       "    }\n",
       "\n",
       "    .dataframe tbody tr th {\n",
       "        vertical-align: top;\n",
       "    }\n",
       "\n",
       "    .dataframe thead th {\n",
       "        text-align: right;\n",
       "    }\n",
       "</style>\n",
       "<table border=\"1\" class=\"dataframe\">\n",
       "  <thead>\n",
       "    <tr style=\"text-align: right;\">\n",
       "      <th></th>\n",
       "      <th>id</th>\n",
       "      <th>sentiment</th>\n",
       "      <th>review</th>\n",
       "    </tr>\n",
       "  </thead>\n",
       "  <tbody>\n",
       "    <tr>\n",
       "      <th>0</th>\n",
       "      <td>5814_8</td>\n",
       "      <td>1</td>\n",
       "      <td>stuff go moment mj ive start listen music watc...</td>\n",
       "    </tr>\n",
       "    <tr>\n",
       "      <th>1</th>\n",
       "      <td>2381_9</td>\n",
       "      <td>1</td>\n",
       "      <td>classic war world timothi hine entertain film ...</td>\n",
       "    </tr>\n",
       "    <tr>\n",
       "      <th>2</th>\n",
       "      <td>7759_3</td>\n",
       "      <td>0</td>\n",
       "      <td>film start manag nichola bell give welcom inve...</td>\n",
       "    </tr>\n",
       "  </tbody>\n",
       "</table>\n",
       "</div>"
      ],
      "text/plain": [
       "       id  sentiment                                             review\n",
       "0  5814_8          1  stuff go moment mj ive start listen music watc...\n",
       "1  2381_9          1  classic war world timothi hine entertain film ...\n",
       "2  7759_3          0  film start manag nichola bell give welcom inve..."
      ]
     },
     "execution_count": 2,
     "metadata": {},
     "output_type": "execute_result"
    }
   ],
   "source": [
    "# Convert to lowercase\n",
    "\n",
    "lower_reviews = []\n",
    "\n",
    "for r in training_data['review']:  \n",
    "    text = r.lower()\n",
    "    lower_reviews.append(text)\n",
    "\n",
    "training_data['review'] = lower_reviews\n",
    "\n",
    "\n",
    "# Remove punctuation and special characters from the text\n",
    "\n",
    "new_reviews = []\n",
    "\n",
    "for r in training_data['review']:\n",
    "    new_text = ''\n",
    "    \n",
    "    for character in r:\n",
    "        if character.isalnum() or character == ' ':\n",
    "            new_text += character\n",
    "    \n",
    "    new_reviews.append(new_text)\n",
    "    \n",
    "training_data['review'] = new_reviews\n",
    "\n",
    "\n",
    "# Remove stop words\n",
    "\n",
    "import nltk\n",
    "from nltk.corpus import stopwords\n",
    "from nltk.tokenize import word_tokenize\n",
    "\n",
    "stop_words = stopwords.words('english')\n",
    "\n",
    "training_data['review'] = training_data['review'].apply(\n",
    "    lambda x: ' '.join([word for word in x.split() if word not in (stop_words)]))\n",
    "\n",
    "\n",
    "# Apply NLTK’s PorterStemmer\n",
    "\n",
    "from nltk.stem import PorterStemmer\n",
    "from nltk.tokenize import word_tokenize\n",
    "\n",
    "stemmer = PorterStemmer()\n",
    "\n",
    "stemmed_reviews = []\n",
    "\n",
    "for r in training_data['review']:\n",
    "    words = r.split()\n",
    "    stems = [stemmer.stem(word) for word in words]\n",
    "    stemmed_review = ' '.join(stems)\n",
    "    stemmed_reviews.append(stemmed_review)\n",
    "    \n",
    "training_data['review'] = stemmed_reviews\n",
    "\n",
    "\n",
    "# Check stemmed text\n",
    "\n",
    "training_data.head(3)"
   ]
  },
  {
   "cell_type": "markdown",
   "id": "ea79393a",
   "metadata": {},
   "source": [
    "# 2. Split this into a training and test set."
   ]
  },
  {
   "cell_type": "code",
   "execution_count": 3,
   "id": "3f566dcf",
   "metadata": {},
   "outputs": [],
   "source": [
    "x = training_data['review']\n",
    "y = training_data['sentiment']  \n",
    "\n",
    "x_train, x_test, y_train, y_test = train_test_split( x, y, test_size = 0.2)"
   ]
  },
  {
   "cell_type": "markdown",
   "id": "2ee3d406",
   "metadata": {},
   "source": [
    "# 3. Fit and apply the tf-idf vectorization to the training set."
   ]
  },
  {
   "cell_type": "code",
   "execution_count": 4,
   "id": "65ff2cb6",
   "metadata": {},
   "outputs": [],
   "source": [
    "from sklearn.feature_extraction.text import CountVectorizer, TfidfVectorizer\n",
    "\n",
    "tf_idf = TfidfVectorizer()\n",
    "train_tfidf_matrix = tf_idf.fit_transform(x_train)"
   ]
  },
  {
   "cell_type": "markdown",
   "id": "12ec41ff",
   "metadata": {},
   "source": [
    "# 4. Apply but DO NOT FIT the tf-idf vectorization to the test set (Why?)."
   ]
  },
  {
   "cell_type": "code",
   "execution_count": 5,
   "id": "26edba1f",
   "metadata": {},
   "outputs": [],
   "source": [
    "test_tfidf_matrix = tf_idf.transform(x_test)"
   ]
  },
  {
   "cell_type": "markdown",
   "id": "e4daeea6",
   "metadata": {},
   "source": [
    "# 5. Train a logistic regression using the training data."
   ]
  },
  {
   "cell_type": "code",
   "execution_count": 6,
   "id": "6b5170f7",
   "metadata": {},
   "outputs": [],
   "source": [
    "logReg = LogisticRegression()\n",
    "logReg.fit(train_tfidf_matrix, y_train)\n",
    "predictions = logReg.predict(test_tfidf_matrix)"
   ]
  },
  {
   "cell_type": "markdown",
   "id": "4494942f",
   "metadata": {},
   "source": [
    "# 6. Find the model accuracy on test set."
   ]
  },
  {
   "cell_type": "code",
   "execution_count": 7,
   "id": "c96fdc75",
   "metadata": {},
   "outputs": [
    {
     "name": "stdout",
     "output_type": "stream",
     "text": [
      "0.9317\n",
      "0.8864\n"
     ]
    }
   ],
   "source": [
    "print(logReg.score(train_tfidf_matrix, y_train))\n",
    "print(logReg.score(test_tfidf_matrix, y_test))"
   ]
  },
  {
   "cell_type": "markdown",
   "id": "670b2ddf",
   "metadata": {},
   "source": [
    "This model has a 93% accuracy based on the training data. When applied to the test data it has a 88.6% accuracy."
   ]
  },
  {
   "cell_type": "markdown",
   "id": "042bc0ef",
   "metadata": {},
   "source": [
    "# 7. Create a confusion matrix for the test set predictions."
   ]
  },
  {
   "cell_type": "code",
   "execution_count": 8,
   "id": "5f5c5bca",
   "metadata": {},
   "outputs": [
    {
     "name": "stdout",
     "output_type": "stream",
     "text": [
      "[[2195  336]\n",
      " [ 232 2237]]\n"
     ]
    }
   ],
   "source": [
    "from sklearn.metrics import confusion_matrix\n",
    "\n",
    "print(confusion_matrix(y_test, predictions))"
   ]
  },
  {
   "cell_type": "markdown",
   "id": "33be7da5",
   "metadata": {},
   "source": [
    "# 8. Get the precision, recall, and F1-score for the test set predictions."
   ]
  },
  {
   "cell_type": "code",
   "execution_count": 9,
   "id": "6be2371c",
   "metadata": {},
   "outputs": [
    {
     "name": "stdout",
     "output_type": "stream",
     "text": [
      "              precision    recall  f1-score   support\n",
      "\n",
      "           0       0.90      0.87      0.89      2531\n",
      "           1       0.87      0.91      0.89      2469\n",
      "\n",
      "    accuracy                           0.89      5000\n",
      "   macro avg       0.89      0.89      0.89      5000\n",
      "weighted avg       0.89      0.89      0.89      5000\n",
      "\n"
     ]
    }
   ],
   "source": [
    "from sklearn.metrics import classification_report\n",
    "\n",
    "print(classification_report(y_test, predictions))"
   ]
  },
  {
   "cell_type": "markdown",
   "id": "dc76aad2",
   "metadata": {},
   "source": [
    "# 9. Create a ROC curve for the test set."
   ]
  },
  {
   "cell_type": "code",
   "execution_count": 10,
   "id": "4182b2dd",
   "metadata": {},
   "outputs": [
    {
     "data": {
      "image/png": "[encoded data removed]",
      "text/plain": [
       "<Figure size 432x288 with 1 Axes>"
      ]
     },
     "metadata": {
      "needs_background": "light"
     },
     "output_type": "display_data"
    }
   ],
   "source": [
    "probabilities = logReg.predict_proba(test_tfidf_matrix)\n",
    "predicts = probabilities[:,1]\n",
    "\n",
    "false_positive_rate, true_positive_rate, threshold = metrics.roc_curve(y_test, predicts)\n",
    "roc_auc = metrics.auc(false_positive_rate, true_positive_rate)\n",
    "\n",
    "import matplotlib.pyplot as plt\n",
    "\n",
    "plt.title('Logistic Regression ROC Curve')\n",
    "plt.plot(false_positive_rate, true_positive_rate, 'b', label = 'AUC = {:.2f}'.format(roc_auc))\n",
    "plt.legend()\n",
    "plt.plot([0, 1], [0, 1],'r--')\n",
    "plt.xlim([0, 1])\n",
    "plt.ylim([0, 1])\n",
    "plt.ylabel('true_positive_rate')\n",
    "plt.xlabel('false_positive_rate')\n",
    "plt.show()"
   ]
  },
  {
   "cell_type": "markdown",
   "id": "66bf2b1f",
   "metadata": {},
   "source": [
    "# 10. Pick another classification model you learned about this week and repeat steps (5) – (9)."
   ]
  },
  {
   "cell_type": "code",
   "execution_count": 20,
   "id": "aa88222c",
   "metadata": {},
   "outputs": [
    {
     "name": "stdout",
     "output_type": "stream",
     "text": [
      "Based on the training data, this model has an accuracy of 86.08%\n",
      "When applied to the test data, this model has an accuracy of 78.34%\n",
      "\n",
      "Confusion Matrix \n",
      " [[1850  681]\n",
      " [ 402 2067]]\n",
      "\n",
      "Precision, Recall, and F1-score \n",
      "               precision    recall  f1-score   support\n",
      "\n",
      "           0       0.82      0.73      0.77      2531\n",
      "           1       0.75      0.84      0.79      2469\n",
      "\n",
      "    accuracy                           0.78      5000\n",
      "   macro avg       0.79      0.78      0.78      5000\n",
      "weighted avg       0.79      0.78      0.78      5000\n",
      "\n"
     ]
    },
    {
     "data": {
      "image/png": "[encoded data removed]",
      "text/plain": [
       "<Figure size 432x288 with 1 Axes>"
      ]
     },
     "metadata": {
      "needs_background": "light"
     },
     "output_type": "display_data"
    }
   ],
   "source": [
    "from sklearn.neighbors import KNeighborsClassifier\n",
    "\n",
    "\n",
    "# 5. Train a KNN model using the training data.\n",
    "\n",
    "KNN = KNeighborsClassifier()\n",
    "KNN.fit(train_tfidf_matrix, y_train)\n",
    "KNN_predictions = KNN.predict(test_tfidf_matrix)\n",
    "\n",
    "\n",
    "# 6. Find the model accuracy on test set.\n",
    "\n",
    "print('Based on the training data, this model has an accuracy of {:.2%}'.format(KNN.score(train_tfidf_matrix, y_train)))\n",
    "print('When applied to the test data, this model has an accuracy of {:.2%}'.format(KNN.score(test_tfidf_matrix, y_test)))\n",
    "\n",
    "\n",
    "# 7. Create a confusion matrix for the test set predictions.\n",
    "\n",
    "print('\\nConfusion Matrix \\n', confusion_matrix(y_test, KNN_predictions))\n",
    "\n",
    "\n",
    "# 8. Get the precision, recall, and F1-score for the test set predictions.\n",
    "\n",
    "print('\\nPrecision, Recall, and F1-score \\n', classification_report(y_test, KNN_predictions))\n",
    "\n",
    "\n",
    "# 9. Create a ROC curve for the test set.\n",
    "\n",
    "KNN_probabilities = KNN.predict_proba(test_tfidf_matrix)\n",
    "KNN_predicts = KNN_probabilities[:,1]\n",
    "\n",
    "KNN_false_positive_rate, KNN_true_positive_rate, KNN_threshold = metrics.roc_curve(y_test, KNN_predicts)\n",
    "KNN_roc_auc = metrics.auc(false_positive_rate, true_positive_rate)\n",
    "\n",
    "plt.title('KNN ROC Curve')\n",
    "plt.plot(KNN_false_positive_rate, KNN_true_positive_rate, 'b', label = 'AUC = {:.2f}'.format(KNN_roc_auc))\n",
    "plt.legend()\n",
    "plt.plot([0, 1], [0, 1],'r--')\n",
    "plt.xlim([0, 1])\n",
    "plt.ylim([0, 1])\n",
    "plt.ylabel('KNN true_positive_rate')\n",
    "plt.xlabel('KNN false_positive_rate')\n",
    "plt.show()"
   ]
  },
  {
   "cell_type": "code",
   "execution_count": null,
   "id": "702ae174",
   "metadata": {},
   "outputs": [],
   "source": []
  }
 ],
 "metadata": {
  "kernelspec": {
   "display_name": "Python 3 (ipykernel)",
   "language": "python",
   "name": "python3"
  },
  "language_info": {
   "codemirror_mode": {
    "name": "ipython",
    "version": 3
   },
   "file_extension": ".py",
   "mimetype": "text/x-python",
   "name": "python",
   "nbconvert_exporter": "python",
   "pygments_lexer": "ipython3",
   "version": "3.9.7"
  }
 },
 "nbformat": 4,
 "nbformat_minor": 5
}
