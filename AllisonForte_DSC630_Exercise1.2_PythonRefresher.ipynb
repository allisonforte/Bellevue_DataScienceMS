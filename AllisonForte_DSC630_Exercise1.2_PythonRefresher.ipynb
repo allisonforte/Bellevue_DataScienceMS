{
 "cells": [
  {
   "cell_type": "markdown",
   "id": "a16f7bc6",
   "metadata": {},
   "source": [
    "Allison Forte\n",
    "\n",
    "September 3, 2022\n",
    "\n",
    "DSC 630\n",
    "\n",
    "Assignment 1.2: R/Python Refresher"
   ]
  },
  {
   "cell_type": "markdown",
   "id": "e20730c1",
   "metadata": {},
   "source": [
    "# Find a data set that interests you and has appropriate data to create some interesting visualizations. \n",
    "Comment all your code documenting your steps, process, and analysis."
   ]
  },
  {
   "cell_type": "markdown",
   "id": "e5cd6418",
   "metadata": {},
   "source": [
    "## Write a summary of your data and identify at least two questions to explore visually with your data."
   ]
  },
  {
   "cell_type": "markdown",
   "id": "5b809565",
   "metadata": {},
   "source": [
    "The data I am using is related to board games and their ratings. The data comes from Kaggle, specifically, from CAESURIC at https://www.kaggle.com/datasets/caesuric/bgggamesdata?select=basic_data.csv. \n",
    "\n",
    "The data scrapped from the BoardGameGeek XML API is several years old. It was acquired prior to July 15, 2020. This particular data set has several CSV files within it but the one I will be exploring is the basic data CSV. \n",
    "\n",
    "The basic data CSV has the basic stats on the the board games in the database at the time the data was scrapped. Given new games have been published since 2020, this data set would be larger today. \n",
    "\n",
    "Within the basic data CSV, there are 272,981 unique games listed, each with 21 attributes. This data will be a good starting point to explore the relationship between rating and bayes_rating to see how often they align, as well as to explore the player count and weight of the game compared to their rating. \n",
    "\n",
    "With this assignment I will look at the rating compared to the bayes_rating. Comparing histograms of each field will show differences in them. Is the rating or the bayes_rating generally higher?\n",
    "\n",
    "I will also look at a comparison of minimum players compared to averageweight, maximum players compared to averageweight, and averageweight compared to rating. Are games with a higher player count less complex? Do users prefer heavy weight or lightweight games?\n",
    "\n",
    "It would also be interesting to see how the user rating compared to the play time. Do users of the site rate longer games better or worse than shorter games?\n",
    "\n",
    "These questions represent a few topics that can be explored with this data set but do not capture everything that could be discovered. "
   ]
  },
  {
   "cell_type": "code",
   "execution_count": 58,
   "id": "dd16de01",
   "metadata": {},
   "outputs": [
    {
     "name": "stdout",
     "output_type": "stream",
     "text": [
      "The shape of the dataframe is (286186, 22)\n"
     ]
    },
    {
     "data": {
      "text/html": [
       "<div>\n",
       "<style scoped>\n",
       "    .dataframe tbody tr th:only-of-type {\n",
       "        vertical-align: middle;\n",
       "    }\n",
       "\n",
       "    .dataframe tbody tr th {\n",
       "        vertical-align: top;\n",
       "    }\n",
       "\n",
       "    .dataframe thead th {\n",
       "        text-align: right;\n",
       "    }\n",
       "</style>\n",
       "<table border=\"1\" class=\"dataframe\">\n",
       "  <thead>\n",
       "    <tr style=\"text-align: right;\">\n",
       "      <th></th>\n",
       "      <th>name</th>\n",
       "      <th>description</th>\n",
       "      <th>thumbnail</th>\n",
       "      <th>image</th>\n",
       "      <th>rating</th>\n",
       "      <th>bayes_rating</th>\n",
       "      <th>usersrated</th>\n",
       "      <th>bggrank</th>\n",
       "      <th>stddev</th>\n",
       "      <th>owned</th>\n",
       "      <th>...</th>\n",
       "      <th>wishing</th>\n",
       "      <th>numweights</th>\n",
       "      <th>averageweight</th>\n",
       "      <th>yearpublished</th>\n",
       "      <th>minplayers</th>\n",
       "      <th>maxplayers</th>\n",
       "      <th>playingtime</th>\n",
       "      <th>minplaytime</th>\n",
       "      <th>maxplaytime</th>\n",
       "      <th>age</th>\n",
       "    </tr>\n",
       "  </thead>\n",
       "  <tbody>\n",
       "    <tr>\n",
       "      <th>0</th>\n",
       "      <td>Die Macher</td>\n",
       "      <td>Die Macher is a game about seven sequential po...</td>\n",
       "      <td>NaN</td>\n",
       "      <td>NaN</td>\n",
       "      <td>7.62855</td>\n",
       "      <td>7.14730</td>\n",
       "      <td>5054</td>\n",
       "      <td>262</td>\n",
       "      <td>1.58914</td>\n",
       "      <td>6855</td>\n",
       "      <td>...</td>\n",
       "      <td>1960</td>\n",
       "      <td>750</td>\n",
       "      <td>4.3347</td>\n",
       "      <td>1986.0</td>\n",
       "      <td>3.0</td>\n",
       "      <td>5.0</td>\n",
       "      <td>240.0</td>\n",
       "      <td>240.0</td>\n",
       "      <td>240.0</td>\n",
       "      <td>14.0</td>\n",
       "    </tr>\n",
       "    <tr>\n",
       "      <th>1</th>\n",
       "      <td>Dragonmaster</td>\n",
       "      <td>Dragonmaster is a trick-taking card game based...</td>\n",
       "      <td>NaN</td>\n",
       "      <td>NaN</td>\n",
       "      <td>6.61412</td>\n",
       "      <td>5.80514</td>\n",
       "      <td>545</td>\n",
       "      <td>3473</td>\n",
       "      <td>1.44458</td>\n",
       "      <td>1236</td>\n",
       "      <td>...</td>\n",
       "      <td>175</td>\n",
       "      <td>54</td>\n",
       "      <td>1.9630</td>\n",
       "      <td>1981.0</td>\n",
       "      <td>3.0</td>\n",
       "      <td>4.0</td>\n",
       "      <td>30.0</td>\n",
       "      <td>30.0</td>\n",
       "      <td>30.0</td>\n",
       "      <td>12.0</td>\n",
       "    </tr>\n",
       "    <tr>\n",
       "      <th>2</th>\n",
       "      <td>Samurai</td>\n",
       "      <td>Samurai is set in medieval Japan. Players comp...</td>\n",
       "      <td>NaN</td>\n",
       "      <td>NaN</td>\n",
       "      <td>7.44438</td>\n",
       "      <td>7.24579</td>\n",
       "      <td>14332</td>\n",
       "      <td>200</td>\n",
       "      <td>1.18342</td>\n",
       "      <td>14756</td>\n",
       "      <td>...</td>\n",
       "      <td>3170</td>\n",
       "      <td>1432</td>\n",
       "      <td>2.4916</td>\n",
       "      <td>1998.0</td>\n",
       "      <td>2.0</td>\n",
       "      <td>4.0</td>\n",
       "      <td>60.0</td>\n",
       "      <td>30.0</td>\n",
       "      <td>60.0</td>\n",
       "      <td>10.0</td>\n",
       "    </tr>\n",
       "  </tbody>\n",
       "</table>\n",
       "<p>3 rows × 22 columns</p>\n",
       "</div>"
      ],
      "text/plain": [
       "           name                                        description  thumbnail  \\\n",
       "0    Die Macher  Die Macher is a game about seven sequential po...        NaN   \n",
       "1  Dragonmaster  Dragonmaster is a trick-taking card game based...        NaN   \n",
       "2       Samurai  Samurai is set in medieval Japan. Players comp...        NaN   \n",
       "\n",
       "   image   rating  bayes_rating  usersrated bggrank   stddev  owned  ...  \\\n",
       "0    NaN  7.62855       7.14730        5054     262  1.58914   6855  ...   \n",
       "1    NaN  6.61412       5.80514         545    3473  1.44458   1236  ...   \n",
       "2    NaN  7.44438       7.24579       14332     200  1.18342  14756  ...   \n",
       "\n",
       "   wishing  numweights  averageweight  yearpublished  minplayers  maxplayers  \\\n",
       "0     1960         750         4.3347         1986.0         3.0         5.0   \n",
       "1      175          54         1.9630         1981.0         3.0         4.0   \n",
       "2     3170        1432         2.4916         1998.0         2.0         4.0   \n",
       "\n",
       "   playingtime  minplaytime  maxplaytime   age  \n",
       "0        240.0        240.0        240.0  14.0  \n",
       "1         30.0         30.0         30.0  12.0  \n",
       "2         60.0         30.0         60.0  10.0  \n",
       "\n",
       "[3 rows x 22 columns]"
      ]
     },
     "execution_count": 58,
     "metadata": {},
     "output_type": "execute_result"
    }
   ],
   "source": [
    "# Load the data\n",
    "\n",
    "import pandas as pd\n",
    "\n",
    "df = pd.read_csv('/Users/allison.forte/Downloads/archive (1)/bgg_games_data/basic_data.csv')\n",
    "\n",
    "\n",
    "# Check the shape of the data and view the first few rows of data\n",
    "\n",
    "print('The shape of the dataframe is', df.shape)\n",
    "df.head(3)"
   ]
  },
  {
   "cell_type": "code",
   "execution_count": 59,
   "id": "70c489e9",
   "metadata": {},
   "outputs": [
    {
     "name": "stdout",
     "output_type": "stream",
     "text": [
      "The shape of the dataframe is (19157, 22)\n"
     ]
    },
    {
     "data": {
      "text/html": [
       "<div>\n",
       "<style scoped>\n",
       "    .dataframe tbody tr th:only-of-type {\n",
       "        vertical-align: middle;\n",
       "    }\n",
       "\n",
       "    .dataframe tbody tr th {\n",
       "        vertical-align: top;\n",
       "    }\n",
       "\n",
       "    .dataframe thead th {\n",
       "        text-align: right;\n",
       "    }\n",
       "</style>\n",
       "<table border=\"1\" class=\"dataframe\">\n",
       "  <thead>\n",
       "    <tr style=\"text-align: right;\">\n",
       "      <th></th>\n",
       "      <th>name</th>\n",
       "      <th>description</th>\n",
       "      <th>thumbnail</th>\n",
       "      <th>image</th>\n",
       "      <th>rating</th>\n",
       "      <th>bayes_rating</th>\n",
       "      <th>usersrated</th>\n",
       "      <th>bggrank</th>\n",
       "      <th>stddev</th>\n",
       "      <th>owned</th>\n",
       "      <th>...</th>\n",
       "      <th>wishing</th>\n",
       "      <th>numweights</th>\n",
       "      <th>averageweight</th>\n",
       "      <th>yearpublished</th>\n",
       "      <th>minplayers</th>\n",
       "      <th>maxplayers</th>\n",
       "      <th>playingtime</th>\n",
       "      <th>minplaytime</th>\n",
       "      <th>maxplaytime</th>\n",
       "      <th>age</th>\n",
       "    </tr>\n",
       "  </thead>\n",
       "  <tbody>\n",
       "    <tr>\n",
       "      <th>0</th>\n",
       "      <td>Die Macher</td>\n",
       "      <td>Die Macher is a game about seven sequential po...</td>\n",
       "      <td>NaN</td>\n",
       "      <td>NaN</td>\n",
       "      <td>7.62855</td>\n",
       "      <td>7.14730</td>\n",
       "      <td>5054</td>\n",
       "      <td>262</td>\n",
       "      <td>1.58914</td>\n",
       "      <td>6855</td>\n",
       "      <td>...</td>\n",
       "      <td>1960</td>\n",
       "      <td>750</td>\n",
       "      <td>4.3347</td>\n",
       "      <td>1986.0</td>\n",
       "      <td>3.0</td>\n",
       "      <td>5.0</td>\n",
       "      <td>240.0</td>\n",
       "      <td>240.0</td>\n",
       "      <td>240.0</td>\n",
       "      <td>14.0</td>\n",
       "    </tr>\n",
       "    <tr>\n",
       "      <th>1</th>\n",
       "      <td>Dragonmaster</td>\n",
       "      <td>Dragonmaster is a trick-taking card game based...</td>\n",
       "      <td>NaN</td>\n",
       "      <td>NaN</td>\n",
       "      <td>6.61412</td>\n",
       "      <td>5.80514</td>\n",
       "      <td>545</td>\n",
       "      <td>3473</td>\n",
       "      <td>1.44458</td>\n",
       "      <td>1236</td>\n",
       "      <td>...</td>\n",
       "      <td>175</td>\n",
       "      <td>54</td>\n",
       "      <td>1.9630</td>\n",
       "      <td>1981.0</td>\n",
       "      <td>3.0</td>\n",
       "      <td>4.0</td>\n",
       "      <td>30.0</td>\n",
       "      <td>30.0</td>\n",
       "      <td>30.0</td>\n",
       "      <td>12.0</td>\n",
       "    </tr>\n",
       "    <tr>\n",
       "      <th>2</th>\n",
       "      <td>Samurai</td>\n",
       "      <td>Samurai is set in medieval Japan. Players comp...</td>\n",
       "      <td>NaN</td>\n",
       "      <td>NaN</td>\n",
       "      <td>7.44438</td>\n",
       "      <td>7.24579</td>\n",
       "      <td>14332</td>\n",
       "      <td>200</td>\n",
       "      <td>1.18342</td>\n",
       "      <td>14756</td>\n",
       "      <td>...</td>\n",
       "      <td>3170</td>\n",
       "      <td>1432</td>\n",
       "      <td>2.4916</td>\n",
       "      <td>1998.0</td>\n",
       "      <td>2.0</td>\n",
       "      <td>4.0</td>\n",
       "      <td>60.0</td>\n",
       "      <td>30.0</td>\n",
       "      <td>60.0</td>\n",
       "      <td>10.0</td>\n",
       "    </tr>\n",
       "  </tbody>\n",
       "</table>\n",
       "<p>3 rows × 22 columns</p>\n",
       "</div>"
      ],
      "text/plain": [
       "           name                                        description  thumbnail  \\\n",
       "0    Die Macher  Die Macher is a game about seven sequential po...        NaN   \n",
       "1  Dragonmaster  Dragonmaster is a trick-taking card game based...        NaN   \n",
       "2       Samurai  Samurai is set in medieval Japan. Players comp...        NaN   \n",
       "\n",
       "   image   rating  bayes_rating  usersrated bggrank   stddev  owned  ...  \\\n",
       "0    NaN  7.62855       7.14730        5054     262  1.58914   6855  ...   \n",
       "1    NaN  6.61412       5.80514         545    3473  1.44458   1236  ...   \n",
       "2    NaN  7.44438       7.24579       14332     200  1.18342  14756  ...   \n",
       "\n",
       "   wishing  numweights  averageweight  yearpublished  minplayers  maxplayers  \\\n",
       "0     1960         750         4.3347         1986.0         3.0         5.0   \n",
       "1      175          54         1.9630         1981.0         3.0         4.0   \n",
       "2     3170        1432         2.4916         1998.0         2.0         4.0   \n",
       "\n",
       "   playingtime  minplaytime  maxplaytime   age  \n",
       "0        240.0        240.0        240.0  14.0  \n",
       "1         30.0         30.0         30.0  12.0  \n",
       "2         60.0         30.0         60.0  10.0  \n",
       "\n",
       "[3 rows x 22 columns]"
      ]
     },
     "execution_count": 59,
     "metadata": {},
     "output_type": "execute_result"
    }
   ],
   "source": [
    "# Remove rows of data where the game is not ranked by BGG\n",
    "\n",
    "df = df[df['bggrank'] != 'Not Ranked']\n",
    "\n",
    "\n",
    "# Find shape and view the first few rows of data again\n",
    "\n",
    "print('The shape of the dataframe is', df.shape)\n",
    "df.head(3)"
   ]
  },
  {
   "cell_type": "markdown",
   "id": "5a57e225",
   "metadata": {},
   "source": [
    "## Create a histogram or bar graph from your data."
   ]
  },
  {
   "cell_type": "code",
   "execution_count": 60,
   "id": "c7193815",
   "metadata": {},
   "outputs": [
    {
     "data": {
      "text/plain": [
       "Text(0, 0.5, 'Number of games')"
      ]
     },
     "execution_count": 60,
     "metadata": {},
     "output_type": "execute_result"
    },
    {
     "data": {
      "image/png": "[encoded data removed]",
      "text/plain": [
       "<Figure size 432x288 with 1 Axes>"
      ]
     },
     "metadata": {
      "needs_background": "light"
     },
     "output_type": "display_data"
    }
   ],
   "source": [
    "# Import matplot\n",
    "\n",
    "import matplotlib.pyplot as plt\n",
    "\n",
    "\n",
    "# Create a histogram of the game ratings showing 20 buckets for the 0-10 score\n",
    "\n",
    "df.rating.hist(grid = False, bins = 20, rwidth = 1)\n",
    "plt.title('Distribution of ratings')\n",
    "plt.xlabel('Rating')\n",
    "plt.ylabel('Number of games')"
   ]
  },
  {
   "cell_type": "code",
   "execution_count": 61,
   "id": "b93b08dd",
   "metadata": {},
   "outputs": [
    {
     "data": {
      "text/plain": [
       "Text(0, 0.5, 'Number of games')"
      ]
     },
     "execution_count": 61,
     "metadata": {},
     "output_type": "execute_result"
    },
    {
     "data": {
      "image/png": "[encoded data removed]",
      "text/plain": [
       "<Figure size 432x288 with 1 Axes>"
      ]
     },
     "metadata": {
      "needs_background": "light"
     },
     "output_type": "display_data"
    }
   ],
   "source": [
    "# Look at the same graph for the 'Bayes rating' instead of the 'rating'\n",
    "\n",
    "df.bayes_rating.hist(grid = False, bins = 20, rwidth = 1)\n",
    "plt.title('Distribution of bayes ratings')\n",
    "plt.xlabel('Bayes rating')\n",
    "plt.ylabel('Number of games')"
   ]
  },
  {
   "cell_type": "markdown",
   "id": "c06a1b9a",
   "metadata": {},
   "source": [
    "## Create a boxplot from your data."
   ]
  },
  {
   "cell_type": "code",
   "execution_count": 62,
   "id": "dc75778d",
   "metadata": {
    "scrolled": true
   },
   "outputs": [
    {
     "data": {
      "image/png": "[encoded data removed]",
      "text/plain": [
       "<Figure size 432x288 with 1 Axes>"
      ]
     },
     "metadata": {
      "needs_background": "light"
     },
     "output_type": "display_data"
    }
   ],
   "source": [
    "# Use a boxplot to look at the averageweight distribution\n",
    "\n",
    "plt.boxplot(df.averageweight)\n",
    "plt.show()"
   ]
  },
  {
   "cell_type": "markdown",
   "id": "a6fe554b",
   "metadata": {},
   "source": [
    "## Create a bivariate plot from your data."
   ]
  },
  {
   "cell_type": "code",
   "execution_count": 65,
   "id": "618acab1",
   "metadata": {},
   "outputs": [
    {
     "data": {
      "image/png": "[encoded data removed]",
      "text/plain": [
       "<Figure size 432x288 with 1 Axes>"
      ]
     },
     "metadata": {
      "needs_background": "light"
     },
     "output_type": "display_data"
    }
   ],
   "source": [
    "# Compare averageweight to rating\n",
    "\n",
    "plt.scatter(df['averageweight'], df['rating'])\n",
    "plt.xlabel('Average weight')\n",
    "plt.ylabel('Rating')\n",
    "plt.show()"
   ]
  },
  {
   "cell_type": "code",
   "execution_count": 66,
   "id": "8cfe3ea1",
   "metadata": {},
   "outputs": [
    {
     "data": {
      "image/png": "[encoded data removed]",
      "text/plain": [
       "<Figure size 432x288 with 1 Axes>"
      ]
     },
     "metadata": {
      "needs_background": "light"
     },
     "output_type": "display_data"
    }
   ],
   "source": [
    "# Compare bggrank to averageweight\n",
    "\n",
    "plt.scatter(df['bggrank'], df['averageweight'])\n",
    "plt.xlabel('Average weight')\n",
    "plt.ylabel('BGG rank')\n",
    "plt.show()"
   ]
  },
  {
   "cell_type": "markdown",
   "id": "a431c88d",
   "metadata": {},
   "source": [
    "## Create any additional visualizations that will help to answer the question(s) you want to answer."
   ]
  },
  {
   "cell_type": "code",
   "execution_count": 67,
   "id": "2cc26ebd",
   "metadata": {
    "scrolled": true
   },
   "outputs": [
    {
     "data": {
      "image/png": "[encoded data removed]",
      "text/plain": [
       "<Figure size 432x288 with 1 Axes>"
      ]
     },
     "metadata": {
      "needs_background": "light"
     },
     "output_type": "display_data"
    }
   ],
   "source": [
    "# Plot min player count compared to average weight\n",
    "\n",
    "plt.scatter(df['minplayers'], df['averageweight'])\n",
    "plt.xlabel('minplayers')\n",
    "plt.ylabel('Average weight')\n",
    "plt.show()"
   ]
  },
  {
   "cell_type": "code",
   "execution_count": 68,
   "id": "ad710255",
   "metadata": {},
   "outputs": [
    {
     "data": {
      "image/png": "[encoded data removed]",
      "text/plain": [
       "<Figure size 432x288 with 1 Axes>"
      ]
     },
     "metadata": {
      "needs_background": "light"
     },
     "output_type": "display_data"
    }
   ],
   "source": [
    "# Filter data to avoid extremely high player count of roll-and-wright style games and internet based games\n",
    "\n",
    "df2 = df[df['maxplayers'] < 99]\n",
    "\n",
    "\n",
    "# Plot max player count compared to average weight\n",
    "\n",
    "plt.scatter(df2['maxplayers'], df2['averageweight'])\n",
    "plt.xlabel('maxplayers')\n",
    "plt.ylabel('Average weight')\n",
    "plt.show()"
   ]
  },
  {
   "cell_type": "code",
   "execution_count": 69,
   "id": "de9d3927",
   "metadata": {},
   "outputs": [
    {
     "data": {
      "image/png": "[encoded data removed]",
      "text/plain": [
       "<Figure size 432x288 with 1 Axes>"
      ]
     },
     "metadata": {
      "needs_background": "light"
     },
     "output_type": "display_data"
    }
   ],
   "source": [
    "# Filter data to avoid extremely long playtimes that are outliers to this dataset\n",
    "\n",
    "df3 = df[df['playingtime'] < 1000]\n",
    "\n",
    "\n",
    "# Plot playingtime compared to rating\n",
    "\n",
    "plt.scatter(df3['playingtime'], df3['rating'])\n",
    "plt.xlabel('Playing time')\n",
    "plt.ylabel('Rating')\n",
    "plt.show()"
   ]
  },
  {
   "cell_type": "code",
   "execution_count": 70,
   "id": "ff9f9adb",
   "metadata": {},
   "outputs": [
    {
     "data": {
      "image/png": "[encoded data removed]",
      "text/plain": [
       "<Figure size 432x288 with 1 Axes>"
      ]
     },
     "metadata": {
      "needs_background": "light"
     },
     "output_type": "display_data"
    }
   ],
   "source": [
    "# Plot bggrank compared to rating\n",
    "\n",
    "plt.scatter(df['bggrank'], df['rating'])\n",
    "plt.xlabel('bggrank')\n",
    "plt.ylabel('Rating')\n",
    "plt.show()"
   ]
  },
  {
   "cell_type": "markdown",
   "id": "87f0a69d",
   "metadata": {},
   "source": [
    "## Summarize your results and make a conclusion. Explain how you arrived at this conclusion and how your visualizations support your conclusion."
   ]
  },
  {
   "cell_type": "markdown",
   "id": "0181f835",
   "metadata": {},
   "source": [
    "With the visualizations above, we can return to the original questions. \n",
    "\n",
    "First, we wanted to see whether the Bayes rating was similar to or different from the rating. We can see from the histograms of each variable, they are in fact different. They have different distributions and different centers. \n",
    "\n",
    "The boxplot of averageweight gives an idea for the spread of weights. It shows that the average averageweight rating is about 2 with common ratings extending from 0 to 4.5. Ratings above 4.5 are outliers. It is important to note that all averageweight measures are on a scale of 0-5.\n",
    "\n",
    "Several additional bivatiate plots were created to visualize relationships in the data. First, averageweight vs rating was viewed and compared to bggrank vs average weight. We can see that in general, heavier weighted games are ranked higher. Players on BGG tend to rate more complex games higher indicating that they may like them more. \n",
    "\n",
    "The game weight does not have a strong relationship to the bggrank. This indicates that the BGG rank is not based heavily on the weight of a game but rather on other factors. \n",
    "\n",
    "Next, we visualized minplayers vs averageweight as well as maxplayers vs average weight. As one would expect, game complexity dropped when the player count was higher. In general, when you play a game with more people, it needs to be simpler and less complex.\n",
    "\n",
    "Looking at playingtime vs rating, we can see that in general, as games get longer, the rating increases. This effect does level off so it is not a linear relationship.\n",
    "\n",
    "I decided to also look at BGGrank compared to rating to see if there was a noticeable relationship. I was surprised to see that lower ranked games (games with a higher rank number) actually tended to have higher ratings. This was counter to what I was expecting. \n",
    "\n",
    "Overall, there is quite a bit of information that can be discovered from this dataset. However, it is important to note that the data is 2+ years old and so does not account for recent changes. Also, This data is taken from one website with a specific group of users who rate the games. It likely does not account for all views of certain games."
   ]
  }
 ],
 "metadata": {
  "kernelspec": {
   "display_name": "Python 3 (ipykernel)",
   "language": "python",
   "name": "python3"
  },
  "language_info": {
   "codemirror_mode": {
    "name": "ipython",
    "version": 3
   },
   "file_extension": ".py",
   "mimetype": "text/x-python",
   "name": "python",
   "nbconvert_exporter": "python",
   "pygments_lexer": "ipython3",
   "version": "3.9.7"
  }
 },
 "nbformat": 4,
 "nbformat_minor": 5
}
