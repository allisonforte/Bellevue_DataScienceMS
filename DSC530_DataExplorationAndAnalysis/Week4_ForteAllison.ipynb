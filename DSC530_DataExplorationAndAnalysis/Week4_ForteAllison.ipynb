{
 "cells": [
  {
   "cell_type": "markdown",
   "id": "16cca2fa",
   "metadata": {},
   "source": [
    "Assignemnt 4.2: (3.1 & 3.2; 4.1 & 4.2)\n",
    "\n",
    "http://thinkstats2.com\n",
    "\n",
    "Copyright 2016 Allen B. Downey\n",
    "\n",
    "MIT License: https://opensource.org/licenses/MIT"
   ]
  },
  {
   "cell_type": "markdown",
   "id": "36befd45",
   "metadata": {},
   "source": [
    "## Question 3.1 \n",
    "Something like the class size paradox appears if you survey children and ask how many children are in their family. Families with many children are more likely to appear in your sample, and families with no children have no chance to be in the sample. Use the NSFG respondent variable NUMKDHH to construct the actual distribution for the number of children unnder 18 in the household. "
   ]
  },
  {
   "cell_type": "code",
   "execution_count": 30,
   "id": "c5428c2a",
   "metadata": {},
   "outputs": [
    {
     "data": {
      "text/plain": [
       "Pmf({0: 0.466178202276593, 1: 0.21405207379301322, 2: 0.19625801386889966, 3: 0.08713855815779145, 4: 0.025644380478869556, 5: 0.01072877142483318}, 'actual_numkdhh')"
      ]
     },
     "execution_count": 30,
     "metadata": {},
     "output_type": "execute_result"
    }
   ],
   "source": [
    "import thinkstats2\n",
    "import thinkplot\n",
    "import nsfg\n",
    "\n",
    "## load data\n",
    "resp = nsfg.ReadFemResp()\n",
    "\n",
    "## find pmf for vaiable in question\n",
    "pmf = thinkstats2.Pmf(resp.numkdhh, label = 'actual_numkdhh')\n",
    "pmf"
   ]
  },
  {
   "cell_type": "markdown",
   "id": "256e52d4",
   "metadata": {},
   "source": [
    "Now compute the biased distribution we would see if we see if we surveyed the children and asked them how many children under 18 (including themselves) are in their household."
   ]
  },
  {
   "cell_type": "code",
   "execution_count": 9,
   "id": "5d40f41e",
   "metadata": {},
   "outputs": [
    {
     "data": {
      "text/plain": [
       "Pmf({0: 0.0, 1: 0.20899335717935616, 2: 0.38323965252938175, 3: 0.25523760858456823, 4: 0.10015329586101177, 5: 0.052376085845682166}, 'biased_numkdhh')"
      ]
     },
     "execution_count": 9,
     "metadata": {},
     "output_type": "execute_result"
    }
   ],
   "source": [
    "biased_pmf = pmf.Copy(label = 'biased_numkdhh')\n",
    "for x, p in pmf.Items():\n",
    "    biased_pmf.Mult(x,x)\n",
    "biased_pmf.Normalize()\n",
    "biased_pmf"
   ]
  },
  {
   "cell_type": "markdown",
   "id": "4d5a46dd",
   "metadata": {},
   "source": [
    "Plot the actual and biased distributions and compute their means."
   ]
  },
  {
   "cell_type": "code",
   "execution_count": 19,
   "id": "3388edd8",
   "metadata": {},
   "outputs": [
    {
     "name": "stdout",
     "output_type": "stream",
     "text": [
      "The actual mean is 1.024205155043831.\n",
      "The observed mean is 2.403679100664282\n"
     ]
    },
    {
     "data": {
      "image/png": "[encoded data removed]",
      "text/plain": [
       "<Figure size 432x288 with 1 Axes>"
      ]
     },
     "metadata": {
      "needs_background": "light"
     },
     "output_type": "display_data"
    }
   ],
   "source": [
    "thinkplot.PrePlot(2)\n",
    "thinkplot.Pmfs([pmf, biased_pmf])\n",
    "thinkplot.Config(xlabel = 'Number of children', ylabel = 'PMF')\n",
    "print('The actual mean is {}.'.format(pmf.Mean()))\n",
    "print('The observed mean is {}'.format(biased_pmf.Mean()))"
   ]
  },
  {
   "cell_type": "markdown",
   "id": "8968c984",
   "metadata": {},
   "source": [
    "## Question 3.2 \n",
    "In “Summarizing Distributions” on page 22 we computed the mean of a sample by adding up the elements and dividing by n. If you are given a PMF, you can still compute the mean but the process is slightly different. \n",
    "\n",
    "Write functions called PmfMean and PmfVar that take a PMF object and compute the mean and variance."
   ]
  },
  {
   "cell_type": "code",
   "execution_count": 26,
   "id": "1f717ee1",
   "metadata": {},
   "outputs": [],
   "source": [
    "def PmfMean(PMF):\n",
    "    mean = sum(p * x for x, p in PMF.Items())\n",
    "    return mean\n",
    "    \n",
    "    \n",
    "def PmfVar(PMF, mean = None):\n",
    "    if mean is None:\n",
    "        mean = pmf.Mean()\n",
    "    var = sum(p * (x-mean)**2 for x, p in pmf.Items())\n",
    "    return var"
   ]
  },
  {
   "cell_type": "markdown",
   "id": "88e05c19",
   "metadata": {},
   "source": [
    "To test these methods check that they are consistent with the methods Mean and Var provided by Pmf."
   ]
  },
  {
   "cell_type": "code",
   "execution_count": 29,
   "id": "c3b16b3f",
   "metadata": {},
   "outputs": [
    {
     "name": "stdout",
     "output_type": "stream",
     "text": [
      "Mean Comparison:\n",
      "1.024205155043831\n",
      "1.024205155043831\n",
      "Variance Comparison:\n",
      "1.4128643263531195\n",
      "1.4128643263531195\n"
     ]
    }
   ],
   "source": [
    "print('Mean Comparison:')\n",
    "print(PmfMean(pmf))\n",
    "print(pmf.Mean())\n",
    "\n",
    "print('Variance Comparison:')\n",
    "print(PmfVar(pmf))\n",
    "print(pmf.Var())"
   ]
  },
  {
   "cell_type": "markdown",
   "id": "5bca7b24",
   "metadata": {},
   "source": [
    "## Question 4.1 \n",
    "How much did you weigh at birth? If you don’t know, call your mother or someone else who knows.\n",
    "Using the NSFG data (all live births), compute the distributioin of birth weights and use it to find your percentile rank.\n",
    "If you were a first baby, find your percentile rank in the distribution for first babies. \n",
    "Otherwise use the distribution for others. \n",
    "If you are in the 90th percentile or higher, call your mother back and apologize. "
   ]
  },
  {
   "cell_type": "code",
   "execution_count": 66,
   "id": "64dd5660",
   "metadata": {},
   "outputs": [
    {
     "name": "stdout",
     "output_type": "stream",
     "text": [
      "My birthweight was at the 54.870501948200776 percentile rank.\n",
      "My daughter's birthweight was at the 90.74031629612652 percentile rank.\n"
     ]
    }
   ],
   "source": [
    "# My birthweight was 7lbs, 6oz or 7.375lbs. I was a first child\n",
    "# My daughter was 8lbs 13oz or 8.8125lbs. She is the first child.\n",
    "\n",
    "import nsfg\n",
    "\n",
    "preg = nsfg.ReadFemPreg()\n",
    "preg.birthord\n",
    "firsts = preg[preg['birthord'] == 1.0]\n",
    "first_cdf = thinkstats2.Cdf(firsts.totalwgt_lb)\n",
    "\n",
    "# my birthweight was at the 54.87 percentile rank \n",
    "print('My birthweight was at the {} percentile rank.' .format(first_cdf.PercentileRank(7.375)))\n",
    "\n",
    "# my daughter was at the 90.7 percentile rank\n",
    "print('My daughter\\'s birthweight was at the {} percentile rank.' .format(first_cdf.PercentileRank(8.8125)))"
   ]
  },
  {
   "cell_type": "markdown",
   "id": "77892a79",
   "metadata": {},
   "source": [
    "## Question 4.2 \n",
    "The numbers generated by random.random are supposed to be uniform between 0 and 1; that is, every value in the range should have the same probability.\n",
    "Generate 1000 numbers from randon.random and plot their PMF and CDF.\n",
    "Is the distribution uniform?"
   ]
  },
  {
   "cell_type": "code",
   "execution_count": 69,
   "id": "86c7dab4",
   "metadata": {},
   "outputs": [
    {
     "data": {
      "image/png": "[encoded data removed]",
      "text/plain": [
       "<Figure size 432x288 with 1 Axes>"
      ]
     },
     "metadata": {
      "needs_background": "light"
     },
     "output_type": "display_data"
    }
   ],
   "source": [
    "import numpy\n",
    "\n",
    "# Generate 1000 random numbers\n",
    "nums = numpy.random.random(1000)\n",
    "\n",
    "# Plot the PMF\n",
    "pmf_nums = thinkstats2.Pmf(nums)\n",
    "thinkplot.Pmf(pmf_nums, linewidth=0.1)\n",
    "thinkplot.Config(xlabel='Random result', ylabel='PMF')"
   ]
  },
  {
   "cell_type": "code",
   "execution_count": 72,
   "id": "20a24b74",
   "metadata": {},
   "outputs": [
    {
     "data": {
      "image/png": "[encoded data removed]",
      "text/plain": [
       "<Figure size 432x288 with 1 Axes>"
      ]
     },
     "metadata": {
      "needs_background": "light"
     },
     "output_type": "display_data"
    }
   ],
   "source": [
    "# Plot the CDF\n",
    "cdf_nums = thinkstats2.Cdf(nums)\n",
    "thinkplot.Cdf(cdf_nums, linewidth=1)\n",
    "thinkplot.Config(xlabel='Random result', ylabel='CDF')"
   ]
  },
  {
   "cell_type": "markdown",
   "id": "8ce7a635",
   "metadata": {},
   "source": [
    "Based on the PMF and CDF for the random numbers generated, the distribution is uniform. "
   ]
  }
 ],
 "metadata": {
  "kernelspec": {
   "display_name": "Python 3 (ipykernel)",
   "language": "python",
   "name": "python3"
  },
  "language_info": {
   "codemirror_mode": {
    "name": "ipython",
    "version": 3
   },
   "file_extension": ".py",
   "mimetype": "text/x-python",
   "name": "python",
   "nbconvert_exporter": "python",
   "pygments_lexer": "ipython3",
   "version": "3.9.7"
  }
 },
 "nbformat": 4,
 "nbformat_minor": 5
}
