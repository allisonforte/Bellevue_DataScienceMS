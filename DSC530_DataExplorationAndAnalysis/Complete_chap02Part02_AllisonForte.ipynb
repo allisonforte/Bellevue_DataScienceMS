{
 "cells": [
  {
   "cell_type": "code",
   "execution_count": 8,
   "id": "eecfb225",
   "metadata": {},
   "outputs": [],
   "source": [
    "## DSC 530\n",
    "## Week 3 Assignment Chapter 2 assignment 2-4\n",
    "## Author Allison Forte\n",
    "\n",
    "\n",
    "import sys\n",
    "import numpy as np\n",
    "import thinkstats2\n",
    "import thinkplot\n",
    "import nsfg\n",
    "\n",
    "preg = nsfg.ReadFemPreg()\n",
    "live = preg[preg.outcome == 1]\n",
    "firsts = live[live.birthord == 1]\n",
    "others = live[live.birthord != 1]"
   ]
  },
  {
   "cell_type": "code",
   "execution_count": 36,
   "id": "f643c26e",
   "metadata": {},
   "outputs": [
    {
     "data": {
      "image/png": "[encoded data removed]",
      "text/plain": [
       "<Figure size 432x288 with 1 Axes>"
      ]
     },
     "metadata": {
      "needs_background": "light"
     },
     "output_type": "display_data"
    }
   ],
   "source": [
    "## Focus on first births\n",
    "first_hist = thinkstats2.Hist(firsts.totalwgt_lb, label='birthwgt_lb')\n",
    "thinkplot.Hist(first_hist)\n",
    "thinkplot.Config(xlabel='Birth weight (pounds)', ylabel='Count')"
   ]
  },
  {
   "cell_type": "code",
   "execution_count": 37,
   "id": "a393488b",
   "metadata": {},
   "outputs": [
    {
     "data": {
      "text/plain": [
       "7.201094430437772"
      ]
     },
     "execution_count": 37,
     "metadata": {},
     "output_type": "execute_result"
    }
   ],
   "source": [
    "first_mean = firsts.totalwgt_lb.mean()\n",
    "first_mean"
   ]
  },
  {
   "cell_type": "code",
   "execution_count": 38,
   "id": "2a88125f",
   "metadata": {},
   "outputs": [
    {
     "data": {
      "text/plain": [
       "2.0180273009157768"
      ]
     },
     "execution_count": 38,
     "metadata": {},
     "output_type": "execute_result"
    }
   ],
   "source": [
    "first_var = firsts.totalwgt_lb.var()\n",
    "first_var"
   ]
  },
  {
   "cell_type": "code",
   "execution_count": 39,
   "id": "8d5263ab",
   "metadata": {},
   "outputs": [
    {
     "data": {
      "text/plain": [
       "1.4205728777207374"
      ]
     },
     "execution_count": 39,
     "metadata": {},
     "output_type": "execute_result"
    }
   ],
   "source": [
    "first_std = firsts.totalwgt_lb.std()\n",
    "first_std"
   ]
  },
  {
   "cell_type": "code",
   "execution_count": 40,
   "id": "f13caaa1",
   "metadata": {},
   "outputs": [
    {
     "data": {
      "image/png": "[encoded data removed]",
      "text/plain": [
       "<Figure size 432x288 with 1 Axes>"
      ]
     },
     "metadata": {
      "needs_background": "light"
     },
     "output_type": "display_data"
    }
   ],
   "source": [
    "## Focus on other births\n",
    "other_hist = thinkstats2.Hist(others.totalwgt_lb, label='birthwgt_lb')\n",
    "thinkplot.Hist(other_hist)\n",
    "thinkplot.Config(xlabel='Birth weight (pounds)', ylabel='Count')"
   ]
  },
  {
   "cell_type": "code",
   "execution_count": 41,
   "id": "10d36bf2",
   "metadata": {},
   "outputs": [
    {
     "data": {
      "text/plain": [
       "7.325855614973262"
      ]
     },
     "execution_count": 41,
     "metadata": {},
     "output_type": "execute_result"
    }
   ],
   "source": [
    "other_mean = others.totalwgt_lb.mean()\n",
    "other_mean"
   ]
  },
  {
   "cell_type": "code",
   "execution_count": 42,
   "id": "78df391c",
   "metadata": {},
   "outputs": [
    {
     "data": {
      "text/plain": [
       "1.9437810258964572"
      ]
     },
     "execution_count": 42,
     "metadata": {},
     "output_type": "execute_result"
    }
   ],
   "source": [
    "other_var = others.totalwgt_lb.var()\n",
    "other_var"
   ]
  },
  {
   "cell_type": "code",
   "execution_count": 48,
   "id": "12a74da8",
   "metadata": {},
   "outputs": [
    {
     "data": {
      "text/plain": [
       "1.3941954762143138"
      ]
     },
     "execution_count": 48,
     "metadata": {},
     "output_type": "execute_result"
    }
   ],
   "source": [
    "other_std = others.totalwgt_lb.std()\n",
    "other_std"
   ]
  },
  {
   "cell_type": "code",
   "execution_count": 47,
   "id": "509fc5ad",
   "metadata": {},
   "outputs": [
    {
     "data": {
      "text/plain": [
       "-0.088672927072602"
      ]
     },
     "execution_count": 47,
     "metadata": {},
     "output_type": "execute_result"
    }
   ],
   "source": [
    "## The mean weight for first births is lower than the mean weight for subsequent births.\n",
    "## Calculate Cohen's D\n",
    "diff = first_mean - other_mean\n",
    "\n",
    "var1 = first_var\n",
    "var2 = other_var\n",
    "n1, n2 = len(firsts.totalwgt_lb), len(others.totalwgt_lb)\n",
    "\n",
    "pooled_var = (n1 * var1 + n2 * var2) / (n1 + n2)\n",
    "d = diff / np.sqrt(pooled_var)\n",
    "d"
   ]
  },
  {
   "cell_type": "code",
   "execution_count": null,
   "id": "076f5870",
   "metadata": {},
   "outputs": [],
   "source": [
    "## While the mean of first borns birthweight is lower than subsequent births, the difference is very small.\n",
    "## We know the difference is very small because the value of Cohen's D is -.0887 \n",
    "## This indicates that the difference between the means is only .08 standard deviations different.\n",
    "## Knowing the standard deviation is approximately 1.4 lbs we can conclude the difference in means is about .11 lbs or less than 2 ounces. "
   ]
  }
 ],
 "metadata": {
  "kernelspec": {
   "display_name": "Python 3 (ipykernel)",
   "language": "python",
   "name": "python3"
  },
  "language_info": {
   "codemirror_mode": {
    "name": "ipython",
    "version": 3
   },
   "file_extension": ".py",
   "mimetype": "text/x-python",
   "name": "python",
   "nbconvert_exporter": "python",
   "pygments_lexer": "ipython3",
   "version": "3.9.7"
  }
 },
 "nbformat": 4,
 "nbformat_minor": 5
}
