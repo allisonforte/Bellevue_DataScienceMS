{
 "cells": [
  {
   "cell_type": "markdown",
   "id": "76e449a9",
   "metadata": {},
   "source": [
    "Allison Forte\n",
    "\n",
    "Assignemnt 5.2: (5.1 & 5.2; 6.1)\n",
    "\n",
    "http://thinkstats2.com\n",
    "\n",
    "Copyright 2016 Allen B. Downey\n",
    "\n",
    "MIT License: https://opensource.org/licenses/MIT"
   ]
  },
  {
   "cell_type": "markdown",
   "id": "6ae4db96",
   "metadata": {},
   "source": [
    "## Question 5.1\n",
    "In the BRFSS, the distribution of heights is roughly normal with parameters μ = 178 cm and σ = 7.7 cm for men, and μ = 163 cm and σ = 7.3 cm for women.\n",
    "\n",
    "In order to join the BlueMan Group, you have to be male and between 5' 10\" and 6' 1\" tall. What percent of the US male population is in this range? (hint: use scipy.stats.norm.cdf)"
   ]
  },
  {
   "cell_type": "code",
   "execution_count": 153,
   "id": "2aec249e",
   "metadata": {},
   "outputs": [
    {
     "name": "stdout",
     "output_type": "stream",
     "text": [
      "34.27468376314746 percent of the population could apply to join BlueMan Group\n"
     ]
    }
   ],
   "source": [
    "import scipy.stats\n",
    "\n",
    "mean = 178\n",
    "standard_deviation = 7.7\n",
    "heights = scipy.stats.norm(loc = mean, scale = standard_deviation)  # describe distribution\n",
    "\n",
    "low = 70*2.54  # convert low height to cm\n",
    "high = 73*2.54  # convert high height to cm\n",
    "\n",
    "low_calc = heights.cdf(low)  # calculate the low height probability\n",
    "high_calc = heights.cdf(high)  # calculate the high height probability\n",
    "\n",
    "range_heights = high_calc - low_calc  # calculate the difference\n",
    "\n",
    "percent_population = range_heights*100  # turn range_heights into a true percentage\n",
    "\n",
    "print('{} percent of the population could apply to join BlueMan Group'.format(percent_population))  # 34% could join the group"
   ]
  },
  {
   "cell_type": "markdown",
   "id": "d273a6bf",
   "metadata": {},
   "source": [
    "## Question 5.2\n",
    "To get a feel for the Pareto distribution, let's see how differerent the world would be if the distribution of human height were Pareto. With the parameters xₘ = 1 m and α = 1.7, we get a distribution with a reasonable minimum, 1 m, and a median, 1.5 m.\n",
    "\n",
    "Plot this distribution."
   ]
  },
  {
   "cell_type": "code",
   "execution_count": 154,
   "id": "f3482ca5",
   "metadata": {},
   "outputs": [],
   "source": [
    "alpha = 1.7\n",
    "xmin = 1  # meter\n",
    "\n",
    "pareto_heights = scipy.stats.pareto(b = alpha, scale = xmin)"
   ]
  },
  {
   "cell_type": "markdown",
   "id": "6dc66c9e",
   "metadata": {},
   "source": [
    "What is the mean human height in Pareto world?"
   ]
  },
  {
   "cell_type": "code",
   "execution_count": 155,
   "id": "d638ad2f",
   "metadata": {},
   "outputs": [
    {
     "data": {
      "text/plain": [
       "2.428571428571429"
      ]
     },
     "execution_count": 155,
     "metadata": {},
     "output_type": "execute_result"
    }
   ],
   "source": [
    "pareto_heights.mean()  # mean height is 2.43 meters"
   ]
  },
  {
   "cell_type": "markdown",
   "id": "9db47af1",
   "metadata": {},
   "source": [
    "What fraction of this population is shorter than the mean?"
   ]
  },
  {
   "cell_type": "code",
   "execution_count": 156,
   "id": "ddbadeb3",
   "metadata": {},
   "outputs": [
    {
     "data": {
      "text/plain": [
       "0.778739697565288"
      ]
     },
     "execution_count": 156,
     "metadata": {},
     "output_type": "execute_result"
    }
   ],
   "source": [
    "pareto_heights.cdf(pareto_heights.mean())  # 77.9% of the population is shorter than the mean"
   ]
  },
  {
   "cell_type": "markdown",
   "id": "7f6054d8",
   "metadata": {},
   "source": [
    "If there are 7 billion people in Pareto world, how many do we expect to be taller than 1km?"
   ]
  },
  {
   "cell_type": "code",
   "execution_count": 157,
   "id": "2089e6f2",
   "metadata": {},
   "outputs": [
    {
     "data": {
      "text/plain": [
       "55602.976430479954"
      ]
     },
     "execution_count": 157,
     "metadata": {},
     "output_type": "execute_result"
    }
   ],
   "source": [
    "cdf_1km = pareto_heights.cdf(1000)  # chance of being under 1 km\n",
    "\n",
    "(1 - cdf_1km) * 7000000000  # we would expect about 55,603 people to be taller than 1 km"
   ]
  },
  {
   "cell_type": "markdown",
   "id": "3e1bd618",
   "metadata": {},
   "source": [
    "How tall do we expect the tallest person to be?"
   ]
  },
  {
   "cell_type": "code",
   "execution_count": 158,
   "id": "e2105c2d",
   "metadata": {},
   "outputs": [
    {
     "data": {
      "text/plain": [
       "618349.6106759505"
      ]
     },
     "execution_count": 158,
     "metadata": {},
     "output_type": "execute_result"
    }
   ],
   "source": [
    "# to calculate this we would use percent point function to identify the value that one person would reach\n",
    "pareto_heights.ppf(1 - 1 / 7e9)  # the tallest person would be approximately 618 km tall. "
   ]
  },
  {
   "cell_type": "markdown",
   "id": "eba9086e",
   "metadata": {},
   "source": [
    "# Question 6.1\n",
    "The distribution of income is famously skewed to the right. In this exercise, we'll measure how strong that skew is.\n",
    "\n",
    "The Current Population Survey (CPS) is a joint effort of the Bureau of Labor Statistics and the Census Bureau to study income and related variables. Data collected in 2013 is available from the Census Burea's website. I downloaded hinc06.xls, which is an Excel spreadsheet with information about household income and comnverted it to hic06.csv, a CSV file you will find in the repository for this book. You will also find hinc2.py which reads this file and transforms the data. \n",
    "\n",
    "The dataset is in the form of a series of income ranges and the number of respondents who fell in each range. The lowest range includes respondents who reported annual household income \"Under $5000.\" The highest range includes respondents who made \"$250,000 or more.\"\n",
    "\n",
    "To estimate mean and other statistics from these data, we have to make some assumptions about the lower and upper bounds, and how the values are distributed in each range.hinc2.py provides InterpolateSample, which shows one way to model this data. It takes a dataframe with a column, income, that contains the upper bound of each range, and freq, which contains the number of respondents in each frame.\n",
    "\n",
    "It also takes log_upper, which is an assumed uppper boound on the highest range, expressed in log10 dollars. The default value, log_upper = 6.0 represents the assumption that the largest income among the respondents is 10^6, or one million dollars. \n",
    "\n",
    "InterpolateSample generates a pseudo-sample; that is, a sample of household incomes that yeilds the same number of respondents in each range as the actual data. It assumes that incomes in each range are equally spaced on a log10 scale. "
   ]
  },
  {
   "cell_type": "code",
   "execution_count": 159,
   "id": "97a6dd92",
   "metadata": {},
   "outputs": [],
   "source": [
    "# creates a sample of log10 household income. Assumes that log10 income is uniform in each range.\n",
    "# df: DataFrame with columns income and freq\n",
    "# log_upper: log10 of the assumed upper bound for the highest range\n",
    "# returns: NumPy array of log10 household income\n",
    "\n",
    "\n",
    "def InterpolateSample(df, log_upper=6.0):  \n",
    "    df['log_upper'] = np.log10(df.income)  # compute the log10 of the upper bound for each range\n",
    "    df['log_lower'] = df.log_upper.shift(1)  # get the lower bounds by shifting the upper bound and filling in the first element\n",
    "    df.loc[0, 'log_lower'] = 3.0  # plug in a value for the unknown upper bound of the highest range\n",
    "    df.loc[41, 'log_upper'] = log_upper  # use the freq column to generate the right number of values in each range\n",
    "    arrays = []\n",
    "    for _, row in df.iterrows():\n",
    "        vals = np.linspace(row.log_lower, row.log_upper, int(row.freq))\n",
    "        arrays.append(vals)\n",
    "    log_sample = np.concatenate(arrays)  # collect the arrays into a single sample\n",
    "    return log_sample\n",
    "\n",
    "\n",
    "def RawMoment(xs, k):\n",
    "    return sum(x**k for x in xs) / len(xs)\n",
    "\n",
    "\n",
    "def CentralMoment(xs, k):\n",
    "    mean = RawMoment(xs, 1)\n",
    "    return sum((x - mean)**k for x in xs) / len(xs)\n",
    "\n",
    "\n",
    "def StandardizedMoment(xs, k):\n",
    "    var = CentralMoment(xs, 2)\n",
    "    std = np.sqrt(var)\n",
    "    return CentralMoment(xs, k) / std**k\n",
    "\n",
    "\n",
    "def Mean(xs):\n",
    "    return RawMoment(xs, 1)\n",
    "\n",
    "\n",
    "def Median(xs):\n",
    "    cdf = thinkstats2.Cdf(xs)\n",
    "    return cdf.Value(0.5)\n",
    "\n",
    "\n",
    "def Skewness(xs):\n",
    "    return StandardizedMoment(xs, 3)\n",
    "\n",
    "\n",
    "def PearsonMedianSkewness(xs):\n",
    "    median = Median(xs)\n",
    "    mean = RawMoment(xs, 1)\n",
    "    var = CentralMoment(xs, 2)\n",
    "    std = np.sqrt(var)\n",
    "    gp = 3 * (mean - median) / std\n",
    "    return gp"
   ]
  },
  {
   "cell_type": "code",
   "execution_count": 164,
   "id": "5f24d8e4",
   "metadata": {},
   "outputs": [],
   "source": [
    "import hinc\n",
    "import thinkstats2\n",
    "import thinkplot\n",
    "import numpy as np\n",
    "\n",
    "income_df = hinc.ReadData('code/hinc06.csv')\n",
    "log_sample = InterpolateSample(income_df, log_upper = 6.0)"
   ]
  },
  {
   "cell_type": "code",
   "execution_count": 165,
   "id": "b3ebd842",
   "metadata": {},
   "outputs": [
    {
     "data": {
      "image/png": "[encoded data removed]",
      "text/plain": [
       "<Figure size 432x288 with 1 Axes>"
      ]
     },
     "metadata": {
      "needs_background": "light"
     },
     "output_type": "display_data"
    }
   ],
   "source": [
    "log_cdf = thinkstats2.Cdf(log_sample)\n",
    "thinkplot.Cdf(log_cdf)\n",
    "thinkplot.Config(xlabel='Household income in log $', ylabel='CDF')"
   ]
  },
  {
   "cell_type": "code",
   "execution_count": 166,
   "id": "cf13b09e",
   "metadata": {},
   "outputs": [],
   "source": [
    "sample = np.power(10, log_sample)"
   ]
  },
  {
   "cell_type": "code",
   "execution_count": 167,
   "id": "37638de4",
   "metadata": {},
   "outputs": [
    {
     "data": {
      "image/png": "[encoded data removed]",
      "text/plain": [
       "<Figure size 432x288 with 1 Axes>"
      ]
     },
     "metadata": {
      "needs_background": "light"
     },
     "output_type": "display_data"
    }
   ],
   "source": [
    "cdf = thinkstats2.Cdf(sample)\n",
    "thinkplot.Cdf(cdf)\n",
    "thinkplot.Config(xlabel='Household income ($)', ylabel='CDF')"
   ]
  },
  {
   "cell_type": "markdown",
   "id": "db9dffce",
   "metadata": {},
   "source": [
    "Compute the median, mean, skewness, and Pearson's skewness of the resulting sample."
   ]
  },
  {
   "cell_type": "code",
   "execution_count": 168,
   "id": "3bbae513",
   "metadata": {},
   "outputs": [
    {
     "name": "stdout",
     "output_type": "stream",
     "text": [
      "The median of the sample is 51226.45447894046. \n",
      "The mean of the sample is 74278.70753118733.\n",
      "The skewness of the sample is 4.949920244429583. \n",
      "The Pearson Skewness is 0.7361258019141782.\n"
     ]
    }
   ],
   "source": [
    "median = Median(sample)\n",
    "mean = Mean(sample)\n",
    "skewness = Skewness(sample)\n",
    "pearson_skewness = PearsonMedianSkewness(sample)\n",
    "\n",
    "print('The median of the sample is {}. \\nThe mean of the sample is {}.'.format(median, mean))\n",
    "print('The skewness of the sample is {}. \\nThe Pearson Skewness is {}.'.format(skewness, pearson_skewness))"
   ]
  },
  {
   "cell_type": "markdown",
   "id": "6356f08b",
   "metadata": {},
   "source": [
    "What fraction of households reports a taxable income below the mean?"
   ]
  },
  {
   "cell_type": "code",
   "execution_count": 121,
   "id": "0f49c95a",
   "metadata": {},
   "outputs": [
    {
     "name": "stdout",
     "output_type": "stream",
     "text": [
      "Approximately 66.0005879566872% of households report a taxable income below the mean.\n"
     ]
    }
   ],
   "source": [
    "percent_below_mean = cdf.Prob(mean)*100\n",
    "print('Approximately {}% of households report a taxable income below the mean.'.format(percent_below_mean))"
   ]
  },
  {
   "cell_type": "markdown",
   "id": "4423e25c",
   "metadata": {},
   "source": [
    "How do the results depend on the assumed upper bound?"
   ]
  },
  {
   "cell_type": "markdown",
   "id": "f08f8b65",
   "metadata": {},
   "source": [
    "The answers here assume the upper bound for income is 1 million dollars. This upper bound is established in the InterpolateSample function by the passed arguement log_upper = 6.0\n",
    "\n",
    "If we changed the upper bound to 1 billion dollars (log_upper = 9) we would see the median remain the same but the mean drastically increase to 2929881 with a skewness of 17.5 and a Pearson Skewness of .22 \n",
    "\n",
    "On the other hand, changing the upperbound to only 100,000 dollars, we would again see the same median along with a mean reduced to 65308 with skewness of 1.17 and Pearson Skewness of .81"
   ]
  }
 ],
 "metadata": {
  "kernelspec": {
   "display_name": "Python 3 (ipykernel)",
   "language": "python",
   "name": "python3"
  },
  "language_info": {
   "codemirror_mode": {
    "name": "ipython",
    "version": 3
   },
   "file_extension": ".py",
   "mimetype": "text/x-python",
   "name": "python",
   "nbconvert_exporter": "python",
   "pygments_lexer": "ipython3",
   "version": "3.9.7"
  }
 },
 "nbformat": 4,
 "nbformat_minor": 5
}
