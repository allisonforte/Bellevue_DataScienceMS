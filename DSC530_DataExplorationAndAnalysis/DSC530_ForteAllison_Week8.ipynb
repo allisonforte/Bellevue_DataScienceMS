{
 "cells": [
  {
   "cell_type": "markdown",
   "id": "a9ff56bb",
   "metadata": {},
   "source": [
    "Allison Forte\n",
    "\n",
    "Assignemnt 8.2: (9.1; 10.1)\n",
    "\n",
    "http://thinkstats2.com\n",
    "\n",
    "Copyright 2016 Allen B. Downey\n",
    "\n",
    "MIT License: https://opensource.org/licenses/MIT"
   ]
  },
  {
   "cell_type": "markdown",
   "id": "2cecc901",
   "metadata": {},
   "source": [
    "# 9.1\n",
    "As sample size increases, the power of a hypothesis test increases, which means it is more likely to be positive if the effect is real. Conversely, as sample size decreases, the test is less likely to be positive even if the effect is real. \n",
    "\n",
    "To investigate this behavior, run the tests in this chapter with different subsets of the NSFG data. You can use thinkstats2.SampleRows to select a random subset of the rows in a DataFrame. \n",
    "\n",
    "What happens to the p-values of these tests as the sample size decreases? What is the smallest sample size that yeilds a positive test?"
   ]
  },
  {
   "cell_type": "code",
   "execution_count": 70,
   "id": "87de6785",
   "metadata": {},
   "outputs": [
    {
     "data": {
      "text/html": [
       "<div>\n",
       "<style scoped>\n",
       "    .dataframe tbody tr th:only-of-type {\n",
       "        vertical-align: middle;\n",
       "    }\n",
       "\n",
       "    .dataframe tbody tr th {\n",
       "        vertical-align: top;\n",
       "    }\n",
       "\n",
       "    .dataframe thead th {\n",
       "        text-align: right;\n",
       "    }\n",
       "</style>\n",
       "<table border=\"1\" class=\"dataframe\">\n",
       "  <thead>\n",
       "    <tr style=\"text-align: right;\">\n",
       "      <th></th>\n",
       "      <th>caseid</th>\n",
       "      <th>pregordr</th>\n",
       "      <th>howpreg_n</th>\n",
       "      <th>howpreg_p</th>\n",
       "      <th>moscurrp</th>\n",
       "      <th>nowprgdk</th>\n",
       "      <th>pregend1</th>\n",
       "      <th>pregend2</th>\n",
       "      <th>nbrnaliv</th>\n",
       "      <th>multbrth</th>\n",
       "      <th>...</th>\n",
       "      <th>laborfor_i</th>\n",
       "      <th>religion_i</th>\n",
       "      <th>metro_i</th>\n",
       "      <th>basewgt</th>\n",
       "      <th>adj_mod_basewgt</th>\n",
       "      <th>finalwgt</th>\n",
       "      <th>secu_p</th>\n",
       "      <th>sest</th>\n",
       "      <th>cmintvw</th>\n",
       "      <th>totalwgt_lb</th>\n",
       "    </tr>\n",
       "  </thead>\n",
       "  <tbody>\n",
       "    <tr>\n",
       "      <th>0</th>\n",
       "      <td>1</td>\n",
       "      <td>1</td>\n",
       "      <td>NaN</td>\n",
       "      <td>NaN</td>\n",
       "      <td>NaN</td>\n",
       "      <td>NaN</td>\n",
       "      <td>6.0</td>\n",
       "      <td>NaN</td>\n",
       "      <td>1.0</td>\n",
       "      <td>NaN</td>\n",
       "      <td>...</td>\n",
       "      <td>0</td>\n",
       "      <td>0</td>\n",
       "      <td>0</td>\n",
       "      <td>3410.389399</td>\n",
       "      <td>3869.349602</td>\n",
       "      <td>6448.271112</td>\n",
       "      <td>2</td>\n",
       "      <td>9</td>\n",
       "      <td>NaN</td>\n",
       "      <td>8.8125</td>\n",
       "    </tr>\n",
       "    <tr>\n",
       "      <th>1</th>\n",
       "      <td>1</td>\n",
       "      <td>2</td>\n",
       "      <td>NaN</td>\n",
       "      <td>NaN</td>\n",
       "      <td>NaN</td>\n",
       "      <td>NaN</td>\n",
       "      <td>6.0</td>\n",
       "      <td>NaN</td>\n",
       "      <td>1.0</td>\n",
       "      <td>NaN</td>\n",
       "      <td>...</td>\n",
       "      <td>0</td>\n",
       "      <td>0</td>\n",
       "      <td>0</td>\n",
       "      <td>3410.389399</td>\n",
       "      <td>3869.349602</td>\n",
       "      <td>6448.271112</td>\n",
       "      <td>2</td>\n",
       "      <td>9</td>\n",
       "      <td>NaN</td>\n",
       "      <td>7.8750</td>\n",
       "    </tr>\n",
       "    <tr>\n",
       "      <th>2</th>\n",
       "      <td>2</td>\n",
       "      <td>1</td>\n",
       "      <td>NaN</td>\n",
       "      <td>NaN</td>\n",
       "      <td>NaN</td>\n",
       "      <td>NaN</td>\n",
       "      <td>5.0</td>\n",
       "      <td>NaN</td>\n",
       "      <td>3.0</td>\n",
       "      <td>5.0</td>\n",
       "      <td>...</td>\n",
       "      <td>0</td>\n",
       "      <td>0</td>\n",
       "      <td>0</td>\n",
       "      <td>7226.301740</td>\n",
       "      <td>8567.549110</td>\n",
       "      <td>12999.542264</td>\n",
       "      <td>2</td>\n",
       "      <td>12</td>\n",
       "      <td>NaN</td>\n",
       "      <td>9.1250</td>\n",
       "    </tr>\n",
       "    <tr>\n",
       "      <th>3</th>\n",
       "      <td>2</td>\n",
       "      <td>2</td>\n",
       "      <td>NaN</td>\n",
       "      <td>NaN</td>\n",
       "      <td>NaN</td>\n",
       "      <td>NaN</td>\n",
       "      <td>6.0</td>\n",
       "      <td>NaN</td>\n",
       "      <td>1.0</td>\n",
       "      <td>NaN</td>\n",
       "      <td>...</td>\n",
       "      <td>0</td>\n",
       "      <td>0</td>\n",
       "      <td>0</td>\n",
       "      <td>7226.301740</td>\n",
       "      <td>8567.549110</td>\n",
       "      <td>12999.542264</td>\n",
       "      <td>2</td>\n",
       "      <td>12</td>\n",
       "      <td>NaN</td>\n",
       "      <td>7.0000</td>\n",
       "    </tr>\n",
       "    <tr>\n",
       "      <th>4</th>\n",
       "      <td>2</td>\n",
       "      <td>3</td>\n",
       "      <td>NaN</td>\n",
       "      <td>NaN</td>\n",
       "      <td>NaN</td>\n",
       "      <td>NaN</td>\n",
       "      <td>6.0</td>\n",
       "      <td>NaN</td>\n",
       "      <td>1.0</td>\n",
       "      <td>NaN</td>\n",
       "      <td>...</td>\n",
       "      <td>0</td>\n",
       "      <td>0</td>\n",
       "      <td>0</td>\n",
       "      <td>7226.301740</td>\n",
       "      <td>8567.549110</td>\n",
       "      <td>12999.542264</td>\n",
       "      <td>2</td>\n",
       "      <td>12</td>\n",
       "      <td>NaN</td>\n",
       "      <td>6.1875</td>\n",
       "    </tr>\n",
       "  </tbody>\n",
       "</table>\n",
       "<p>5 rows × 244 columns</p>\n",
       "</div>"
      ],
      "text/plain": [
       "   caseid  pregordr  howpreg_n  howpreg_p  moscurrp  nowprgdk  pregend1  \\\n",
       "0       1         1        NaN        NaN       NaN       NaN       6.0   \n",
       "1       1         2        NaN        NaN       NaN       NaN       6.0   \n",
       "2       2         1        NaN        NaN       NaN       NaN       5.0   \n",
       "3       2         2        NaN        NaN       NaN       NaN       6.0   \n",
       "4       2         3        NaN        NaN       NaN       NaN       6.0   \n",
       "\n",
       "   pregend2  nbrnaliv  multbrth  ...  laborfor_i  religion_i  metro_i  \\\n",
       "0       NaN       1.0       NaN  ...           0           0        0   \n",
       "1       NaN       1.0       NaN  ...           0           0        0   \n",
       "2       NaN       3.0       5.0  ...           0           0        0   \n",
       "3       NaN       1.0       NaN  ...           0           0        0   \n",
       "4       NaN       1.0       NaN  ...           0           0        0   \n",
       "\n",
       "       basewgt  adj_mod_basewgt      finalwgt  secu_p  sest  cmintvw  \\\n",
       "0  3410.389399      3869.349602   6448.271112       2     9      NaN   \n",
       "1  3410.389399      3869.349602   6448.271112       2     9      NaN   \n",
       "2  7226.301740      8567.549110  12999.542264       2    12      NaN   \n",
       "3  7226.301740      8567.549110  12999.542264       2    12      NaN   \n",
       "4  7226.301740      8567.549110  12999.542264       2    12      NaN   \n",
       "\n",
       "   totalwgt_lb  \n",
       "0       8.8125  \n",
       "1       7.8750  \n",
       "2       9.1250  \n",
       "3       7.0000  \n",
       "4       6.1875  \n",
       "\n",
       "[5 rows x 244 columns]"
      ]
     },
     "execution_count": 70,
     "metadata": {},
     "output_type": "execute_result"
    }
   ],
   "source": [
    "# import packages\n",
    "\n",
    "import os\n",
    "os.chdir('/Users/allison.forte/downloads/ThinkStats2-master 2/code')\n",
    "import first\n",
    "import nsfg\n",
    "import numpy as np\n",
    "import random\n",
    "import thinkstats2\n",
    "import thinkplot\n",
    "\n",
    "# create data frames\n",
    "\n",
    "live, firsts, others = first.MakeFrames()"
   ]
  },
  {
   "cell_type": "code",
   "execution_count": 68,
   "id": "afb7ef11",
   "metadata": {},
   "outputs": [],
   "source": [
    "# Bring in tests defined in chapter\n",
    "\n",
    "class DiffMeansPermute(thinkstats2.HypothesisTest):\n",
    "\n",
    "    def TestStatistic(self, data):\n",
    "        group1, group2 = data\n",
    "        test_stat = abs(group1.mean() - group2.mean())\n",
    "        return test_stat\n",
    "\n",
    "    def MakeModel(self):\n",
    "        group1, group2 = self.data\n",
    "        self.n, self.m = len(group1), len(group2)\n",
    "        self.pool = np.hstack((group1, group2))\n",
    "\n",
    "    def RunModel(self):\n",
    "        np.random.shuffle(self.pool)\n",
    "        data = self.pool[:self.n], self.pool[self.n:]\n",
    "        return data\n",
    "\n",
    "    \n",
    "class CorrelationPermute(thinkstats2.HypothesisTest):\n",
    "\n",
    "    def TestStatistic(self, data):\n",
    "        xs, ys = data\n",
    "        test_stat = abs(thinkstats2.Corr(xs, ys))\n",
    "        return test_stat\n",
    "\n",
    "    def RunModel(self):\n",
    "        xs, ys = self.data\n",
    "        xs = np.random.permutation(xs)\n",
    "        return xs, ys\n",
    "    \n",
    "    \n",
    "class PregLengthTest(thinkstats2.HypothesisTest):\n",
    "\n",
    "    def MakeModel(self):\n",
    "        firsts, others = self.data\n",
    "        self.n = len(firsts)\n",
    "        self.pool = np.hstack((firsts, others))\n",
    "\n",
    "        pmf = thinkstats2.Pmf(self.pool)\n",
    "        self.values = range(35, 44)\n",
    "        self.expected_probs = np.array(pmf.Probs(self.values))\n",
    "\n",
    "    def RunModel(self):\n",
    "        np.random.shuffle(self.pool)\n",
    "        data = self.pool[:self.n], self.pool[self.n:]\n",
    "        return data\n",
    "    \n",
    "    def TestStatistic(self, data):\n",
    "        firsts, others = data\n",
    "        stat = self.ChiSquared(firsts) + self.ChiSquared(others)\n",
    "        return stat\n",
    "\n",
    "    def ChiSquared(self, lengths):\n",
    "        hist = thinkstats2.Hist(lengths)\n",
    "        observed = np.array(hist.Freqs(self.values))\n",
    "        expected = self.expected_probs * len(lengths)\n",
    "        stat = sum((observed - expected)**2 / expected)\n",
    "        return stat"
   ]
  },
  {
   "cell_type": "code",
   "execution_count": 72,
   "id": "25db7529",
   "metadata": {},
   "outputs": [
    {
     "name": "stdout",
     "output_type": "stream",
     "text": [
      "9148\t0.14\t0.00\t0.00\t0.00\n",
      "4574\t0.20\t0.03\t0.00\t0.00\n",
      "2287\t0.15\t0.76\t0.00\t0.00\n",
      "1143\t0.58\t0.50\t0.00\t0.00\n",
      "571\t0.10\t0.56\t0.11\t0.01\n",
      "285\t0.57\t0.34\t0.86\t0.47\n",
      "142\t0.18\t0.24\t0.11\t0.20\n"
     ]
    }
   ],
   "source": [
    "# Define how to run tests to validate chapter results, set to run tests for data frame 'live' and 1000 iterations\n",
    "\n",
    "def RunTests(live, iters = 1000):\n",
    "    n = len(live)\n",
    "    firsts = live[live.birthord == 1]\n",
    "    others = live[live.birthord != 1]\n",
    "\n",
    "    # compare pregnancy lengths\n",
    "    data = firsts.prglngth.values, others.prglngth.values  # selecting data for this test\n",
    "    ht = DiffMeansPermute(data)\n",
    "    p1 = ht.PValue(iters=iters)\n",
    "\n",
    "    data = (firsts.totalwgt_lb.dropna().values,\n",
    "            others.totalwgt_lb.dropna().values)  # dropping n/a values from the data\n",
    "    ht = DiffMeansPermute(data)\n",
    "    p2 = ht.PValue(iters = iters)\n",
    "\n",
    "    # test correlation\n",
    "    live2 = live.dropna(subset = ['agepreg', 'totalwgt_lb'])  # selecting the subset of data\n",
    "    data = live2.agepreg.values, live2.totalwgt_lb.values  # defining data for this test\n",
    "    ht = CorrelationPermute(data)\n",
    "    p3 = ht.PValue(iters = iters)\n",
    "\n",
    "    # compare pregnancy lengths (chi-squared)  # data for this test is the same as the other test for comparing pregnancy lengths\n",
    "    data = firsts.prglngth.values, others.prglngth.values  # selecting data for this test\n",
    "    ht = PregLengthTest(data)\n",
    "    p4 = ht.PValue(iters = iters)\n",
    "\n",
    "    print('%d\\t%0.2f\\t%0.2f\\t%0.2f\\t%0.2f' % (n, p1, p2, p3, p4))\n",
    "\n",
    "\n",
    "n = len(live)  # begins with sample size of length of data set \n",
    "for _ in range(7):  # runs the tests 7 times\n",
    "    sample = thinkstats2.SampleRows(live, n)  # creates the sample for this run through\n",
    "    RunTests(sample)  # runs the tests\n",
    "    n //= 2  # redefines n from the length of the data frame to n divided by 2 rounded to a whole number"
   ]
  },
  {
   "cell_type": "code",
   "execution_count": 74,
   "id": "56d3236b",
   "metadata": {},
   "outputs": [],
   "source": [
    "# The results of these tests show the difference in mean pregnancy test first followed by the difference in birth weight. \n",
    "# The 3rd test shows the correlation of mothers age and birth weight and the final test looks at pregnancy length again with a chi-squared test.\n",
    "\n",
    "# n     1.      2.      3.      4. \n",
    "# 9148\t0.14\t0.00\t0.00\t0.00\n",
    "# 4574\t0.20\t0.03\t0.00\t0.00\n",
    "# 2287\t0.15\t0.76\t0.00\t0.00\n",
    "# 1143\t0.58\t0.50\t0.00\t0.00\n",
    "# 571\t0.10\t0.56\t0.11\t0.01\n",
    "# 285\t0.57\t0.34\t0.86\t0.47\n",
    "# 142\t0.18\t0.24\t0.11\t0.20\n",
    "\n",
    "# We expect that as sample size decreases, tests are less likely to return a strong p-value. \n",
    "# Test 2, 3, and 4 all show a very strong p-value for large data sets but do not show such a \n",
    "# strong p-value as the sample size decreases.\n",
    "# We can see the p-value for the difference in birth weights drops faster than the last 2 tests. \n",
    "# We want to run tests with a large sample size so we do not miss a true relationship between variables. "
   ]
  },
  {
   "cell_type": "markdown",
   "id": "2f71f503",
   "metadata": {},
   "source": [
    "# 10.1\n",
    "Using data from the BRFSS, compute the linear least squares fit for log(weight) versus height. How would you best present the estimated parameters for a model like this where one of the variables is log-transformed? If you were trying to guess someone's weight, how much would it help to know their height?\n",
    "\n",
    "Like the NSFG, the BRFSS oversamples some groups and provides a sampling weight for each respondent. In the BRFSS data, the variable name for these weights is totalwt. Use resampling, with and without wieghts, to estimate the mean height of respondents in the BRFSS, the standard error of the mean, and a 90% confidence interval. How much does correct weighting affect the estimate?"
   ]
  },
  {
   "cell_type": "code",
   "execution_count": 79,
   "id": "73e7203f",
   "metadata": {},
   "outputs": [],
   "source": [
    "import brfss\n",
    "from thinkstats2 import Mean, MeanVar, Var, Std, Cov\n",
    "\n",
    "data_frame = brfss.ReadBrfss(nrows=None)\n",
    "data_frame = data_frame.dropna(subset=['htm3', 'wtkg2'])\n",
    "heights, weights = data_frame.htm3, data_frame.wtkg2\n",
    "log_weights = np.log10(weights)"
   ]
  },
  {
   "cell_type": "markdown",
   "id": "aae4f339",
   "metadata": {},
   "source": [
    "Compute the linear least squares fit for log(weight) versus height"
   ]
  },
  {
   "cell_type": "code",
   "execution_count": 88,
   "id": "b976c0c9",
   "metadata": {},
   "outputs": [
    {
     "name": "stdout",
     "output_type": "stream",
     "text": [
      "The intercept of the model is 0.993080416391812 and the slope of the model is 0.005281454169417809.\n"
     ]
    }
   ],
   "source": [
    "def LeastSquares(xs, ys):\n",
    "    meanx, varx = MeanVar(xs)\n",
    "    meany = Mean(ys)\n",
    "\n",
    "    slope = Cov(xs, ys, meanx, meany) / varx\n",
    "    inter = meany - slope * meanx\n",
    "\n",
    "    return inter, slope\n",
    "inter, slope = LeastSquares(heights, log_weights)\n",
    "print('The intercept of the model is {} and the slope of the model is {}.'.format(inter, slope))"
   ]
  },
  {
   "cell_type": "markdown",
   "id": "38fb9ac6",
   "metadata": {},
   "source": [
    "How would you best present the estimated parameters for a model like this where one of the variables is log-transformed? \n",
    "\n",
    "Response: To best present the parameters for a model like this, we could show the data and line on a plot. We could plot the line aginst log_weights, or to make it easier to interpret, we could plot the line against weights (not log_weights). A plot against weight is shown below. "
   ]
  },
  {
   "cell_type": "code",
   "execution_count": 90,
   "id": "7be5725e",
   "metadata": {
    "scrolled": true
   },
   "outputs": [
    {
     "data": {
      "image/png": "[encoded data removed]",
      "text/plain": [
       "<Figure size 432x288 with 1 Axes>"
      ]
     },
     "metadata": {
      "needs_background": "light"
     },
     "output_type": "display_data"
    }
   ],
   "source": [
    "thinkplot.Scatter(heights, weights, alpha=0.01, s=5)\n",
    "fxs, fys = thinkstats2.FitLine(heights, inter, slope)\n",
    "thinkplot.Plot(fxs, 10**fys, color='red')\n",
    "thinkplot.Config(xlabel='Height (cm)', ylabel='Weight (kg)', legend=False)"
   ]
  },
  {
   "cell_type": "markdown",
   "id": "e50eac86",
   "metadata": {},
   "source": [
    "If you were trying to guess someone's weight, how much would it help to know their height?\n",
    "\n",
    "Response: Knowing someones height can help significantly when guessing their weight. However, there is still a significant range for each height that you could expect someone to be in. Looking at the plot above, you can see from the blue lines that there is a significant range for each height but starting with the model will get you close. "
   ]
  },
  {
   "cell_type": "markdown",
   "id": "2e18c6b6",
   "metadata": {},
   "source": [
    "Use resampling, with and without wieghts, to estimate the mean height of respondents in the BRFSS, the standard error of the mean, and a 90% confidence interval"
   ]
  },
  {
   "cell_type": "code",
   "execution_count": 100,
   "id": "e4884257",
   "metadata": {},
   "outputs": [
    {
     "data": {
      "text/plain": [
       "0.005282140829819441"
      ]
     },
     "execution_count": 100,
     "metadata": {},
     "output_type": "execute_result"
    }
   ],
   "source": [
    "t = []\n",
    "for _ in range(100):\n",
    "    sample = thinkstats2.ResampleRows(data_frame)\n",
    "    estimates = thinkstats2.LeastSquares(sample.htm3, np.log10(sample.wtkg2))\n",
    "    t.append(estimates)\n",
    "\n",
    "inters, slopes = zip(*t)\n",
    "\n",
    "# estimate mean height of respondents\n",
    "mean = thinkstats2.Mean(slopes)\n",
    "mean\n"
   ]
  },
  {
   "cell_type": "code",
   "execution_count": 101,
   "id": "a85f07f3",
   "metadata": {},
   "outputs": [
    {
     "data": {
      "text/plain": [
       "1.3898783864111625e-05"
      ]
     },
     "execution_count": 101,
     "metadata": {},
     "output_type": "execute_result"
    }
   ],
   "source": [
    "# standard error (or deviation) of the mean\n",
    "stderr = thinkstats2.Std(slopes)\n",
    "stderr"
   ]
  },
  {
   "cell_type": "code",
   "execution_count": 103,
   "id": "1ec6237f",
   "metadata": {},
   "outputs": [
    {
     "data": {
      "text/plain": [
       "(0.005262560138755929, 0.005304844705438144)"
      ]
     },
     "execution_count": 103,
     "metadata": {},
     "output_type": "execute_result"
    }
   ],
   "source": [
    "# 90% confidence interval\n",
    "cdf = thinkstats2.Cdf(slopes)\n",
    "ci = cdf.Percentile(5), cdf.Percentile(95)\n",
    "ci"
   ]
  },
  {
   "cell_type": "markdown",
   "id": "494a83e7",
   "metadata": {},
   "source": [
    "How much does correct weighting affect the estimate?\n",
    "\n",
    "Correct weighting makes a significant difference on the estimate. Errors in weights in the data can significantly impact the model. We would need to check for outliers or missing data before creating a model to ensure it is as accurate as possible. "
   ]
  }
 ],
 "metadata": {
  "kernelspec": {
   "display_name": "Python 3 (ipykernel)",
   "language": "python",
   "name": "python3"
  },
  "language_info": {
   "codemirror_mode": {
    "name": "ipython",
    "version": 3
   },
   "file_extension": ".py",
   "mimetype": "text/x-python",
   "name": "python",
   "nbconvert_exporter": "python",
   "pygments_lexer": "ipython3",
   "version": "3.9.7"
  }
 },
 "nbformat": 4,
 "nbformat_minor": 5
}
