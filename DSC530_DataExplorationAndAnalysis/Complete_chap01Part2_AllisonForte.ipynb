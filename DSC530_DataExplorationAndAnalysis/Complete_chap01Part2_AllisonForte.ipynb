{
 "cells": [
  {
   "cell_type": "code",
   "execution_count": 26,
   "id": "314a681c",
   "metadata": {},
   "outputs": [
    {
     "name": "stdout",
     "output_type": "stream",
     "text": [
      "      caseid  rscrinf  rdormres  rostscrn  rscreenhisp  rscreenrace  age_a  \\\n",
      "0       2298        1         5         5            1          5.0     27   \n",
      "1       5012        1         5         1            5          5.0     42   \n",
      "2      11586        1         5         1            5          5.0     43   \n",
      "3       6794        5         5         4            1          5.0     15   \n",
      "4        616        1         5         4            1          5.0     20   \n",
      "...      ...      ...       ...       ...          ...          ...    ...   \n",
      "7638   11018        1         5         2            5          3.0     34   \n",
      "7639    6075        5         5         3            5          3.0     17   \n",
      "7640    5649        1         5         2            5          5.0     29   \n",
      "7641     501        5         5         3            5          2.0     16   \n",
      "7642   10252        1         5         2            5          2.0     28   \n",
      "\n",
      "      age_r  cmbirth  agescrn  ...  pubassis_i      basewgt  adj_mod_basewgt  \\\n",
      "0        27      902       27  ...           0  3247.916977      5123.759559   \n",
      "1        42      718       42  ...           0  2335.279149      2846.799490   \n",
      "2        43      708       43  ...           0  2335.279149      2846.799490   \n",
      "3        15     1042       15  ...           0  3783.152221      5071.464231   \n",
      "4        20      991       20  ...           0  5341.329968      6437.335772   \n",
      "...     ...      ...      ...  ...         ...          ...              ...   \n",
      "7638     34      811       34  ...           0  3247.445399      3784.333145   \n",
      "7639     17     1014       17  ...           0  2273.211779      2497.234491   \n",
      "7640     29      873       29  ...           0  3247.445399      3569.313710   \n",
      "7641     16     1034       16  ...           0  5304.160818      5954.644352   \n",
      "7642     28      889       28  ...           0  3247.445399      3476.637428   \n",
      "\n",
      "          finalwgt  secu_r  sest  cmintvw  cmlstyr  screentime   intvlngth  \n",
      "0      5556.717241       2    18     1234     1222    18:26:36  110.492667  \n",
      "1      4744.191350       2    18     1233     1221    16:30:59   64.294000  \n",
      "2      4744.191350       2    18     1234     1222    18:19:09   75.149167  \n",
      "3      5923.977368       2    18     1234     1222    15:54:43   28.642833  \n",
      "4      7229.128072       2    18     1233     1221    14:19:44   69.502667  \n",
      "...            ...     ...   ...      ...      ...         ...         ...  \n",
      "7638   6565.818007       2    76     1228     1216    15:57:38   82.907333  \n",
      "7639   4392.385746       2    76     1228     1216    18:23:53   54.044833  \n",
      "7640   6003.228729       2    76     1228     1216    18:42:41   68.168000  \n",
      "7641  10473.623950       2    76     1228     1216    16:02:45   32.717333  \n",
      "7642   5847.356491       2    76     1230     1218    12:45:19   74.061500  \n",
      "\n",
      "[7643 rows x 3087 columns]\n"
     ]
    }
   ],
   "source": [
    "## DSC 530\n",
    "## Week 3 Assignment\n",
    "## Author Allison Forte\n",
    "\n",
    "\n",
    "import sys\n",
    "import numpy as np\n",
    "import thinkstats2\n",
    "import nsfg\n",
    "\n",
    "from collections import defaultdict\n",
    " \n",
    "dct = thinkstats2.ReadStataDct('2002FemResp.dct')\n",
    "resp_df = dct.ReadFixedWidth('2002FemResp.dat.gz', compression='gzip')\n",
    "print(resp_df)\n"
   ]
  },
  {
   "cell_type": "code",
   "execution_count": 27,
   "id": "d2badc55",
   "metadata": {},
   "outputs": [
    {
     "data": {
      "text/plain": [
       "0     2610\n",
       "1     1267\n",
       "2     1432\n",
       "3     1110\n",
       "4      611\n",
       "5      305\n",
       "6      150\n",
       "7       80\n",
       "8       40\n",
       "9       21\n",
       "10       9\n",
       "11       3\n",
       "12       2\n",
       "14       2\n",
       "19       1\n",
       "Name: pregnum, dtype: int64"
      ]
     },
     "execution_count": 27,
     "metadata": {},
     "output_type": "execute_result"
    }
   ],
   "source": [
    "pregnum = resp_df.pregnum\n",
    "pregnum.value_counts().sort_index()"
   ]
  },
  {
   "cell_type": "code",
   "execution_count": 28,
   "id": "eda4b410",
   "metadata": {},
   "outputs": [
    {
     "name": "stdout",
     "output_type": "stream",
     "text": [
      "       caseid  pregordr  howpreg_n  howpreg_p  moscurrp  nowprgdk  pregend1  \\\n",
      "0           1         1        NaN        NaN       NaN       NaN       6.0   \n",
      "1           1         2        NaN        NaN       NaN       NaN       6.0   \n",
      "2           2         1        NaN        NaN       NaN       NaN       5.0   \n",
      "3           2         2        NaN        NaN       NaN       NaN       6.0   \n",
      "4           2         3        NaN        NaN       NaN       NaN       6.0   \n",
      "...       ...       ...        ...        ...       ...       ...       ...   \n",
      "13588   12571         1        NaN        NaN       NaN       NaN       6.0   \n",
      "13589   12571         2        NaN        NaN       NaN       NaN       3.0   \n",
      "13590   12571         3        NaN        NaN       NaN       NaN       3.0   \n",
      "13591   12571         4        NaN        NaN       NaN       NaN       6.0   \n",
      "13592   12571         5        NaN        NaN       NaN       NaN       6.0   \n",
      "\n",
      "       pregend2  nbrnaliv  multbrth  ...  poverty_i  laborfor_i  religion_i  \\\n",
      "0           NaN       1.0       NaN  ...          0           0           0   \n",
      "1           NaN       1.0       NaN  ...          0           0           0   \n",
      "2           NaN       3.0       5.0  ...          0           0           0   \n",
      "3           NaN       1.0       NaN  ...          0           0           0   \n",
      "4           NaN       1.0       NaN  ...          0           0           0   \n",
      "...         ...       ...       ...  ...        ...         ...         ...   \n",
      "13588       NaN       1.0       NaN  ...          0           0           0   \n",
      "13589       NaN       NaN       NaN  ...          0           0           0   \n",
      "13590       NaN       NaN       NaN  ...          0           0           0   \n",
      "13591       NaN       1.0       NaN  ...          0           0           0   \n",
      "13592       NaN       1.0       NaN  ...          0           0           0   \n",
      "\n",
      "       metro_i      basewgt  adj_mod_basewgt      finalwgt  secu_p  sest  \\\n",
      "0            0  3410.389399      3869.349602   6448.271112       2     9   \n",
      "1            0  3410.389399      3869.349602   6448.271112       2     9   \n",
      "2            0  7226.301740      8567.549110  12999.542264       2    12   \n",
      "3            0  7226.301740      8567.549110  12999.542264       2    12   \n",
      "4            0  7226.301740      8567.549110  12999.542264       2    12   \n",
      "...        ...          ...              ...           ...     ...   ...   \n",
      "13588        0  4670.540953      5795.692880   6269.200989       1    78   \n",
      "13589        0  4670.540953      5795.692880   6269.200989       1    78   \n",
      "13590        0  4670.540953      5795.692880   6269.200989       1    78   \n",
      "13591        0  4670.540953      5795.692880   6269.200989       1    78   \n",
      "13592        0  4670.540953      5795.692880   6269.200989       1    78   \n",
      "\n",
      "       cmintvw  \n",
      "0          123  \n",
      "1          123  \n",
      "2          123  \n",
      "3          123  \n",
      "4          123  \n",
      "...        ...  \n",
      "13588      122  \n",
      "13589      122  \n",
      "13590      122  \n",
      "13591      122  \n",
      "13592      122  \n",
      "\n",
      "[13593 rows x 243 columns]\n"
     ]
    }
   ],
   "source": [
    "dct = thinkstats2.ReadStataDct('2002FemPreg.dct')\n",
    "preg_df = dct.ReadFixedWidth('2002FemPreg.dat.gz', compression='gzip')\n",
    "print(preg_df)"
   ]
  },
  {
   "cell_type": "code",
   "execution_count": 29,
   "id": "627b84d8",
   "metadata": {},
   "outputs": [],
   "source": [
    "preg_map = nsfg.MakePregMap(preg_df)"
   ]
  },
  {
   "cell_type": "code",
   "execution_count": 41,
   "id": "e047ee75",
   "metadata": {},
   "outputs": [
    {
     "name": "stdout",
     "output_type": "stream",
     "text": [
      "True\n"
     ]
    }
   ],
   "source": [
    "for index, pregnum in resp_df.pregnum.items():\n",
    "        caseid = resp_df.caseid[index]\n",
    "        indices = preg_map[caseid]\n",
    "if len(indices) != pregnum:\n",
    "    print(caseid, len(indices), pregnum)\n",
    "    accurate = False\n",
    "accurate = True\n",
    "print(accurate)"
   ]
  },
  {
   "cell_type": "code",
   "execution_count": null,
   "id": "99307909",
   "metadata": {},
   "outputs": [],
   "source": []
  }
 ],
 "metadata": {
  "kernelspec": {
   "display_name": "Python 3 (ipykernel)",
   "language": "python",
   "name": "python3"
  },
  "language_info": {
   "codemirror_mode": {
    "name": "ipython",
    "version": 3
   },
   "file_extension": ".py",
   "mimetype": "text/x-python",
   "name": "python",
   "nbconvert_exporter": "python",
   "pygments_lexer": "ipython3",
   "version": "3.9.7"
  }
 },
 "nbformat": 4,
 "nbformat_minor": 5
}
