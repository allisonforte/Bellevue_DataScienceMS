{
 "cells": [
  {
   "cell_type": "code",
   "execution_count": 25,
   "id": "a67cc0ff",
   "metadata": {},
   "outputs": [],
   "source": [
    "import pandas as pd\n",
    "import numpy as np\n",
    "import thinkstats2\n",
    "import thinkplot\n",
    "import matplotlib.pyplot as plt \n",
    "\n",
    "shelter_intake = pd.read_csv('/Users/allison.forte/Downloads/Austin Animal Center Intakes.csv')\n",
    "shelter_intake.rename(columns = {'DateTime':'DateTimeIntake', 'MonthYear':'MonthYearIntake'}, inplace = True)\n",
    "shelter_outcome = pd.read_csv('/Users/allison.forte/Downloads/Austin_Animal_Center_Outcomes.csv')\n",
    "shelter_outcome.rename(columns = {'DateTime':'DateTimeOutcome', 'MonthYear':'MonthYearOutcome'}, inplace = True)"
   ]
  },
  {
   "cell_type": "code",
   "execution_count": 26,
   "id": "1b49fab2",
   "metadata": {},
   "outputs": [
    {
     "data": {
      "text/html": [
       "<div>\n",
       "<style scoped>\n",
       "    .dataframe tbody tr th:only-of-type {\n",
       "        vertical-align: middle;\n",
       "    }\n",
       "\n",
       "    .dataframe tbody tr th {\n",
       "        vertical-align: top;\n",
       "    }\n",
       "\n",
       "    .dataframe thead th {\n",
       "        text-align: right;\n",
       "    }\n",
       "</style>\n",
       "<table border=\"1\" class=\"dataframe\">\n",
       "  <thead>\n",
       "    <tr style=\"text-align: right;\">\n",
       "      <th></th>\n",
       "      <th>Animal ID</th>\n",
       "      <th>Name_x</th>\n",
       "      <th>DateTimeIntake</th>\n",
       "      <th>MonthYearIntake</th>\n",
       "      <th>Found Location</th>\n",
       "      <th>Intake Type</th>\n",
       "      <th>Intake Condition</th>\n",
       "      <th>Animal Type_x</th>\n",
       "      <th>Sex upon Intake</th>\n",
       "      <th>Age upon Intake</th>\n",
       "      <th>...</th>\n",
       "      <th>DateTimeOutcome</th>\n",
       "      <th>MonthYearOutcome</th>\n",
       "      <th>Date of Birth</th>\n",
       "      <th>Outcome Type</th>\n",
       "      <th>Outcome Subtype</th>\n",
       "      <th>Animal Type_y</th>\n",
       "      <th>Sex upon Outcome</th>\n",
       "      <th>Age upon Outcome</th>\n",
       "      <th>Breed_y</th>\n",
       "      <th>Color_y</th>\n",
       "    </tr>\n",
       "  </thead>\n",
       "  <tbody>\n",
       "    <tr>\n",
       "      <th>0</th>\n",
       "      <td>A786884</td>\n",
       "      <td>*Brock</td>\n",
       "      <td>01/03/2019 04:19:00 PM</td>\n",
       "      <td>01/03/2019 04:19:00 PM</td>\n",
       "      <td>2501 Magin Meadow Dr in Austin (TX)</td>\n",
       "      <td>Stray</td>\n",
       "      <td>Normal</td>\n",
       "      <td>Dog</td>\n",
       "      <td>Neutered Male</td>\n",
       "      <td>2 years</td>\n",
       "      <td>...</td>\n",
       "      <td>01/08/2019 03:11:00 PM</td>\n",
       "      <td>01/08/2019 03:11:00 PM</td>\n",
       "      <td>01/03/2017</td>\n",
       "      <td>Transfer</td>\n",
       "      <td>Partner</td>\n",
       "      <td>Dog</td>\n",
       "      <td>Neutered Male</td>\n",
       "      <td>2 years</td>\n",
       "      <td>Beagle Mix</td>\n",
       "      <td>Tricolor</td>\n",
       "    </tr>\n",
       "    <tr>\n",
       "      <th>1</th>\n",
       "      <td>A706918</td>\n",
       "      <td>Belle</td>\n",
       "      <td>07/05/2015 12:59:00 PM</td>\n",
       "      <td>07/05/2015 12:59:00 PM</td>\n",
       "      <td>9409 Bluegrass Dr in Austin (TX)</td>\n",
       "      <td>Stray</td>\n",
       "      <td>Normal</td>\n",
       "      <td>Dog</td>\n",
       "      <td>Spayed Female</td>\n",
       "      <td>8 years</td>\n",
       "      <td>...</td>\n",
       "      <td>07/05/2015 03:13:00 PM</td>\n",
       "      <td>07/05/2015 03:13:00 PM</td>\n",
       "      <td>07/05/2007</td>\n",
       "      <td>Return to Owner</td>\n",
       "      <td>NaN</td>\n",
       "      <td>Dog</td>\n",
       "      <td>Spayed Female</td>\n",
       "      <td>8 years</td>\n",
       "      <td>English Springer Spaniel</td>\n",
       "      <td>White/Liver</td>\n",
       "    </tr>\n",
       "    <tr>\n",
       "      <th>2</th>\n",
       "      <td>A724273</td>\n",
       "      <td>Runster</td>\n",
       "      <td>04/14/2016 06:43:00 PM</td>\n",
       "      <td>04/14/2016 06:43:00 PM</td>\n",
       "      <td>2818 Palomino Trail in Austin (TX)</td>\n",
       "      <td>Stray</td>\n",
       "      <td>Normal</td>\n",
       "      <td>Dog</td>\n",
       "      <td>Intact Male</td>\n",
       "      <td>11 months</td>\n",
       "      <td>...</td>\n",
       "      <td>04/21/2016 05:17:00 PM</td>\n",
       "      <td>04/21/2016 05:17:00 PM</td>\n",
       "      <td>04/17/2015</td>\n",
       "      <td>Return to Owner</td>\n",
       "      <td>NaN</td>\n",
       "      <td>Dog</td>\n",
       "      <td>Neutered Male</td>\n",
       "      <td>1 year</td>\n",
       "      <td>Basenji Mix</td>\n",
       "      <td>Sable/White</td>\n",
       "    </tr>\n",
       "    <tr>\n",
       "      <th>3</th>\n",
       "      <td>A665644</td>\n",
       "      <td>NaN</td>\n",
       "      <td>10/21/2013 07:59:00 AM</td>\n",
       "      <td>10/21/2013 07:59:00 AM</td>\n",
       "      <td>Austin (TX)</td>\n",
       "      <td>Stray</td>\n",
       "      <td>Sick</td>\n",
       "      <td>Cat</td>\n",
       "      <td>Intact Female</td>\n",
       "      <td>4 weeks</td>\n",
       "      <td>...</td>\n",
       "      <td>10/21/2013 11:39:00 AM</td>\n",
       "      <td>10/21/2013 11:39:00 AM</td>\n",
       "      <td>09/21/2013</td>\n",
       "      <td>Transfer</td>\n",
       "      <td>Partner</td>\n",
       "      <td>Cat</td>\n",
       "      <td>Intact Female</td>\n",
       "      <td>4 weeks</td>\n",
       "      <td>Domestic Shorthair Mix</td>\n",
       "      <td>Calico</td>\n",
       "    </tr>\n",
       "    <tr>\n",
       "      <th>4</th>\n",
       "      <td>A682524</td>\n",
       "      <td>Rio</td>\n",
       "      <td>06/29/2014 10:38:00 AM</td>\n",
       "      <td>06/29/2014 10:38:00 AM</td>\n",
       "      <td>800 Grove Blvd in Austin (TX)</td>\n",
       "      <td>Stray</td>\n",
       "      <td>Normal</td>\n",
       "      <td>Dog</td>\n",
       "      <td>Neutered Male</td>\n",
       "      <td>4 years</td>\n",
       "      <td>...</td>\n",
       "      <td>07/02/2014 02:16:00 PM</td>\n",
       "      <td>07/02/2014 02:16:00 PM</td>\n",
       "      <td>06/29/2010</td>\n",
       "      <td>Return to Owner</td>\n",
       "      <td>NaN</td>\n",
       "      <td>Dog</td>\n",
       "      <td>Neutered Male</td>\n",
       "      <td>4 years</td>\n",
       "      <td>Doberman Pinsch/Australian Cattle Dog</td>\n",
       "      <td>Tan/Gray</td>\n",
       "    </tr>\n",
       "  </tbody>\n",
       "</table>\n",
       "<p>5 rows × 23 columns</p>\n",
       "</div>"
      ],
      "text/plain": [
       "  Animal ID   Name_x          DateTimeIntake         MonthYearIntake  \\\n",
       "0   A786884   *Brock  01/03/2019 04:19:00 PM  01/03/2019 04:19:00 PM   \n",
       "1   A706918    Belle  07/05/2015 12:59:00 PM  07/05/2015 12:59:00 PM   \n",
       "2   A724273  Runster  04/14/2016 06:43:00 PM  04/14/2016 06:43:00 PM   \n",
       "3   A665644      NaN  10/21/2013 07:59:00 AM  10/21/2013 07:59:00 AM   \n",
       "4   A682524      Rio  06/29/2014 10:38:00 AM  06/29/2014 10:38:00 AM   \n",
       "\n",
       "                        Found Location Intake Type Intake Condition  \\\n",
       "0  2501 Magin Meadow Dr in Austin (TX)       Stray           Normal   \n",
       "1     9409 Bluegrass Dr in Austin (TX)       Stray           Normal   \n",
       "2   2818 Palomino Trail in Austin (TX)       Stray           Normal   \n",
       "3                          Austin (TX)       Stray             Sick   \n",
       "4        800 Grove Blvd in Austin (TX)       Stray           Normal   \n",
       "\n",
       "  Animal Type_x Sex upon Intake Age upon Intake  ...         DateTimeOutcome  \\\n",
       "0           Dog   Neutered Male         2 years  ...  01/08/2019 03:11:00 PM   \n",
       "1           Dog   Spayed Female         8 years  ...  07/05/2015 03:13:00 PM   \n",
       "2           Dog     Intact Male       11 months  ...  04/21/2016 05:17:00 PM   \n",
       "3           Cat   Intact Female         4 weeks  ...  10/21/2013 11:39:00 AM   \n",
       "4           Dog   Neutered Male         4 years  ...  07/02/2014 02:16:00 PM   \n",
       "\n",
       "         MonthYearOutcome Date of Birth     Outcome Type Outcome Subtype  \\\n",
       "0  01/08/2019 03:11:00 PM    01/03/2017         Transfer         Partner   \n",
       "1  07/05/2015 03:13:00 PM    07/05/2007  Return to Owner             NaN   \n",
       "2  04/21/2016 05:17:00 PM    04/17/2015  Return to Owner             NaN   \n",
       "3  10/21/2013 11:39:00 AM    09/21/2013         Transfer         Partner   \n",
       "4  07/02/2014 02:16:00 PM    06/29/2010  Return to Owner             NaN   \n",
       "\n",
       "  Animal Type_y Sex upon Outcome Age upon Outcome  \\\n",
       "0           Dog    Neutered Male          2 years   \n",
       "1           Dog    Spayed Female          8 years   \n",
       "2           Dog    Neutered Male           1 year   \n",
       "3           Cat    Intact Female          4 weeks   \n",
       "4           Dog    Neutered Male          4 years   \n",
       "\n",
       "                                 Breed_y      Color_y  \n",
       "0                             Beagle Mix     Tricolor  \n",
       "1               English Springer Spaniel  White/Liver  \n",
       "2                            Basenji Mix  Sable/White  \n",
       "3                 Domestic Shorthair Mix       Calico  \n",
       "4  Doberman Pinsch/Australian Cattle Dog     Tan/Gray  \n",
       "\n",
       "[5 rows x 23 columns]"
      ]
     },
     "execution_count": 26,
     "metadata": {},
     "output_type": "execute_result"
    }
   ],
   "source": [
    "shelter_merged = pd.merge(shelter_intake, shelter_outcome, on = ['Animal ID'])\n",
    "shelter_merged.head()"
   ]
  },
  {
   "cell_type": "code",
   "execution_count": 208,
   "id": "286cdb4d",
   "metadata": {},
   "outputs": [],
   "source": [
    "shelter_merged[[\"Intake_Age_Number\", \"Intake_Age_Unit\"]]  = shelter_merged['Age upon Intake'].str.split(\" \", expand = True)\n",
    "shelter_merged[\"Intake_Age_Number\"] = pd.to_numeric(shelter_merged[\"Intake_Age_Number\"])\n",
    "\n",
    "shelter_merged[[\"Outcome_Age_Number\", \"Outcome_Age_Unit\"]]  = shelter_merged['Age upon Outcome'].str.split(\" \", expand = True)\n",
    "shelter_merged[\"Outcome_Age_Number\"] = pd.to_numeric(shelter_merged[\"Outcome_Age_Number\"])\n",
    "\n",
    "shelter_merged['Years_in_Shelter'] = shelter_merged['Outcome_Age_Number'] - shelter_merged['Intake_Age_Number']\n",
    "\n",
    "shelter_merged.loc[shelter_merged['Sex upon Intake'] == 'Intact Male', 'Intake_sex_coding'] = '1'  \n",
    "shelter_merged.loc[shelter_merged['Sex upon Intake'] == 'Neutered Male', 'Intake_sex_coding'] = '2' \n",
    "shelter_merged.loc[shelter_merged['Sex upon Intake'] == 'Intact Female', 'Intake_sex_coding'] = '3'  \n",
    "shelter_merged.loc[shelter_merged['Sex upon Intake'] == 'Spayed Female', 'Intake_sex_coding'] = '4' \n",
    "shelter_merged['Intake_sex_coding'] = pd.to_numeric(shelter_merged['Intake_sex_coding'])\n",
    "\n",
    "shelter_merged.loc[shelter_merged['Sex upon Outcome'] == 'Intact Male', 'Outcome_sex_coding'] = '1'  \n",
    "shelter_merged.loc[shelter_merged['Sex upon Outcome'] == 'Neutered Male', 'Outcome_sex_coding'] = '2' \n",
    "shelter_merged.loc[shelter_merged['Sex upon Outcome'] == 'Intact Female', 'Outcome_sex_coding'] = '3'  \n",
    "shelter_merged.loc[shelter_merged['Sex upon Outcome'] == 'Spayed Female', 'Outcome_sex_coding'] = '4' \n",
    "shelter_merged['Outcome_sex_coding'] = pd.to_numeric(shelter_merged['Outcome_sex_coding'])\n",
    "\n",
    "Animal_count = shelter_merged['Animal Type_x'].value_counts()\n",
    "Animals = ('Dog', 'Cat', 'Other', 'Bird', 'Livestock')\n",
    "\n",
    "Outcome_count = shelter_merged['Outcome Type'].value_counts()\n",
    "Outcomes = ('Adoption', 'Transfer', 'Return to Owner', 'Euthanasia', 'Rto-Adopt', 'Died', 'Disposal', 'Missing', 'Relocate')\n",
    "\n",
    "Intake_count = shelter_merged['Intake Type'].value_counts()\n",
    "Intakes = ('Stray', 'Owner Surrender', 'Public Assist', 'Wildlife', 'Abandoned', 'Euthanasia Request')\n",
    "\n",
    "shelter_merged[[\"Intake_date\", \"Intake_time\", \"Intake_AMPM\"]]  = shelter_merged['DateTimeIntake'].str.split(\" \", expand = True)\n",
    "shelter_merged[\"Intake_date\"] = pd.to_datetime(shelter_merged[\"Intake_date\"])\n",
    "\n",
    "shelter_merged[[\"Outcome_date\", \"Outcome_time\", \"Outcome_AMPM\"]]  = shelter_merged['DateTimeOutcome'].str.split(\" \", expand = True)\n",
    "shelter_merged[\"Outcome_date\"] = pd.to_datetime(shelter_merged[\"Outcome_date\"])\n",
    "\n",
    "shelter_merged['Calculated_years_in_Shelter'] = shelter_merged['Outcome_date'] - shelter_merged['Intake_date']\n",
    "shelter_merged['Calculated_years_in_Shelter'] = pd.to_numeric(shelter_merged['Calculated_years_in_Shelter'])\n"
   ]
  },
  {
   "cell_type": "code",
   "execution_count": 203,
   "id": "f96fa4b7",
   "metadata": {},
   "outputs": [
    {
     "data": {
      "text/plain": [
       "Stray                 109663\n",
       "Owner Surrender        38226\n",
       "Public Assist          12618\n",
       "Wildlife                5120\n",
       "Abandoned                481\n",
       "Euthanasia Request       282\n",
       "Name: Intake Type, dtype: int64"
      ]
     },
     "execution_count": 203,
     "metadata": {},
     "output_type": "execute_result"
    }
   ],
   "source": [
    "Intake_count"
   ]
  },
  {
   "cell_type": "code",
   "execution_count": 235,
   "id": "0bc19813",
   "metadata": {},
   "outputs": [
    {
     "name": "stderr",
     "output_type": "stream",
     "text": [
      "/var/folders/nj/3lbsz0_s67186v8nxnkcdy48p4fdg7/T/ipykernel_91507/825174257.py:1: FutureWarning: Treating datetime data as categorical rather than numeric in `.describe` is deprecated and will be removed in a future version of pandas. Specify `datetime_is_numeric=True` to silence this warning and adopt the future behavior now.\n",
      "  shelter_merged.describe(include='all')\n"
     ]
    },
    {
     "data": {
      "text/html": [
       "<div>\n",
       "<style scoped>\n",
       "    .dataframe tbody tr th:only-of-type {\n",
       "        vertical-align: middle;\n",
       "    }\n",
       "\n",
       "    .dataframe tbody tr th {\n",
       "        vertical-align: top;\n",
       "    }\n",
       "\n",
       "    .dataframe thead th {\n",
       "        text-align: right;\n",
       "    }\n",
       "</style>\n",
       "<table border=\"1\" class=\"dataframe\">\n",
       "  <thead>\n",
       "    <tr style=\"text-align: right;\">\n",
       "      <th></th>\n",
       "      <th>Animal ID</th>\n",
       "      <th>Name_x</th>\n",
       "      <th>DateTimeIntake</th>\n",
       "      <th>MonthYearIntake</th>\n",
       "      <th>Found Location</th>\n",
       "      <th>Intake Type</th>\n",
       "      <th>Intake Condition</th>\n",
       "      <th>Animal Type_x</th>\n",
       "      <th>Sex upon Intake</th>\n",
       "      <th>Age upon Intake</th>\n",
       "      <th>...</th>\n",
       "      <th>Years_in_Shelter</th>\n",
       "      <th>Intake_sex_coding</th>\n",
       "      <th>Intake_date</th>\n",
       "      <th>Intake_time</th>\n",
       "      <th>Intake_AMPM</th>\n",
       "      <th>Outcome_date</th>\n",
       "      <th>Outcome_time</th>\n",
       "      <th>Outcome_AMPM</th>\n",
       "      <th>Calculated_years_in_Shelter</th>\n",
       "      <th>Outcome_sex_coding</th>\n",
       "    </tr>\n",
       "  </thead>\n",
       "  <tbody>\n",
       "    <tr>\n",
       "      <th>count</th>\n",
       "      <td>166390</td>\n",
       "      <td>125666</td>\n",
       "      <td>166390</td>\n",
       "      <td>166390</td>\n",
       "      <td>166390</td>\n",
       "      <td>166390</td>\n",
       "      <td>166390</td>\n",
       "      <td>166390</td>\n",
       "      <td>166389</td>\n",
       "      <td>166390</td>\n",
       "      <td>...</td>\n",
       "      <td>166389.000000</td>\n",
       "      <td>155828.000000</td>\n",
       "      <td>166390</td>\n",
       "      <td>166390</td>\n",
       "      <td>166390</td>\n",
       "      <td>166390</td>\n",
       "      <td>166390</td>\n",
       "      <td>166390</td>\n",
       "      <td>1.663900e+05</td>\n",
       "      <td>155823.000000</td>\n",
       "    </tr>\n",
       "    <tr>\n",
       "      <th>unique</th>\n",
       "      <td>114207</td>\n",
       "      <td>20563</td>\n",
       "      <td>90662</td>\n",
       "      <td>90662</td>\n",
       "      <td>55097</td>\n",
       "      <td>6</td>\n",
       "      <td>11</td>\n",
       "      <td>5</td>\n",
       "      <td>5</td>\n",
       "      <td>52</td>\n",
       "      <td>...</td>\n",
       "      <td>NaN</td>\n",
       "      <td>NaN</td>\n",
       "      <td>2997</td>\n",
       "      <td>720</td>\n",
       "      <td>2</td>\n",
       "      <td>2837</td>\n",
       "      <td>720</td>\n",
       "      <td>2</td>\n",
       "      <td>NaN</td>\n",
       "      <td>NaN</td>\n",
       "    </tr>\n",
       "    <tr>\n",
       "      <th>top</th>\n",
       "      <td>A721033</td>\n",
       "      <td>Lil Bit</td>\n",
       "      <td>09/23/2016 12:00:00 PM</td>\n",
       "      <td>09/23/2016 12:00:00 PM</td>\n",
       "      <td>Austin (TX)</td>\n",
       "      <td>Stray</td>\n",
       "      <td>Normal</td>\n",
       "      <td>Dog</td>\n",
       "      <td>Intact Male</td>\n",
       "      <td>1 year</td>\n",
       "      <td>...</td>\n",
       "      <td>NaN</td>\n",
       "      <td>NaN</td>\n",
       "      <td>2019-05-20 00:00:00</td>\n",
       "      <td>11:01:00</td>\n",
       "      <td>PM</td>\n",
       "      <td>2017-08-19 00:00:00</td>\n",
       "      <td>12:00:00</td>\n",
       "      <td>PM</td>\n",
       "      <td>NaN</td>\n",
       "      <td>NaN</td>\n",
       "    </tr>\n",
       "    <tr>\n",
       "      <th>freq</th>\n",
       "      <td>1089</td>\n",
       "      <td>1103</td>\n",
       "      <td>74</td>\n",
       "      <td>74</td>\n",
       "      <td>34525</td>\n",
       "      <td>109663</td>\n",
       "      <td>147361</td>\n",
       "      <td>105800</td>\n",
       "      <td>48719</td>\n",
       "      <td>30493</td>\n",
       "      <td>...</td>\n",
       "      <td>NaN</td>\n",
       "      <td>NaN</td>\n",
       "      <td>160</td>\n",
       "      <td>752</td>\n",
       "      <td>120756</td>\n",
       "      <td>253</td>\n",
       "      <td>3717</td>\n",
       "      <td>136614</td>\n",
       "      <td>NaN</td>\n",
       "      <td>NaN</td>\n",
       "    </tr>\n",
       "    <tr>\n",
       "      <th>first</th>\n",
       "      <td>NaN</td>\n",
       "      <td>NaN</td>\n",
       "      <td>NaN</td>\n",
       "      <td>NaN</td>\n",
       "      <td>NaN</td>\n",
       "      <td>NaN</td>\n",
       "      <td>NaN</td>\n",
       "      <td>NaN</td>\n",
       "      <td>NaN</td>\n",
       "      <td>NaN</td>\n",
       "      <td>...</td>\n",
       "      <td>NaN</td>\n",
       "      <td>NaN</td>\n",
       "      <td>2013-10-01 00:00:00</td>\n",
       "      <td>NaN</td>\n",
       "      <td>NaN</td>\n",
       "      <td>2013-10-01 00:00:00</td>\n",
       "      <td>NaN</td>\n",
       "      <td>NaN</td>\n",
       "      <td>NaN</td>\n",
       "      <td>NaN</td>\n",
       "    </tr>\n",
       "    <tr>\n",
       "      <th>last</th>\n",
       "      <td>NaN</td>\n",
       "      <td>NaN</td>\n",
       "      <td>NaN</td>\n",
       "      <td>NaN</td>\n",
       "      <td>NaN</td>\n",
       "      <td>NaN</td>\n",
       "      <td>NaN</td>\n",
       "      <td>NaN</td>\n",
       "      <td>NaN</td>\n",
       "      <td>NaN</td>\n",
       "      <td>...</td>\n",
       "      <td>NaN</td>\n",
       "      <td>NaN</td>\n",
       "      <td>2022-01-16 00:00:00</td>\n",
       "      <td>NaN</td>\n",
       "      <td>NaN</td>\n",
       "      <td>2021-07-16 00:00:00</td>\n",
       "      <td>NaN</td>\n",
       "      <td>NaN</td>\n",
       "      <td>NaN</td>\n",
       "      <td>NaN</td>\n",
       "    </tr>\n",
       "    <tr>\n",
       "      <th>mean</th>\n",
       "      <td>NaN</td>\n",
       "      <td>NaN</td>\n",
       "      <td>NaN</td>\n",
       "      <td>NaN</td>\n",
       "      <td>NaN</td>\n",
       "      <td>NaN</td>\n",
       "      <td>NaN</td>\n",
       "      <td>NaN</td>\n",
       "      <td>NaN</td>\n",
       "      <td>NaN</td>\n",
       "      <td>...</td>\n",
       "      <td>0.079152</td>\n",
       "      <td>2.327528</td>\n",
       "      <td>NaN</td>\n",
       "      <td>NaN</td>\n",
       "      <td>NaN</td>\n",
       "      <td>NaN</td>\n",
       "      <td>NaN</td>\n",
       "      <td>NaN</td>\n",
       "      <td>1.313929e+15</td>\n",
       "      <td>2.693235</td>\n",
       "    </tr>\n",
       "    <tr>\n",
       "      <th>std</th>\n",
       "      <td>NaN</td>\n",
       "      <td>NaN</td>\n",
       "      <td>NaN</td>\n",
       "      <td>NaN</td>\n",
       "      <td>NaN</td>\n",
       "      <td>NaN</td>\n",
       "      <td>NaN</td>\n",
       "      <td>NaN</td>\n",
       "      <td>NaN</td>\n",
       "      <td>NaN</td>\n",
       "      <td>...</td>\n",
       "      <td>1.504330</td>\n",
       "      <td>1.095355</td>\n",
       "      <td>NaN</td>\n",
       "      <td>NaN</td>\n",
       "      <td>NaN</td>\n",
       "      <td>NaN</td>\n",
       "      <td>NaN</td>\n",
       "      <td>NaN</td>\n",
       "      <td>2.277480e+16</td>\n",
       "      <td>1.075160</td>\n",
       "    </tr>\n",
       "    <tr>\n",
       "      <th>min</th>\n",
       "      <td>NaN</td>\n",
       "      <td>NaN</td>\n",
       "      <td>NaN</td>\n",
       "      <td>NaN</td>\n",
       "      <td>NaN</td>\n",
       "      <td>NaN</td>\n",
       "      <td>NaN</td>\n",
       "      <td>NaN</td>\n",
       "      <td>NaN</td>\n",
       "      <td>NaN</td>\n",
       "      <td>...</td>\n",
       "      <td>-11.000000</td>\n",
       "      <td>1.000000</td>\n",
       "      <td>NaN</td>\n",
       "      <td>NaN</td>\n",
       "      <td>NaN</td>\n",
       "      <td>NaN</td>\n",
       "      <td>NaN</td>\n",
       "      <td>NaN</td>\n",
       "      <td>-2.529792e+17</td>\n",
       "      <td>1.000000</td>\n",
       "    </tr>\n",
       "    <tr>\n",
       "      <th>25%</th>\n",
       "      <td>NaN</td>\n",
       "      <td>NaN</td>\n",
       "      <td>NaN</td>\n",
       "      <td>NaN</td>\n",
       "      <td>NaN</td>\n",
       "      <td>NaN</td>\n",
       "      <td>NaN</td>\n",
       "      <td>NaN</td>\n",
       "      <td>NaN</td>\n",
       "      <td>NaN</td>\n",
       "      <td>...</td>\n",
       "      <td>0.000000</td>\n",
       "      <td>1.000000</td>\n",
       "      <td>NaN</td>\n",
       "      <td>NaN</td>\n",
       "      <td>NaN</td>\n",
       "      <td>NaN</td>\n",
       "      <td>NaN</td>\n",
       "      <td>NaN</td>\n",
       "      <td>8.640000e+13</td>\n",
       "      <td>2.000000</td>\n",
       "    </tr>\n",
       "    <tr>\n",
       "      <th>50%</th>\n",
       "      <td>NaN</td>\n",
       "      <td>NaN</td>\n",
       "      <td>NaN</td>\n",
       "      <td>NaN</td>\n",
       "      <td>NaN</td>\n",
       "      <td>NaN</td>\n",
       "      <td>NaN</td>\n",
       "      <td>NaN</td>\n",
       "      <td>NaN</td>\n",
       "      <td>NaN</td>\n",
       "      <td>...</td>\n",
       "      <td>0.000000</td>\n",
       "      <td>2.000000</td>\n",
       "      <td>NaN</td>\n",
       "      <td>NaN</td>\n",
       "      <td>NaN</td>\n",
       "      <td>NaN</td>\n",
       "      <td>NaN</td>\n",
       "      <td>NaN</td>\n",
       "      <td>4.320000e+14</td>\n",
       "      <td>2.000000</td>\n",
       "    </tr>\n",
       "    <tr>\n",
       "      <th>75%</th>\n",
       "      <td>NaN</td>\n",
       "      <td>NaN</td>\n",
       "      <td>NaN</td>\n",
       "      <td>NaN</td>\n",
       "      <td>NaN</td>\n",
       "      <td>NaN</td>\n",
       "      <td>NaN</td>\n",
       "      <td>NaN</td>\n",
       "      <td>NaN</td>\n",
       "      <td>NaN</td>\n",
       "      <td>...</td>\n",
       "      <td>0.000000</td>\n",
       "      <td>3.000000</td>\n",
       "      <td>NaN</td>\n",
       "      <td>NaN</td>\n",
       "      <td>NaN</td>\n",
       "      <td>NaN</td>\n",
       "      <td>NaN</td>\n",
       "      <td>NaN</td>\n",
       "      <td>2.073600e+15</td>\n",
       "      <td>4.000000</td>\n",
       "    </tr>\n",
       "    <tr>\n",
       "      <th>max</th>\n",
       "      <td>NaN</td>\n",
       "      <td>NaN</td>\n",
       "      <td>NaN</td>\n",
       "      <td>NaN</td>\n",
       "      <td>NaN</td>\n",
       "      <td>NaN</td>\n",
       "      <td>NaN</td>\n",
       "      <td>NaN</td>\n",
       "      <td>NaN</td>\n",
       "      <td>NaN</td>\n",
       "      <td>...</td>\n",
       "      <td>11.000000</td>\n",
       "      <td>4.000000</td>\n",
       "      <td>NaN</td>\n",
       "      <td>NaN</td>\n",
       "      <td>NaN</td>\n",
       "      <td>NaN</td>\n",
       "      <td>NaN</td>\n",
       "      <td>NaN</td>\n",
       "      <td>2.398464e+17</td>\n",
       "      <td>4.000000</td>\n",
       "    </tr>\n",
       "  </tbody>\n",
       "</table>\n",
       "<p>13 rows × 37 columns</p>\n",
       "</div>"
      ],
      "text/plain": [
       "       Animal ID   Name_x          DateTimeIntake         MonthYearIntake  \\\n",
       "count     166390   125666                  166390                  166390   \n",
       "unique    114207    20563                   90662                   90662   \n",
       "top      A721033  Lil Bit  09/23/2016 12:00:00 PM  09/23/2016 12:00:00 PM   \n",
       "freq        1089     1103                      74                      74   \n",
       "first        NaN      NaN                     NaN                     NaN   \n",
       "last         NaN      NaN                     NaN                     NaN   \n",
       "mean         NaN      NaN                     NaN                     NaN   \n",
       "std          NaN      NaN                     NaN                     NaN   \n",
       "min          NaN      NaN                     NaN                     NaN   \n",
       "25%          NaN      NaN                     NaN                     NaN   \n",
       "50%          NaN      NaN                     NaN                     NaN   \n",
       "75%          NaN      NaN                     NaN                     NaN   \n",
       "max          NaN      NaN                     NaN                     NaN   \n",
       "\n",
       "       Found Location Intake Type Intake Condition Animal Type_x  \\\n",
       "count          166390      166390           166390        166390   \n",
       "unique          55097           6               11             5   \n",
       "top       Austin (TX)       Stray           Normal           Dog   \n",
       "freq            34525      109663           147361        105800   \n",
       "first             NaN         NaN              NaN           NaN   \n",
       "last              NaN         NaN              NaN           NaN   \n",
       "mean              NaN         NaN              NaN           NaN   \n",
       "std               NaN         NaN              NaN           NaN   \n",
       "min               NaN         NaN              NaN           NaN   \n",
       "25%               NaN         NaN              NaN           NaN   \n",
       "50%               NaN         NaN              NaN           NaN   \n",
       "75%               NaN         NaN              NaN           NaN   \n",
       "max               NaN         NaN              NaN           NaN   \n",
       "\n",
       "       Sex upon Intake Age upon Intake  ... Years_in_Shelter  \\\n",
       "count           166389          166390  ...    166389.000000   \n",
       "unique               5              52  ...              NaN   \n",
       "top        Intact Male          1 year  ...              NaN   \n",
       "freq             48719           30493  ...              NaN   \n",
       "first              NaN             NaN  ...              NaN   \n",
       "last               NaN             NaN  ...              NaN   \n",
       "mean               NaN             NaN  ...         0.079152   \n",
       "std                NaN             NaN  ...         1.504330   \n",
       "min                NaN             NaN  ...       -11.000000   \n",
       "25%                NaN             NaN  ...         0.000000   \n",
       "50%                NaN             NaN  ...         0.000000   \n",
       "75%                NaN             NaN  ...         0.000000   \n",
       "max                NaN             NaN  ...        11.000000   \n",
       "\n",
       "       Intake_sex_coding          Intake_date Intake_time Intake_AMPM  \\\n",
       "count      155828.000000               166390      166390      166390   \n",
       "unique               NaN                 2997         720           2   \n",
       "top                  NaN  2019-05-20 00:00:00    11:01:00          PM   \n",
       "freq                 NaN                  160         752      120756   \n",
       "first                NaN  2013-10-01 00:00:00         NaN         NaN   \n",
       "last                 NaN  2022-01-16 00:00:00         NaN         NaN   \n",
       "mean            2.327528                  NaN         NaN         NaN   \n",
       "std             1.095355                  NaN         NaN         NaN   \n",
       "min             1.000000                  NaN         NaN         NaN   \n",
       "25%             1.000000                  NaN         NaN         NaN   \n",
       "50%             2.000000                  NaN         NaN         NaN   \n",
       "75%             3.000000                  NaN         NaN         NaN   \n",
       "max             4.000000                  NaN         NaN         NaN   \n",
       "\n",
       "               Outcome_date Outcome_time Outcome_AMPM  \\\n",
       "count                166390       166390       166390   \n",
       "unique                 2837          720            2   \n",
       "top     2017-08-19 00:00:00     12:00:00           PM   \n",
       "freq                    253         3717       136614   \n",
       "first   2013-10-01 00:00:00          NaN          NaN   \n",
       "last    2021-07-16 00:00:00          NaN          NaN   \n",
       "mean                    NaN          NaN          NaN   \n",
       "std                     NaN          NaN          NaN   \n",
       "min                     NaN          NaN          NaN   \n",
       "25%                     NaN          NaN          NaN   \n",
       "50%                     NaN          NaN          NaN   \n",
       "75%                     NaN          NaN          NaN   \n",
       "max                     NaN          NaN          NaN   \n",
       "\n",
       "       Calculated_years_in_Shelter Outcome_sex_coding  \n",
       "count                 1.663900e+05      155823.000000  \n",
       "unique                         NaN                NaN  \n",
       "top                            NaN                NaN  \n",
       "freq                           NaN                NaN  \n",
       "first                          NaN                NaN  \n",
       "last                           NaN                NaN  \n",
       "mean                  1.313929e+15           2.693235  \n",
       "std                   2.277480e+16           1.075160  \n",
       "min                  -2.529792e+17           1.000000  \n",
       "25%                   8.640000e+13           2.000000  \n",
       "50%                   4.320000e+14           2.000000  \n",
       "75%                   2.073600e+15           4.000000  \n",
       "max                   2.398464e+17           4.000000  \n",
       "\n",
       "[13 rows x 37 columns]"
      ]
     },
     "execution_count": 235,
     "metadata": {},
     "output_type": "execute_result"
    }
   ],
   "source": [
    "shelter_merged.describe(include='all')"
   ]
  },
  {
   "cell_type": "code",
   "execution_count": 40,
   "id": "4bb96348",
   "metadata": {},
   "outputs": [
    {
     "data": {
      "text/plain": [
       "Text(0.5, 1.0, 'Intake Age Distribution')"
      ]
     },
     "execution_count": 40,
     "metadata": {},
     "output_type": "execute_result"
    },
    {
     "data": {
      "image/png": "[encoded data removed]",
      "text/plain": [
       "<Figure size 432x288 with 1 Axes>"
      ]
     },
     "metadata": {
      "needs_background": "light"
     },
     "output_type": "display_data"
    }
   ],
   "source": [
    "shelter_merged.Intake_Age_Number.hist(grid=False, bins=10)\n",
    "plt.xlabel('Intake_Age')\n",
    "plt.ylabel('Count')\n",
    "plt.title('Intake Age Distribution')"
   ]
  },
  {
   "cell_type": "code",
   "execution_count": 50,
   "id": "c0389f7d",
   "metadata": {},
   "outputs": [
    {
     "data": {
      "text/plain": [
       "Text(0.5, 1.0, 'Outcome Age Distribution')"
      ]
     },
     "execution_count": 50,
     "metadata": {},
     "output_type": "execute_result"
    },
    {
     "data": {
      "image/png": "[encoded data removed]",
      "text/plain": [
       "<Figure size 432x288 with 1 Axes>"
      ]
     },
     "metadata": {
      "needs_background": "light"
     },
     "output_type": "display_data"
    }
   ],
   "source": [
    "shelter_merged.Outcome_Age_Number.hist(grid=False, bins=10)\n",
    "plt.xlabel('Outcome_Age')\n",
    "plt.ylabel('Count')\n",
    "plt.title('Outcome Age Distribution')"
   ]
  },
  {
   "cell_type": "code",
   "execution_count": 236,
   "id": "4f7b2bf6",
   "metadata": {},
   "outputs": [
    {
     "data": {
      "text/plain": [
       "Text(0.5, 1.0, 'Years in Shelter')"
      ]
     },
     "execution_count": 236,
     "metadata": {},
     "output_type": "execute_result"
    },
    {
     "data": {
      "image/png": "[encoded data removed]",
      "text/plain": [
       "<Figure size 432x288 with 1 Axes>"
      ]
     },
     "metadata": {
      "needs_background": "light"
     },
     "output_type": "display_data"
    }
   ],
   "source": [
    "shelter_merged.Calculated_years_in_Shelter.hist(grid=False, bins=10)\n",
    "plt.xlabel('Years_in_Shelter')\n",
    "plt.ylabel('Count')\n",
    "plt.title('Years in Shelter')"
   ]
  },
  {
   "cell_type": "code",
   "execution_count": 74,
   "id": "5d9fa60a",
   "metadata": {},
   "outputs": [
    {
     "data": {
      "text/plain": [
       "Text(0.5, 1.0, 'Sex at Intake')"
      ]
     },
     "execution_count": 74,
     "metadata": {},
     "output_type": "execute_result"
    },
    {
     "data": {
      "image/png": "[encoded data removed]",
      "text/plain": [
       "<Figure size 432x288 with 1 Axes>"
      ]
     },
     "metadata": {
      "needs_background": "light"
     },
     "output_type": "display_data"
    }
   ],
   "source": [
    "shelter_merged.Intake_sex_coding.hist(grid=False, bins=4)\n",
    "plt.xlabel('Sex at intake: 1 = Intact male, 2 = Neutered male, 3 = Intact female, 4 = Spayed female')\n",
    "plt.ylabel('Count')\n",
    "plt.title('Sex at Intake')"
   ]
  },
  {
   "cell_type": "code",
   "execution_count": 162,
   "id": "37b32883",
   "metadata": {},
   "outputs": [
    {
     "data": {
      "text/plain": [
       "Text(0.5, 1.0, 'Sex at Outcome')"
      ]
     },
     "execution_count": 162,
     "metadata": {},
     "output_type": "execute_result"
    },
    {
     "data": {
      "image/png": "[encoded data removed]",
      "text/plain": [
       "<Figure size 432x288 with 1 Axes>"
      ]
     },
     "metadata": {
      "needs_background": "light"
     },
     "output_type": "display_data"
    }
   ],
   "source": [
    "shelter_merged.Outcome_sex_coding.hist(grid=False, bins=4)\n",
    "plt.xlabel('Sex at outcome: 1 = Intact male, 2 = Neutered male, 3 = Intact female, 4 = Spayed female')\n",
    "plt.ylabel('Count')\n",
    "plt.title('Sex at Outcome')"
   ]
  },
  {
   "cell_type": "code",
   "execution_count": 239,
   "id": "d9c99434",
   "metadata": {},
   "outputs": [
    {
     "data": {
      "image/png": "[encoded data removed]",
      "text/plain": [
       "<Figure size 720x504 with 1 Axes>"
      ]
     },
     "metadata": {},
     "output_type": "display_data"
    }
   ],
   "source": [
    "def func(pct, allvalues):\n",
    "    absolute = int(pct / 100.*np.sum(allvalues))\n",
    "    return \"{:.1f}%\\n({:d} g)\".format(pct, absolute)\n",
    "\n",
    "\n",
    "fig = plt.figure(figsize =(10, 7))\n",
    "plt.pie(Animal_count, autopct = lambda pct: func(pct, Animal_count), labels = Animals)\n",
    " \n",
    "# show plot\n",
    "plt.show()"
   ]
  },
  {
   "cell_type": "code",
   "execution_count": 209,
   "id": "607cdf68",
   "metadata": {},
   "outputs": [
    {
     "data": {
      "image/png": "[encoded data removed]",
      "text/plain": [
       "<Figure size 720x504 with 1 Axes>"
      ]
     },
     "metadata": {},
     "output_type": "display_data"
    }
   ],
   "source": [
    "fig = plt.figure(figsize =(10, 7))\n",
    "plt.pie(Intake_count, autopct = lambda pct: func(pct, Intake_count), labels = Intakes)\n",
    " \n",
    "# show plot\n",
    "plt.show()"
   ]
  },
  {
   "cell_type": "code",
   "execution_count": 210,
   "id": "f3bac67f",
   "metadata": {},
   "outputs": [
    {
     "data": {
      "image/png": "[encoded data removed]",
      "text/plain": [
       "<Figure size 720x504 with 1 Axes>"
      ]
     },
     "metadata": {},
     "output_type": "display_data"
    }
   ],
   "source": [
    "fig = plt.figure(figsize =(10, 7))\n",
    "plt.pie(Outcome_count, autopct = lambda pct: func(pct, Outcome_count), labels = Outcomes)\n",
    " \n",
    "# show plot\n",
    "plt.show()"
   ]
  },
  {
   "cell_type": "code",
   "execution_count": 107,
   "id": "3872dcfb",
   "metadata": {
    "scrolled": true
   },
   "outputs": [
    {
     "data": {
      "image/png": "[encoded data removed]",
      "text/plain": [
       "<Figure size 432x288 with 1 Axes>"
      ]
     },
     "metadata": {
      "needs_background": "light"
     },
     "output_type": "display_data"
    }
   ],
   "source": [
    "plt.scatter(shelter_merged['Intake_Age_Number'], shelter_merged['Years_in_Shelter'])\n",
    "plt.show()"
   ]
  },
  {
   "cell_type": "code",
   "execution_count": 118,
   "id": "92440d14",
   "metadata": {},
   "outputs": [
    {
     "data": {
      "image/png": "[encoded data removed]",
      "text/plain": [
       "<Figure size 432x288 with 1 Axes>"
      ]
     },
     "metadata": {
      "needs_background": "light"
     },
     "output_type": "display_data"
    }
   ],
   "source": [
    "plt.scatter(shelter_merged['Intake_Age_Number'], shelter_merged['Calculated_years_in_Shelter'])\n",
    "plt.show()"
   ]
  },
  {
   "cell_type": "code",
   "execution_count": 125,
   "id": "cd339142",
   "metadata": {},
   "outputs": [
    {
     "data": {
      "image/png": "[encoded data removed]",
      "text/plain": [
       "<Figure size 432x288 with 1 Axes>"
      ]
     },
     "metadata": {
      "needs_background": "light"
     },
     "output_type": "display_data"
    }
   ],
   "source": [
    "plt.scatter(shelter_merged['Intake_Age_Number'], shelter_merged['Intake Type'])\n",
    "plt.show()"
   ]
  },
  {
   "cell_type": "code",
   "execution_count": 234,
   "id": "8deade1f",
   "metadata": {},
   "outputs": [
    {
     "data": {
      "image/png": "[encoded data removed]",
      "text/plain": [
       "<Figure size 432x288 with 1 Axes>"
      ]
     },
     "metadata": {
      "needs_background": "light"
     },
     "output_type": "display_data"
    }
   ],
   "source": [
    "plt.scatter(shelter_merged['Intake_Age_Number'], shelter_merged['Calculated_years_in_Shelter'])\n",
    "thinkplot.Config(xlabel='Age in years', ylabel='years in shelter')\n",
    "plt.show()"
   ]
  },
  {
   "cell_type": "code",
   "execution_count": 233,
   "id": "aa2ec441",
   "metadata": {
    "scrolled": true
   },
   "outputs": [
    {
     "data": {
      "image/png": "[encoded data removed]",
      "text/plain": [
       "<Figure size 432x288 with 1 Axes>"
      ]
     },
     "metadata": {
      "needs_background": "light"
     },
     "output_type": "display_data"
    }
   ],
   "source": [
    "plt.scatter(shelter_merged['Intake_date'], shelter_merged['Calculated_years_in_Shelter'])\n",
    "thinkplot.Config(xlabel='Intake date', ylabel='years')\n",
    "plt.show()"
   ]
  },
  {
   "cell_type": "code",
   "execution_count": 211,
   "id": "9f94bb71",
   "metadata": {},
   "outputs": [
    {
     "data": {
      "image/png": "[encoded data removed]",
      "text/plain": [
       "<Figure size 432x288 with 1 Axes>"
      ]
     },
     "metadata": {
      "needs_background": "light"
     },
     "output_type": "display_data"
    }
   ],
   "source": [
    "intake_age_hist1 = thinkstats2.Hist(shelter_merged['Intake_Age_Number'].head(100), label='intake age')\n",
    "pmf = intake_age_hist1.Copy()\n",
    "thinkplot.Hist(pmf)\n",
    "thinkplot.Config(xlabel='Age in years', ylabel='PMF')\n"
   ]
  },
  {
   "cell_type": "code",
   "execution_count": 217,
   "id": "177b4679",
   "metadata": {
    "scrolled": true
   },
   "outputs": [
    {
     "data": {
      "image/png": "[encoded data removed]",
      "text/plain": [
       "<Figure size 432x288 with 1 Axes>"
      ]
     },
     "metadata": {
      "needs_background": "light"
     },
     "output_type": "display_data"
    }
   ],
   "source": [
    "intake_age_hist2 = thinkstats2.Hist(shelter_merged['Intake_Age_Number']>(5), label='intake age')\n",
    "pmf2 = intake_age_hist2.Copy()\n",
    "thinkplot.Hist(pmf2)\n",
    "thinkplot.Config(xlabel='Age in years', ylabel='PMF')"
   ]
  },
  {
   "cell_type": "code",
   "execution_count": 218,
   "id": "1eac7641",
   "metadata": {
    "scrolled": true
   },
   "outputs": [
    {
     "data": {
      "image/png": "[encoded data removed]",
      "text/plain": [
       "<Figure size 432x288 with 1 Axes>"
      ]
     },
     "metadata": {
      "needs_background": "light"
     },
     "output_type": "display_data"
    }
   ],
   "source": [
    "intake_age_hist2 = thinkstats2.Hist(shelter_merged['Intake_Age_Number']<(5), label='intake age')\n",
    "pmf2 = intake_age_hist2.Copy()\n",
    "thinkplot.Hist(pmf2)\n",
    "thinkplot.Config(xlabel='Age in years', ylabel='PMF')"
   ]
  },
  {
   "cell_type": "code",
   "execution_count": 223,
   "id": "f3ce0dee",
   "metadata": {},
   "outputs": [
    {
     "data": {
      "image/png": "[encoded data removed]",
      "text/plain": [
       "<Figure size 432x288 with 1 Axes>"
      ]
     },
     "metadata": {
      "needs_background": "light"
     },
     "output_type": "display_data"
    }
   ],
   "source": [
    "age_cdf = thinkstats2.Cdf(shelter_merged['Intake_Age_Number'], label='Intake_Age_Number')\n",
    "thinkplot.Cdf(age_cdf)\n",
    "thinkplot.Config(xlabel='years', ylabel='CDF')"
   ]
  },
  {
   "cell_type": "code",
   "execution_count": 231,
   "id": "88e924dc",
   "metadata": {},
   "outputs": [
    {
     "data": {
      "image/png": "[encoded data removed]",
      "text/plain": [
       "<Figure size 432x288 with 1 Axes>"
      ]
     },
     "metadata": {
      "needs_background": "light"
     },
     "output_type": "display_data"
    }
   ],
   "source": [
    "time_cdf = thinkstats2.Cdf(shelter_merged['Calculated_years_in_Shelter'], label='Years_in_Shelter')\n",
    "thinkplot.Cdf(time_cdf)\n",
    "thinkplot.Config(xlabel='years', ylabel='CDF')"
   ]
  },
  {
   "cell_type": "code",
   "execution_count": 189,
   "id": "99141a63",
   "metadata": {},
   "outputs": [
    {
     "data": {
      "text/html": [
       "<table class=\"simpletable\">\n",
       "<caption>OLS Regression Results</caption>\n",
       "<tr>\n",
       "  <th>Dep. Variable:</th>    <td>Intake_Age_Number</td> <th>  R-squared:         </th>  <td>  -1.444</td>  \n",
       "</tr>\n",
       "<tr>\n",
       "  <th>Model:</th>                   <td>OLS</td>        <th>  Adj. R-squared:    </th>  <td>  -1.444</td>  \n",
       "</tr>\n",
       "<tr>\n",
       "  <th>Method:</th>             <td>Least Squares</td>   <th>  F-statistic:       </th>  <td>     nan</td>  \n",
       "</tr>\n",
       "<tr>\n",
       "  <th>Date:</th>             <td>Thu, 02 Jun 2022</td>  <th>  Prob (F-statistic):</th>   <td>   nan</td>   \n",
       "</tr>\n",
       "<tr>\n",
       "  <th>Time:</th>                 <td>23:59:10</td>      <th>  Log-Likelihood:    </th> <td>-4.8870e+05</td>\n",
       "</tr>\n",
       "<tr>\n",
       "  <th>No. Observations:</th>      <td>166390</td>       <th>  AIC:               </th>  <td>9.774e+05</td> \n",
       "</tr>\n",
       "<tr>\n",
       "  <th>Df Residuals:</th>          <td>166389</td>       <th>  BIC:               </th>  <td>9.774e+05</td> \n",
       "</tr>\n",
       "<tr>\n",
       "  <th>Df Model:</th>              <td>     0</td>       <th>                     </th>      <td> </td>     \n",
       "</tr>\n",
       "<tr>\n",
       "  <th>Covariance Type:</th>      <td>nonrobust</td>     <th>                     </th>      <td> </td>     \n",
       "</tr>\n",
       "</table>\n",
       "<table class=\"simpletable\">\n",
       "<tr>\n",
       "               <td></td>                  <th>coef</th>     <th>std err</th>      <th>t</th>      <th>P>|t|</th>  <th>[0.025</th>    <th>0.975]</th>  \n",
       "</tr>\n",
       "<tr>\n",
       "  <th>Intercept</th>                   <td> 1.543e-36</td> <td> 1.24e-36</td> <td>    1.246</td> <td> 0.213</td> <td>-8.84e-37</td> <td> 3.97e-36</td>\n",
       "</tr>\n",
       "<tr>\n",
       "  <th>Calculated_years_in_Shelter</th> <td>  6.11e-19</td> <td>  4.9e-19</td> <td>    1.246</td> <td> 0.213</td> <td> -3.5e-19</td> <td> 1.57e-18</td>\n",
       "</tr>\n",
       "</table>\n",
       "<table class=\"simpletable\">\n",
       "<tr>\n",
       "  <th>Omnibus:</th>       <td>44383.548</td> <th>  Durbin-Watson:     </th>  <td>   0.580</td> \n",
       "</tr>\n",
       "<tr>\n",
       "  <th>Prob(Omnibus):</th>  <td> 0.000</td>   <th>  Jarque-Bera (JB):  </th> <td>100619.999</td>\n",
       "</tr>\n",
       "<tr>\n",
       "  <th>Skew:</th>           <td> 1.533</td>   <th>  Prob(JB):          </th>  <td>    0.00</td> \n",
       "</tr>\n",
       "<tr>\n",
       "  <th>Kurtosis:</th>       <td> 5.262</td>   <th>  Cond. No.          </th>  <td>2.29e+16</td> \n",
       "</tr>\n",
       "</table><br/><br/>Notes:<br/>[1] Standard Errors assume that the covariance matrix of the errors is correctly specified.<br/>[2] The condition number is large, 2.29e+16. This might indicate that there are<br/>strong multicollinearity or other numerical problems."
      ],
      "text/plain": [
       "<class 'statsmodels.iolib.summary.Summary'>\n",
       "\"\"\"\n",
       "                            OLS Regression Results                            \n",
       "==============================================================================\n",
       "Dep. Variable:      Intake_Age_Number   R-squared:                      -1.444\n",
       "Model:                            OLS   Adj. R-squared:                 -1.444\n",
       "Method:                 Least Squares   F-statistic:                       nan\n",
       "Date:                Thu, 02 Jun 2022   Prob (F-statistic):                nan\n",
       "Time:                        23:59:10   Log-Likelihood:            -4.8870e+05\n",
       "No. Observations:              166390   AIC:                         9.774e+05\n",
       "Df Residuals:                  166389   BIC:                         9.774e+05\n",
       "Df Model:                           0                                         \n",
       "Covariance Type:            nonrobust                                         \n",
       "===============================================================================================\n",
       "                                  coef    std err          t      P>|t|      [0.025      0.975]\n",
       "-----------------------------------------------------------------------------------------------\n",
       "Intercept                    1.543e-36   1.24e-36      1.246      0.213   -8.84e-37    3.97e-36\n",
       "Calculated_years_in_Shelter   6.11e-19    4.9e-19      1.246      0.213    -3.5e-19    1.57e-18\n",
       "==============================================================================\n",
       "Omnibus:                    44383.548   Durbin-Watson:                   0.580\n",
       "Prob(Omnibus):                  0.000   Jarque-Bera (JB):           100619.999\n",
       "Skew:                           1.533   Prob(JB):                         0.00\n",
       "Kurtosis:                       5.262   Cond. No.                     2.29e+16\n",
       "==============================================================================\n",
       "\n",
       "Notes:\n",
       "[1] Standard Errors assume that the covariance matrix of the errors is correctly specified.\n",
       "[2] The condition number is large, 2.29e+16. This might indicate that there are\n",
       "strong multicollinearity or other numerical problems.\n",
       "\"\"\""
      ]
     },
     "execution_count": 189,
     "metadata": {},
     "output_type": "execute_result"
    }
   ],
   "source": [
    "import statsmodels.formula.api as smf\n",
    "model = smf.ols('Intake_Age_Number ~ Calculated_years_in_Shelter', data=shelter_merged)\n",
    "results = model.fit()\n",
    "results.summary()"
   ]
  },
  {
   "cell_type": "code",
   "execution_count": 133,
   "id": "1eb43582",
   "metadata": {},
   "outputs": [
    {
     "name": "stdout",
     "output_type": "stream",
     "text": [
      "Animal ID                              object\n",
      "Name_x                                 object\n",
      "DateTimeIntake                         object\n",
      "MonthYearIntake                        object\n",
      "Found Location                         object\n",
      "Intake Type                            object\n",
      "Intake Condition                       object\n",
      "Animal Type_x                          object\n",
      "Sex upon Intake                        object\n",
      "Age upon Intake                        object\n",
      "Breed_x                                object\n",
      "Color_x                                object\n",
      "Name_y                                 object\n",
      "DateTimeOutcome                        object\n",
      "MonthYearOutcome                       object\n",
      "Date of Birth                          object\n",
      "Outcome Type                           object\n",
      "Outcome Subtype                        object\n",
      "Animal Type_y                          object\n",
      "Sex upon Outcome                       object\n",
      "Age upon Outcome                       object\n",
      "Breed_y                                object\n",
      "Color_y                                object\n",
      "Intake_Age_Number                       int64\n",
      "Intake_Age_Unit                        object\n",
      "Outcome_Age_Number                    float64\n",
      "Outcome_Age_Unit                       object\n",
      "Years_in_Shelter                      float64\n",
      "Intake_sex_coding                     float64\n",
      "Intake_date                    datetime64[ns]\n",
      "Intake_time                            object\n",
      "Intake_AMPM                            object\n",
      "Outcome_date                   datetime64[ns]\n",
      "Outcome_time                           object\n",
      "Outcome_AMPM                           object\n",
      "Calculated_years_in_Shelter             int64\n",
      "dtype: object\n"
     ]
    }
   ],
   "source": [
    "print(shelter_merged.dtypes)"
   ]
  },
  {
   "cell_type": "code",
   "execution_count": null,
   "id": "fbc6801e",
   "metadata": {},
   "outputs": [],
   "source": []
  }
 ],
 "metadata": {
  "kernelspec": {
   "display_name": "Python 3 (ipykernel)",
   "language": "python",
   "name": "python3"
  },
  "language_info": {
   "codemirror_mode": {
    "name": "ipython",
    "version": 3
   },
   "file_extension": ".py",
   "mimetype": "text/x-python",
   "name": "python",
   "nbconvert_exporter": "python",
   "pygments_lexer": "ipython3",
   "version": "3.9.7"
  }
 },
 "nbformat": 4,
 "nbformat_minor": 5
}
